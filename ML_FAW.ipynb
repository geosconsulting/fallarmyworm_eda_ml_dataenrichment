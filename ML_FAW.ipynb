{
 "cells": [
  {
   "cell_type": "markdown",
   "id": "1f30c54a-d0de-4a64-b760-f5872321459c",
   "metadata": {
    "heading_collapsed": true,
    "jp-MarkdownHeadingCollapsed": true,
    "pycharm": {
     "name": "#%% md\n"
    },
    "tags": []
   },
   "source": [
    "# Intro"
   ]
  },
  {
   "cell_type": "markdown",
   "id": "17b3933b-36e0-4752-b9ef-2a8d841c7075",
   "metadata": {
    "hidden": true,
    "pycharm": {
     "name": "#%% md\n"
    },
    "tags": []
   },
   "source": [
    "Basic terms related to Confusion matrix:\n",
    "\n",
    "* <b>True positives (TP):</b> These are cases in which we predicted yes (employees will leave the organisation), and employees actually leave i.e 100\n",
    "* <b>True negatives (TN):</b> We predicted no(employees will not leave the organisation) and they don’t leave i.e 50\n",
    "* <b>False positives (FP):</b> We predicted yes they will leave, but they don’t leave. (Also known as a “Type I error.”) i.e 10\n",
    "* <b>False negatives (FN):</b> We predicted no they will not leave, but they actually leave (Also known as a “Type II error.”) i.e 5\n",
    "\n",
    "Evaluating a Classification Model\n",
    "* <b>Accuracy :</b> (TP+TN)/Total . Describes overall, how often the classifier correct. i.e 100+50/165 Measures of Accuracy\n",
    "\n",
    "Sensitivity and specificity are statistical measures of the performance of a binary classification test:\n",
    "\n",
    "* <b>Sensitivity/Recall =</b> TP/(TP + FN). When it’s actually yes, how often does it predict yes? i.e 100/(100+5)\n",
    "* <b>Specificity =</b> TN/(TN + FP).When it’s actually no, how often does it predict no?? i.e 50/(50+10)\n",
    "* <b>Precision =</b> TP/predicted yes. When it predicts yes, how often is it correct?100/(10+100)"
   ]
  },
  {
   "cell_type": "markdown",
   "id": "c3075e0e-c22e-42a3-a3e0-69b9da6ffb5d",
   "metadata": {
    "pycharm": {
     "name": "#%% md\n"
    },
    "tags": []
   },
   "source": [
    "# Libraries"
   ]
  },
  {
   "cell_type": "code",
   "execution_count": 1,
   "id": "847644ab-7e31-4463-8912-22772348499f",
   "metadata": {
    "ExecuteTime": {
     "end_time": "2022-08-08T10:17:14.177240Z",
     "start_time": "2022-08-08T10:16:53.108849Z"
    },
    "pycharm": {
     "name": "#%%\n"
    },
    "tags": []
   },
   "outputs": [],
   "source": [
    "import numpy as np\n",
    "import matplotlib.pyplot as plt\n",
    "from matplotlib import rcParams\n",
    "\n",
    "import shapely\n",
    "import pyproj\n",
    "import fiona\n",
    "\n",
    "import pandas as pd\n",
    "from pandas.api.types import is_datetime64_any_dtype as is_datetime, is_string_dtype, is_numeric_dtype\n",
    "import bokeh\n",
    "import pandas_bokeh\n",
    "import geopandas as gpd\n",
    "import sqlalchemy as db\n",
    "import geoalchemy2\n",
    "import ipywidgets as wgts\n",
    "import ipyleaflet\n",
    "from IPython.display import display, HTML\n",
    "from IPython.display import Image\n",
    "import seaborn as sns\n",
    "import warnings as wrn\n",
    "# import missingno as msno\n",
    "import math\n",
    "from collections import Counter"
   ]
  },
  {
   "cell_type": "code",
   "execution_count": 2,
   "id": "cd02146c-723e-492e-b544-9d1b36bec4a8",
   "metadata": {
    "ExecuteTime": {
     "end_time": "2022-08-08T10:17:14.226340Z",
     "start_time": "2022-08-08T10:17:14.209924Z"
    },
    "pycharm": {
     "name": "#%%\n"
    }
   },
   "outputs": [
    {
     "data": {
      "text/html": [
       "<style>.container { width:90% !important; }</style>"
      ],
      "text/plain": [
       "<IPython.core.display.HTML object>"
      ]
     },
     "metadata": {},
     "output_type": "display_data"
    }
   ],
   "source": [
    "sns.set(rc={'figure.figsize':(20,12)})\n",
    "# pandas_bokeh.output_notebook()\n",
    "# pd.set_option('plotting.backend', 'pandas_bokeh')\n",
    "wrn.filterwarnings('ignore')\n",
    "%config Completer.use_jedi = False\n",
    "display(HTML(\"<style>.container { width:90% !important; }</style>\"))"
   ]
  },
  {
   "cell_type": "code",
   "execution_count": 3,
   "id": "474797b4-2118-47d5-abc0-6e06be586780",
   "metadata": {
    "ExecuteTime": {
     "end_time": "2022-08-08T10:17:40.727779Z",
     "start_time": "2022-08-08T10:17:24.113531Z"
    },
    "pycharm": {
     "name": "#%%\n"
    }
   },
   "outputs": [],
   "source": [
    "from sklearn.preprocessing import LabelEncoder\n",
    "from sklearn.linear_model import LogisticRegression \n",
    "from sklearn.model_selection import train_test_split\n",
    "from sklearn.metrics import accuracy_score\n",
    "from sklearn.model_selection import cross_val_score, RepeatedStratifiedKFold\n",
    "from sklearn.metrics import classification_report\n",
    "from sklearn.preprocessing import MinMaxScaler\n",
    "import scikitplot as skplt\n",
    "from sklearn.ensemble import RandomForestClassifier\n",
    "from imblearn.under_sampling import RandomUnderSampler"
   ]
  },
  {
   "cell_type": "markdown",
   "id": "99fddb41-c03e-44ab-85af-2272d55b0742",
   "metadata": {
    "pycharm": {
     "name": "#%% md\n"
    },
    "tags": []
   },
   "source": [
    "# Data Loading"
   ]
  },
  {
   "cell_type": "code",
   "execution_count": 4,
   "id": "752d9216-1f43-415d-85c2-33e34f5a802d",
   "metadata": {
    "ExecuteTime": {
     "end_time": "2022-08-08T10:17:40.984697Z",
     "start_time": "2022-08-08T10:17:40.759892Z"
    },
    "pycharm": {
     "name": "#%%\n"
    }
   },
   "outputs": [],
   "source": [
    "engine = db.create_engine('postgresql+psycopg2://postgres@localhost:5432/ml_faw')\n",
    "conn = engine.connect()"
   ]
  },
  {
   "cell_type": "code",
   "execution_count": 5,
   "id": "e3320c04",
   "metadata": {
    "ExecuteTime": {
     "end_time": "2022-08-08T10:17:41.239169Z",
     "start_time": "2022-08-08T10:17:41.016897Z"
    }
   },
   "outputs": [
    {
     "data": {
      "text/plain": [
       "dict_keys(['precipitation', 'temperatures', 'fcover', 'sm', 'enriched_data'])"
      ]
     },
     "execution_count": 5,
     "metadata": {},
     "output_type": "execute_result"
    }
   ],
   "source": [
    "metadata = db.MetaData()\n",
    "metadata.reflect(engine)\n",
    "metadata.tables.keys()"
   ]
  },
  {
   "cell_type": "code",
   "execution_count": 6,
   "id": "d3f1fa77",
   "metadata": {
    "ExecuteTime": {
     "end_time": "2022-08-08T10:17:41.381480Z",
     "start_time": "2022-08-08T10:17:41.270980Z"
    }
   },
   "outputs": [
    {
     "data": {
      "text/html": [
       "<div>\n",
       "<style scoped>\n",
       "    .dataframe tbody tr th:only-of-type {\n",
       "        vertical-align: middle;\n",
       "    }\n",
       "\n",
       "    .dataframe tbody tr th {\n",
       "        vertical-align: top;\n",
       "    }\n",
       "\n",
       "    .dataframe thead th {\n",
       "        text-align: right;\n",
       "    }\n",
       "</style>\n",
       "<table border=\"1\" class=\"dataframe\">\n",
       "  <thead>\n",
       "    <tr style=\"text-align: right;\">\n",
       "      <th></th>\n",
       "      <th>index</th>\n",
       "      <th>country</th>\n",
       "      <th>date</th>\n",
       "      <th>district</th>\n",
       "      <th>first</th>\n",
       "      <th>id</th>\n",
       "      <th>lat</th>\n",
       "      <th>lon</th>\n",
       "      <th>perc_numeric</th>\n",
       "      <th>presence</th>\n",
       "      <th>village</th>\n",
       "    </tr>\n",
       "  </thead>\n",
       "  <tbody>\n",
       "    <tr>\n",
       "      <th>0</th>\n",
       "      <td>0</td>\n",
       "      <td>Mozambique</td>\n",
       "      <td>2022-03-22</td>\n",
       "      <td>Sofala</td>\n",
       "      <td>213.857376</td>\n",
       "      <td>57564</td>\n",
       "      <td>-19.220543</td>\n",
       "      <td>33.963544</td>\n",
       "      <td>0.00</td>\n",
       "      <td>0</td>\n",
       "      <td>Siluvo Jasse</td>\n",
       "    </tr>\n",
       "    <tr>\n",
       "      <th>1</th>\n",
       "      <td>1</td>\n",
       "      <td>Mozambique</td>\n",
       "      <td>2022-03-22</td>\n",
       "      <td>Gaza Province</td>\n",
       "      <td>114.120621</td>\n",
       "      <td>72077</td>\n",
       "      <td>-24.249006</td>\n",
       "      <td>32.852342</td>\n",
       "      <td>1.00</td>\n",
       "      <td>1</td>\n",
       "      <td>Mpelane</td>\n",
       "    </tr>\n",
       "    <tr>\n",
       "      <th>2</th>\n",
       "      <td>2</td>\n",
       "      <td>Mozambique</td>\n",
       "      <td>2022-03-22</td>\n",
       "      <td>Gaza</td>\n",
       "      <td>99.907875</td>\n",
       "      <td>57665</td>\n",
       "      <td>-22.720097</td>\n",
       "      <td>31.881419</td>\n",
       "      <td>0.88</td>\n",
       "      <td>1</td>\n",
       "      <td>Mapuvule</td>\n",
       "    </tr>\n",
       "    <tr>\n",
       "      <th>3</th>\n",
       "      <td>3</td>\n",
       "      <td>Mozambique</td>\n",
       "      <td>2022-03-22</td>\n",
       "      <td>Maputo</td>\n",
       "      <td>243.238632</td>\n",
       "      <td>57643</td>\n",
       "      <td>-26.405225</td>\n",
       "      <td>32.647493</td>\n",
       "      <td>0.24</td>\n",
       "      <td>1</td>\n",
       "      <td>Missevene</td>\n",
       "    </tr>\n",
       "    <tr>\n",
       "      <th>4</th>\n",
       "      <td>4</td>\n",
       "      <td>Mozambique</td>\n",
       "      <td>2022-03-22</td>\n",
       "      <td>Gaza</td>\n",
       "      <td>99.907875</td>\n",
       "      <td>57668</td>\n",
       "      <td>-22.710001</td>\n",
       "      <td>31.844111</td>\n",
       "      <td>1.00</td>\n",
       "      <td>1</td>\n",
       "      <td>Mapuvule</td>\n",
       "    </tr>\n",
       "    <tr>\n",
       "      <th>...</th>\n",
       "      <td>...</td>\n",
       "      <td>...</td>\n",
       "      <td>...</td>\n",
       "      <td>...</td>\n",
       "      <td>...</td>\n",
       "      <td>...</td>\n",
       "      <td>...</td>\n",
       "      <td>...</td>\n",
       "      <td>...</td>\n",
       "      <td>...</td>\n",
       "      <td>...</td>\n",
       "    </tr>\n",
       "    <tr>\n",
       "      <th>6665</th>\n",
       "      <td>495</td>\n",
       "      <td>Zambia</td>\n",
       "      <td>2022-06-29</td>\n",
       "      <td>Copperbelt Province</td>\n",
       "      <td>184.549118</td>\n",
       "      <td>71507</td>\n",
       "      <td>-12.811778</td>\n",
       "      <td>28.210332</td>\n",
       "      <td>0.50</td>\n",
       "      <td>1</td>\n",
       "      <td>Kitwe, Nkana Parklands</td>\n",
       "    </tr>\n",
       "    <tr>\n",
       "      <th>6666</th>\n",
       "      <td>496</td>\n",
       "      <td>Zambia</td>\n",
       "      <td>2022-06-29</td>\n",
       "      <td>Western Province, Zambia</td>\n",
       "      <td>52.589249</td>\n",
       "      <td>71460</td>\n",
       "      <td>-15.263138</td>\n",
       "      <td>23.133923</td>\n",
       "      <td>1.00</td>\n",
       "      <td>1</td>\n",
       "      <td>Mongu,muchu,ikoselwa</td>\n",
       "    </tr>\n",
       "    <tr>\n",
       "      <th>6667</th>\n",
       "      <td>497</td>\n",
       "      <td>Zambia</td>\n",
       "      <td>2022-06-29</td>\n",
       "      <td>Copperbelt Province</td>\n",
       "      <td>205.837753</td>\n",
       "      <td>71484</td>\n",
       "      <td>-12.856164</td>\n",
       "      <td>28.325221</td>\n",
       "      <td>0.00</td>\n",
       "      <td>1</td>\n",
       "      <td>Kitwe, Mwekera, Chankalamu</td>\n",
       "    </tr>\n",
       "    <tr>\n",
       "      <th>6668</th>\n",
       "      <td>498</td>\n",
       "      <td>Zambia</td>\n",
       "      <td>2022-06-29</td>\n",
       "      <td>Copperbelt Province</td>\n",
       "      <td>184.549118</td>\n",
       "      <td>71798</td>\n",
       "      <td>-12.811794</td>\n",
       "      <td>28.210324</td>\n",
       "      <td>0.70</td>\n",
       "      <td>1</td>\n",
       "      <td>Kitwe, Nkana, Parklands</td>\n",
       "    </tr>\n",
       "    <tr>\n",
       "      <th>6669</th>\n",
       "      <td>499</td>\n",
       "      <td>Zambia</td>\n",
       "      <td>2022-06-29</td>\n",
       "      <td>Copperbelt Province</td>\n",
       "      <td>184.549118</td>\n",
       "      <td>72065</td>\n",
       "      <td>-12.811859</td>\n",
       "      <td>28.210287</td>\n",
       "      <td>0.46</td>\n",
       "      <td>1</td>\n",
       "      <td>Kitwe, Nkana,Parklands</td>\n",
       "    </tr>\n",
       "  </tbody>\n",
       "</table>\n",
       "<p>6670 rows × 11 columns</p>\n",
       "</div>"
      ],
      "text/plain": [
       "      index     country        date                  district       first  \\\n",
       "0         0  Mozambique  2022-03-22                    Sofala  213.857376   \n",
       "1         1  Mozambique  2022-03-22             Gaza Province  114.120621   \n",
       "2         2  Mozambique  2022-03-22                      Gaza   99.907875   \n",
       "3         3  Mozambique  2022-03-22                    Maputo  243.238632   \n",
       "4         4  Mozambique  2022-03-22                      Gaza   99.907875   \n",
       "...     ...         ...         ...                       ...         ...   \n",
       "6665    495      Zambia  2022-06-29       Copperbelt Province  184.549118   \n",
       "6666    496      Zambia  2022-06-29  Western Province, Zambia   52.589249   \n",
       "6667    497      Zambia  2022-06-29       Copperbelt Province  205.837753   \n",
       "6668    498      Zambia  2022-06-29       Copperbelt Province  184.549118   \n",
       "6669    499      Zambia  2022-06-29       Copperbelt Province  184.549118   \n",
       "\n",
       "         id        lat        lon  perc_numeric  presence  \\\n",
       "0     57564 -19.220543  33.963544          0.00         0   \n",
       "1     72077 -24.249006  32.852342          1.00         1   \n",
       "2     57665 -22.720097  31.881419          0.88         1   \n",
       "3     57643 -26.405225  32.647493          0.24         1   \n",
       "4     57668 -22.710001  31.844111          1.00         1   \n",
       "...     ...        ...        ...           ...       ...   \n",
       "6665  71507 -12.811778  28.210332          0.50         1   \n",
       "6666  71460 -15.263138  23.133923          1.00         1   \n",
       "6667  71484 -12.856164  28.325221          0.00         1   \n",
       "6668  71798 -12.811794  28.210324          0.70         1   \n",
       "6669  72065 -12.811859  28.210287          0.46         1   \n",
       "\n",
       "                         village  \n",
       "0                   Siluvo Jasse  \n",
       "1                        Mpelane  \n",
       "2                       Mapuvule  \n",
       "3                      Missevene  \n",
       "4                       Mapuvule  \n",
       "...                          ...  \n",
       "6665      Kitwe, Nkana Parklands  \n",
       "6666        Mongu,muchu,ikoselwa  \n",
       "6667  Kitwe, Mwekera, Chankalamu  \n",
       "6668     Kitwe, Nkana, Parklands  \n",
       "6669      Kitwe, Nkana,Parklands  \n",
       "\n",
       "[6670 rows x 11 columns]"
      ]
     },
     "execution_count": 6,
     "metadata": {},
     "output_type": "execute_result"
    }
   ],
   "source": [
    "df_precipitation = pd.read_sql(\"select * from sm\", conn)\n",
    "df_precipitation"
   ]
  },
  {
   "cell_type": "code",
   "execution_count": 7,
   "id": "07e43dda",
   "metadata": {
    "ExecuteTime": {
     "end_time": "2022-08-08T10:20:56.032482Z",
     "start_time": "2022-08-08T10:20:55.946642Z"
    }
   },
   "outputs": [],
   "source": [
    "df = pd.read_sql(\"select * from enriched_data\", conn)"
   ]
  },
  {
   "cell_type": "code",
   "execution_count": 8,
   "id": "1398c22c-aa83-473f-a92c-16ca6f50229e",
   "metadata": {
    "ExecuteTime": {
     "end_time": "2022-08-08T10:20:56.296093Z",
     "start_time": "2022-08-08T10:20:56.275654Z"
    },
    "pycharm": {
     "name": "#%%\n"
    }
   },
   "outputs": [
    {
     "data": {
      "text/html": [
       "<div>\n",
       "<style scoped>\n",
       "    .dataframe tbody tr th:only-of-type {\n",
       "        vertical-align: middle;\n",
       "    }\n",
       "\n",
       "    .dataframe tbody tr th {\n",
       "        vertical-align: top;\n",
       "    }\n",
       "\n",
       "    .dataframe thead th {\n",
       "        text-align: right;\n",
       "    }\n",
       "</style>\n",
       "<table border=\"1\" class=\"dataframe\">\n",
       "  <thead>\n",
       "    <tr style=\"text-align: right;\">\n",
       "      <th></th>\n",
       "      <th>level_0</th>\n",
       "      <th>id</th>\n",
       "      <th>tmin</th>\n",
       "      <th>tmax</th>\n",
       "      <th>tmean</th>\n",
       "      <th>precip</th>\n",
       "      <th>index</th>\n",
       "      <th>country</th>\n",
       "      <th>date</th>\n",
       "      <th>district</th>\n",
       "      <th>sm</th>\n",
       "      <th>lat</th>\n",
       "      <th>lon</th>\n",
       "      <th>perc_numeric</th>\n",
       "      <th>presence</th>\n",
       "      <th>village</th>\n",
       "      <th>vegetation</th>\n",
       "    </tr>\n",
       "  </thead>\n",
       "  <tbody>\n",
       "    <tr>\n",
       "      <th>574</th>\n",
       "      <td>574</td>\n",
       "      <td>68420</td>\n",
       "      <td>20.882</td>\n",
       "      <td>30.5135</td>\n",
       "      <td>25.6978</td>\n",
       "      <td>0.0</td>\n",
       "      <td>226</td>\n",
       "      <td>Mozambique</td>\n",
       "      <td>2022-04-7</td>\n",
       "      <td>Maputo</td>\n",
       "      <td>247.957489</td>\n",
       "      <td>-26.467816</td>\n",
       "      <td>32.646643</td>\n",
       "      <td>0.10</td>\n",
       "      <td>0</td>\n",
       "      <td>macassane</td>\n",
       "      <td>0.452</td>\n",
       "    </tr>\n",
       "    <tr>\n",
       "      <th>752</th>\n",
       "      <td>752</td>\n",
       "      <td>68247</td>\n",
       "      <td>20.882</td>\n",
       "      <td>30.5135</td>\n",
       "      <td>25.6978</td>\n",
       "      <td>0.0</td>\n",
       "      <td>146</td>\n",
       "      <td>Mozambique</td>\n",
       "      <td>2022-04-5</td>\n",
       "      <td>Maputo</td>\n",
       "      <td>250.855743</td>\n",
       "      <td>-26.485442</td>\n",
       "      <td>32.657702</td>\n",
       "      <td>0.62</td>\n",
       "      <td>1</td>\n",
       "      <td>Macassane</td>\n",
       "      <td>0.484</td>\n",
       "    </tr>\n",
       "    <tr>\n",
       "      <th>274</th>\n",
       "      <td>274</td>\n",
       "      <td>68256</td>\n",
       "      <td>20.882</td>\n",
       "      <td>30.5135</td>\n",
       "      <td>25.6978</td>\n",
       "      <td>0.0</td>\n",
       "      <td>196</td>\n",
       "      <td>Mozambique</td>\n",
       "      <td>2022-04-7</td>\n",
       "      <td>Maputo</td>\n",
       "      <td>247.957489</td>\n",
       "      <td>-26.466057</td>\n",
       "      <td>32.635660</td>\n",
       "      <td>0.62</td>\n",
       "      <td>1</td>\n",
       "      <td>Macassane</td>\n",
       "      <td>1.020</td>\n",
       "    </tr>\n",
       "  </tbody>\n",
       "</table>\n",
       "</div>"
      ],
      "text/plain": [
       "     level_0     id    tmin     tmax    tmean  precip  index     country  \\\n",
       "574      574  68420  20.882  30.5135  25.6978     0.0    226  Mozambique   \n",
       "752      752  68247  20.882  30.5135  25.6978     0.0    146  Mozambique   \n",
       "274      274  68256  20.882  30.5135  25.6978     0.0    196  Mozambique   \n",
       "\n",
       "          date district          sm        lat        lon  perc_numeric  \\\n",
       "574  2022-04-7   Maputo  247.957489 -26.467816  32.646643          0.10   \n",
       "752  2022-04-5   Maputo  250.855743 -26.485442  32.657702          0.62   \n",
       "274  2022-04-7   Maputo  247.957489 -26.466057  32.635660          0.62   \n",
       "\n",
       "     presence    village  vegetation  \n",
       "574         0  macassane       0.452  \n",
       "752         1  Macassane       0.484  \n",
       "274         1  Macassane       1.020  "
      ]
     },
     "execution_count": 8,
     "metadata": {},
     "output_type": "execute_result"
    }
   ],
   "source": [
    "df.sample(3)"
   ]
  },
  {
   "cell_type": "code",
   "execution_count": 9,
   "id": "fba4cfcf",
   "metadata": {
    "ExecuteTime": {
     "end_time": "2022-08-08T10:21:03.252519Z",
     "start_time": "2022-08-08T10:21:03.218082Z"
    },
    "pycharm": {
     "name": "#%%\n"
    }
   },
   "outputs": [
    {
     "data": {
      "text/html": [
       "<div>\n",
       "<style scoped>\n",
       "    .dataframe tbody tr th:only-of-type {\n",
       "        vertical-align: middle;\n",
       "    }\n",
       "\n",
       "    .dataframe tbody tr th {\n",
       "        vertical-align: top;\n",
       "    }\n",
       "\n",
       "    .dataframe thead th {\n",
       "        text-align: right;\n",
       "    }\n",
       "</style>\n",
       "<table border=\"1\" class=\"dataframe\">\n",
       "  <thead>\n",
       "    <tr style=\"text-align: right;\">\n",
       "      <th></th>\n",
       "      <th>tmin</th>\n",
       "      <th>tmax</th>\n",
       "      <th>tmean</th>\n",
       "      <th>precip</th>\n",
       "      <th>country</th>\n",
       "      <th>date</th>\n",
       "      <th>district</th>\n",
       "      <th>sm</th>\n",
       "      <th>lat</th>\n",
       "      <th>lon</th>\n",
       "      <th>perc_numeric</th>\n",
       "      <th>presence</th>\n",
       "      <th>village</th>\n",
       "      <th>vegetation</th>\n",
       "    </tr>\n",
       "    <tr>\n",
       "      <th>id</th>\n",
       "      <th></th>\n",
       "      <th></th>\n",
       "      <th></th>\n",
       "      <th></th>\n",
       "      <th></th>\n",
       "      <th></th>\n",
       "      <th></th>\n",
       "      <th></th>\n",
       "      <th></th>\n",
       "      <th></th>\n",
       "      <th></th>\n",
       "      <th></th>\n",
       "      <th></th>\n",
       "      <th></th>\n",
       "    </tr>\n",
       "  </thead>\n",
       "  <tbody>\n",
       "    <tr>\n",
       "      <th>70447</th>\n",
       "      <td>16.29150</td>\n",
       "      <td>27.3356</td>\n",
       "      <td>21.8135</td>\n",
       "      <td>0.982637</td>\n",
       "      <td>Mozambique</td>\n",
       "      <td>2022-05-7</td>\n",
       "      <td>Zambezia Province</td>\n",
       "      <td>256.680115</td>\n",
       "      <td>-16.098421</td>\n",
       "      <td>35.769517</td>\n",
       "      <td>0.26</td>\n",
       "      <td>1</td>\n",
       "      <td>Milange</td>\n",
       "      <td>0.380</td>\n",
       "    </tr>\n",
       "    <tr>\n",
       "      <th>70444</th>\n",
       "      <td>16.29150</td>\n",
       "      <td>27.3356</td>\n",
       "      <td>21.8135</td>\n",
       "      <td>0.982637</td>\n",
       "      <td>Mozambique</td>\n",
       "      <td>2022-05-7</td>\n",
       "      <td>Zambezia Province</td>\n",
       "      <td>256.680115</td>\n",
       "      <td>-16.098421</td>\n",
       "      <td>35.769517</td>\n",
       "      <td>0.42</td>\n",
       "      <td>1</td>\n",
       "      <td>Zalimba</td>\n",
       "      <td>0.380</td>\n",
       "    </tr>\n",
       "    <tr>\n",
       "      <th>71156</th>\n",
       "      <td>6.75560</td>\n",
       "      <td>24.2761</td>\n",
       "      <td>15.5159</td>\n",
       "      <td>0.000000</td>\n",
       "      <td>Zambia</td>\n",
       "      <td>2022-06-20</td>\n",
       "      <td>North-Western Province, Zambia</td>\n",
       "      <td>265.465515</td>\n",
       "      <td>-12.192174</td>\n",
       "      <td>26.416623</td>\n",
       "      <td>0.56</td>\n",
       "      <td>1</td>\n",
       "      <td>Solwezi, Boma, Fisheries</td>\n",
       "      <td>0.256</td>\n",
       "    </tr>\n",
       "    <tr>\n",
       "      <th>70793</th>\n",
       "      <td>11.26600</td>\n",
       "      <td>22.2114</td>\n",
       "      <td>16.7387</td>\n",
       "      <td>0.000000</td>\n",
       "      <td>Zambia</td>\n",
       "      <td>2022-06-5</td>\n",
       "      <td>Central Province, Zambia</td>\n",
       "      <td>127.341873</td>\n",
       "      <td>-14.472658</td>\n",
       "      <td>28.438828</td>\n",
       "      <td>0.16</td>\n",
       "      <td>0</td>\n",
       "      <td>kabwe, Waya camp, Kamakuti village</td>\n",
       "      <td>0.100</td>\n",
       "    </tr>\n",
       "    <tr>\n",
       "      <th>71433</th>\n",
       "      <td>7.80889</td>\n",
       "      <td>22.9408</td>\n",
       "      <td>15.3748</td>\n",
       "      <td>0.000000</td>\n",
       "      <td>Zambia</td>\n",
       "      <td>2022-06-28</td>\n",
       "      <td>Copperbelt Province</td>\n",
       "      <td>184.614502</td>\n",
       "      <td>-12.809223</td>\n",
       "      <td>28.210446</td>\n",
       "      <td>0.30</td>\n",
       "      <td>1</td>\n",
       "      <td>Kitwe,Nkana, Parklands</td>\n",
       "      <td>0.256</td>\n",
       "    </tr>\n",
       "    <tr>\n",
       "      <th>70451</th>\n",
       "      <td>16.29150</td>\n",
       "      <td>27.3356</td>\n",
       "      <td>21.8135</td>\n",
       "      <td>0.982637</td>\n",
       "      <td>Mozambique</td>\n",
       "      <td>2022-05-5</td>\n",
       "      <td>Zambezia Province</td>\n",
       "      <td>262.546875</td>\n",
       "      <td>-16.098486</td>\n",
       "      <td>35.769176</td>\n",
       "      <td>0.30</td>\n",
       "      <td>1</td>\n",
       "      <td>Liciro</td>\n",
       "      <td>0.380</td>\n",
       "    </tr>\n",
       "    <tr>\n",
       "      <th>70795</th>\n",
       "      <td>11.26600</td>\n",
       "      <td>22.2114</td>\n",
       "      <td>16.7387</td>\n",
       "      <td>0.000000</td>\n",
       "      <td>Zambia</td>\n",
       "      <td>2022-06-5</td>\n",
       "      <td>Central Province, Zambia</td>\n",
       "      <td>127.341873</td>\n",
       "      <td>-14.440871</td>\n",
       "      <td>28.446364</td>\n",
       "      <td>0.78</td>\n",
       "      <td>1</td>\n",
       "      <td>kabwe,waya,kamukutu</td>\n",
       "      <td>0.244</td>\n",
       "    </tr>\n",
       "    <tr>\n",
       "      <th>68594</th>\n",
       "      <td>17.58300</td>\n",
       "      <td>24.6570</td>\n",
       "      <td>21.1200</td>\n",
       "      <td>21.280700</td>\n",
       "      <td>Mozambique</td>\n",
       "      <td>2022-04-11</td>\n",
       "      <td>Niassa</td>\n",
       "      <td>273.928375</td>\n",
       "      <td>-13.310808</td>\n",
       "      <td>35.267521</td>\n",
       "      <td>0.06</td>\n",
       "      <td>0</td>\n",
       "      <td>lipende</td>\n",
       "      <td>1.020</td>\n",
       "    </tr>\n",
       "  </tbody>\n",
       "</table>\n",
       "</div>"
      ],
      "text/plain": [
       "           tmin     tmax    tmean     precip     country        date  \\\n",
       "id                                                                     \n",
       "70447  16.29150  27.3356  21.8135   0.982637  Mozambique   2022-05-7   \n",
       "70444  16.29150  27.3356  21.8135   0.982637  Mozambique   2022-05-7   \n",
       "71156   6.75560  24.2761  15.5159   0.000000      Zambia  2022-06-20   \n",
       "70793  11.26600  22.2114  16.7387   0.000000      Zambia   2022-06-5   \n",
       "71433   7.80889  22.9408  15.3748   0.000000      Zambia  2022-06-28   \n",
       "70451  16.29150  27.3356  21.8135   0.982637  Mozambique   2022-05-5   \n",
       "70795  11.26600  22.2114  16.7387   0.000000      Zambia   2022-06-5   \n",
       "68594  17.58300  24.6570  21.1200  21.280700  Mozambique  2022-04-11   \n",
       "\n",
       "                             district          sm        lat        lon  \\\n",
       "id                                                                        \n",
       "70447               Zambezia Province  256.680115 -16.098421  35.769517   \n",
       "70444               Zambezia Province  256.680115 -16.098421  35.769517   \n",
       "71156  North-Western Province, Zambia  265.465515 -12.192174  26.416623   \n",
       "70793        Central Province, Zambia  127.341873 -14.472658  28.438828   \n",
       "71433             Copperbelt Province  184.614502 -12.809223  28.210446   \n",
       "70451               Zambezia Province  262.546875 -16.098486  35.769176   \n",
       "70795        Central Province, Zambia  127.341873 -14.440871  28.446364   \n",
       "68594                          Niassa  273.928375 -13.310808  35.267521   \n",
       "\n",
       "       perc_numeric  presence                             village  vegetation  \n",
       "id                                                                             \n",
       "70447          0.26         1                             Milange       0.380  \n",
       "70444          0.42         1                             Zalimba       0.380  \n",
       "71156          0.56         1            Solwezi, Boma, Fisheries       0.256  \n",
       "70793          0.16         0  kabwe, Waya camp, Kamakuti village       0.100  \n",
       "71433          0.30         1              Kitwe,Nkana, Parklands       0.256  \n",
       "70451          0.30         1                              Liciro       0.380  \n",
       "70795          0.78         1                 kabwe,waya,kamukutu       0.244  \n",
       "68594          0.06         0                             lipende       1.020  "
      ]
     },
     "execution_count": 9,
     "metadata": {},
     "output_type": "execute_result"
    }
   ],
   "source": [
    "df.set_index('id',inplace=True)\n",
    "df.drop(columns='index',inplace=True)\n",
    "df.dropna(inplace=True)\n",
    "df.drop(columns={'level_0'},inplace=True)\n",
    "df.sample(8)"
   ]
  },
  {
   "cell_type": "code",
   "execution_count": 10,
   "id": "6c0eeaeb",
   "metadata": {
    "ExecuteTime": {
     "end_time": "2022-08-08T10:21:03.761630Z",
     "start_time": "2022-08-08T10:21:03.753584Z"
    }
   },
   "outputs": [
    {
     "data": {
      "text/plain": [
       "tmin            0\n",
       "tmax            0\n",
       "tmean           0\n",
       "precip          0\n",
       "country         0\n",
       "date            0\n",
       "district        0\n",
       "sm              0\n",
       "lat             0\n",
       "lon             0\n",
       "perc_numeric    0\n",
       "presence        0\n",
       "village         0\n",
       "vegetation      0\n",
       "dtype: int64"
      ]
     },
     "execution_count": 10,
     "metadata": {},
     "output_type": "execute_result"
    }
   ],
   "source": [
    "df.isna().sum()"
   ]
  },
  {
   "cell_type": "code",
   "execution_count": 11,
   "id": "23837d3f-9cca-4504-9938-ddadab958255",
   "metadata": {
    "ExecuteTime": {
     "end_time": "2022-08-08T10:21:08.394580Z",
     "start_time": "2022-08-08T10:21:08.382553Z"
    },
    "pycharm": {
     "name": "#%%\n"
    }
   },
   "outputs": [],
   "source": [
    "numeric_columns = [col for col in df.columns if is_numeric_dtype(df[col])]"
   ]
  },
  {
   "cell_type": "code",
   "execution_count": 12,
   "id": "9316ec07",
   "metadata": {
    "ExecuteTime": {
     "end_time": "2022-08-08T10:21:09.926901Z",
     "start_time": "2022-08-08T10:21:09.920861Z"
    }
   },
   "outputs": [],
   "source": [
    "numeric_columns.remove('perc_numeric')\n",
    "numeric_columns.remove('presence')\n",
    "numeric_columns.remove('lat')\n",
    "numeric_columns.remove('lon')"
   ]
  },
  {
   "cell_type": "code",
   "execution_count": 118,
   "id": "b586a992-6491-4150-b2e2-e2cd95277b30",
   "metadata": {
    "ExecuteTime": {
     "end_time": "2022-08-05T07:23:23.089677Z",
     "start_time": "2022-08-05T07:23:23.024507Z"
    },
    "pycharm": {
     "name": "#%%\n"
    }
   },
   "outputs": [
    {
     "data": {
      "text/plain": [
       "<AxesSubplot:ylabel='presence'>"
      ]
     },
     "execution_count": 118,
     "metadata": {},
     "output_type": "execute_result"
    },
    {
     "data": {
      "image/png": "[encoded data removed]",
      "text/plain": [
       "<Figure size 360x360 with 1 Axes>"
      ]
     },
     "metadata": {},
     "output_type": "display_data"
    }
   ],
   "source": [
    "df['presence'].value_counts().plot(kind='pie',figsize=(5,5))"
   ]
  },
  {
   "cell_type": "code",
   "execution_count": 15,
   "id": "b6d0740c-516d-4872-aef1-5a1cc87c0f3b",
   "metadata": {
    "ExecuteTime": {
     "end_time": "2022-08-08T10:23:58.913376Z",
     "start_time": "2022-08-08T10:23:58.903620Z"
    },
    "pycharm": {
     "name": "#%%\n"
    }
   },
   "outputs": [],
   "source": [
    "# msno.matrix(df,figsize=(12,5));"
   ]
  },
  {
   "cell_type": "code",
   "execution_count": 16,
   "id": "76c31699-c07f-4558-a07f-be8609080a9d",
   "metadata": {
    "ExecuteTime": {
     "end_time": "2022-08-08T10:23:59.299423Z",
     "start_time": "2022-08-08T10:23:59.048663Z"
    },
    "pycharm": {
     "name": "#%%\n"
    }
   },
   "outputs": [
    {
     "data": {
      "application/vnd.jupyter.widget-view+json": {
       "model_id": "7db7689ded5f4db79e78ea8b71299be0",
       "version_major": 2,
       "version_minor": 0
      },
      "text/plain": [
       "interactive(children=(Dropdown(description='value', options=('tmin', 'tmax', 'tmean', 'precip', 'sm', 'vegetat…"
      ]
     },
     "metadata": {},
     "output_type": "display_data"
    }
   ],
   "source": [
    "def val_by_presence(value):\n",
    "    sns.boxplot(x='presence',y=value,data=df)\n",
    "    \n",
    "wgts.Dropdown(\n",
    "    options=numeric_columns,\n",
    "    value=numeric_columns[0],\n",
    "    description='Number:',\n",
    "    disabled=False,\n",
    ")\n",
    "wgts.interact(val_by_presence, value = numeric_columns);"
   ]
  },
  {
   "cell_type": "code",
   "execution_count": 17,
   "id": "56b23c86",
   "metadata": {
    "ExecuteTime": {
     "end_time": "2022-08-08T10:23:59.378270Z",
     "start_time": "2022-08-08T10:23:59.365363Z"
    }
   },
   "outputs": [],
   "source": [
    "# def val_by_presence(value):\n",
    "#     sns.boxplot(x='perc_numeric',y=value,data=df)\n",
    "    \n",
    "# wgts.Dropdown(\n",
    "#     options=numeric_columns,\n",
    "#     value=numeric_columns[0],\n",
    "#     description='Number:',\n",
    "#     disabled=False,\n",
    "# )\n",
    "# wgts.interact(val_by_presence, value = numeric_columns);"
   ]
  },
  {
   "cell_type": "markdown",
   "id": "f29b772b-c39c-4d2d-9e4a-550bdd87e853",
   "metadata": {
    "jp-MarkdownHeadingCollapsed": true,
    "pycharm": {
     "name": "#%% md\n"
    },
    "tags": []
   },
   "source": [
    "# Logistic Regression"
   ]
  },
  {
   "cell_type": "code",
   "execution_count": 18,
   "id": "c2595222-14c2-4ecb-b9d5-2f72033b8e8f",
   "metadata": {
    "ExecuteTime": {
     "end_time": "2022-08-08T10:24:00.463700Z",
     "start_time": "2022-08-08T10:24:00.447911Z"
    },
    "pycharm": {
     "name": "#%%\n"
    }
   },
   "outputs": [],
   "source": [
    "# define min max scaler\n",
    "scaler = MinMaxScaler()"
   ]
  },
  {
   "cell_type": "code",
   "execution_count": 19,
   "id": "c48e1588-9ce6-492e-a134-3a02fe876dfd",
   "metadata": {
    "ExecuteTime": {
     "end_time": "2022-08-08T10:24:00.925517Z",
     "start_time": "2022-08-08T10:24:00.911667Z"
    },
    "pycharm": {
     "name": "#%%\n"
    }
   },
   "outputs": [],
   "source": [
    "X = df[numeric_columns].values"
   ]
  },
  {
   "cell_type": "code",
   "execution_count": 20,
   "id": "40569c48-2498-4a54-a6c7-76dc132bdafe",
   "metadata": {
    "ExecuteTime": {
     "end_time": "2022-08-08T10:24:01.436785Z",
     "start_time": "2022-08-08T10:24:01.423013Z"
    },
    "pycharm": {
     "name": "#%%\n"
    }
   },
   "outputs": [],
   "source": [
    "y = df.presence.values"
   ]
  },
  {
   "cell_type": "code",
   "execution_count": 21,
   "id": "0246363a",
   "metadata": {
    "ExecuteTime": {
     "end_time": "2022-08-08T10:24:01.805998Z",
     "start_time": "2022-08-08T10:24:01.791047Z"
    }
   },
   "outputs": [
    {
     "data": {
      "text/plain": [
       "(26940, 4490)"
      ]
     },
     "execution_count": 21,
     "metadata": {},
     "output_type": "execute_result"
    }
   ],
   "source": [
    "X.size, y.size"
   ]
  },
  {
   "cell_type": "code",
   "execution_count": 22,
   "id": "cbc4481d",
   "metadata": {
    "ExecuteTime": {
     "end_time": "2022-08-08T10:24:02.009951Z",
     "start_time": "2022-08-08T10:24:01.999557Z"
    }
   },
   "outputs": [
    {
     "data": {
      "text/plain": [
       "[(0, 290), (1, 4200)]"
      ]
     },
     "execution_count": 22,
     "metadata": {},
     "output_type": "execute_result"
    }
   ],
   "source": [
    "sorted(Counter(y).items())"
   ]
  },
  {
   "cell_type": "code",
   "execution_count": 23,
   "id": "df6f8edf",
   "metadata": {
    "ExecuteTime": {
     "end_time": "2022-08-08T10:24:02.181498Z",
     "start_time": "2022-08-08T10:24:02.167139Z"
    }
   },
   "outputs": [],
   "source": [
    "rus = RandomUnderSampler(random_state=0)"
   ]
  },
  {
   "cell_type": "code",
   "execution_count": 24,
   "id": "442be797",
   "metadata": {
    "ExecuteTime": {
     "end_time": "2022-08-08T10:24:02.661558Z",
     "start_time": "2022-08-08T10:24:02.639166Z"
    }
   },
   "outputs": [
    {
     "data": {
      "text/plain": [
       "[(0, 290), (1, 290)]"
      ]
     },
     "execution_count": 24,
     "metadata": {},
     "output_type": "execute_result"
    }
   ],
   "source": [
    "X_resampled, y_resampled = rus.fit_resample(X, y)\n",
    "sorted(Counter(y_resampled).items())"
   ]
  },
  {
   "cell_type": "code",
   "execution_count": 25,
   "id": "becb78d8-36a7-47ac-8d5f-42361d44bf8d",
   "metadata": {
    "ExecuteTime": {
     "end_time": "2022-08-08T10:24:03.048516Z",
     "start_time": "2022-08-08T10:24:03.039288Z"
    },
    "pycharm": {
     "name": "#%%\n"
    }
   },
   "outputs": [],
   "source": [
    "# transform data\n",
    "# X_scaled = scaler.fit_transform(X)\n",
    "X_scaled = scaler.fit_transform(X_resampled)"
   ]
  },
  {
   "cell_type": "code",
   "execution_count": 26,
   "id": "95916e7a-25cf-40c3-97c9-41f49124540d",
   "metadata": {
    "ExecuteTime": {
     "end_time": "2022-08-08T10:24:04.054954Z",
     "start_time": "2022-08-08T10:24:04.038495Z"
    },
    "pycharm": {
     "name": "#%%\n"
    }
   },
   "outputs": [],
   "source": [
    "# x_train,x_test,y_train,y_test = train_test_split(X_scaled,y,test_size=0.2,random_state=75)\n",
    "x_train,x_test,y_train,y_test = train_test_split(X_scaled,y_resampled,test_size=0.2,random_state=75)\n",
    "# y_train = y_train.reshape(-1,1)\n",
    "# y_test = y_test.reshape(-1,1)\n",
    "y_train = y_train.reshape(-1,1)\n",
    "y_test = y_test.reshape(-1,1)"
   ]
  },
  {
   "cell_type": "code",
   "execution_count": 27,
   "id": "818a850c-0bf0-4783-9643-72866c30b457",
   "metadata": {
    "ExecuteTime": {
     "end_time": "2022-08-08T10:24:07.267080Z",
     "start_time": "2022-08-08T10:24:07.256433Z"
    },
    "pycharm": {
     "name": "#%%\n"
    }
   },
   "outputs": [
    {
     "name": "stdout",
     "output_type": "stream",
     "text": [
      "\n",
      "        x_train's shape is (464, 6) \n",
      "        x_test's shape is (116, 6)\n",
      "        y_train's shape is (464, 1)\n",
      "        y_test's shape is  (116, 1)\n",
      "\n"
     ]
    }
   ],
   "source": [
    "print(f\"\"\"\n",
    "        x_train's shape is {x_train.shape} \n",
    "        x_test's shape is {x_test.shape}\n",
    "        y_train's shape is {y_train.shape}\n",
    "        y_test's shape is  {y_test.shape}\n",
    "\"\"\")"
   ]
  },
  {
   "cell_type": "code",
   "execution_count": 132,
   "id": "9795b38b",
   "metadata": {
    "ExecuteTime": {
     "end_time": "2022-08-05T07:23:38.476624Z",
     "start_time": "2022-08-05T07:23:38.456899Z"
    }
   },
   "outputs": [
    {
     "data": {
      "text/plain": [
       "array([[0.4380864 , 0.12147805, 0.32549205, 0.        , 0.35959747,\n",
       "        0.14107884],\n",
       "       [0.40287224, 0.09328168, 0.29218969, 0.        , 0.24555859,\n",
       "        0.13692946],\n",
       "       [0.22676052, 0.07666504, 0.16717062, 0.        , 0.42349093,\n",
       "        0.1846473 ],\n",
       "       ...,\n",
       "       [0.78092996, 0.60108631, 0.71819909, 1.        , 0.60128405,\n",
       "        0.60995851],\n",
       "       [0.66014676, 0.53216878, 0.6132502 , 0.03142829, 0.62403818,\n",
       "        0.4813278 ],\n",
       "       [0.33542758, 0.01968034, 0.22186083, 0.        , 0.24910243,\n",
       "        0.17842324]])"
      ]
     },
     "execution_count": 132,
     "metadata": {},
     "output_type": "execute_result"
    }
   ],
   "source": [
    "x_train"
   ]
  },
  {
   "cell_type": "code",
   "execution_count": 133,
   "id": "e894fe29-1a2c-4739-ae9e-fef5174e4201",
   "metadata": {
    "ExecuteTime": {
     "end_time": "2022-08-05T07:23:39.245327Z",
     "start_time": "2022-08-05T07:23:39.223865Z"
    },
    "pycharm": {
     "name": "#%%\n"
    }
   },
   "outputs": [],
   "source": [
    "lr_model = LogisticRegression()\n",
    "lr_model.fit(x_train,y_train);"
   ]
  },
  {
   "cell_type": "code",
   "execution_count": 134,
   "id": "974ea7f9-78f4-485a-ac63-050da10d5058",
   "metadata": {
    "ExecuteTime": {
     "end_time": "2022-08-05T07:23:44.352979Z",
     "start_time": "2022-08-05T07:23:44.191518Z"
    },
    "pycharm": {
     "name": "#%%\n"
    }
   },
   "outputs": [
    {
     "name": "stdout",
     "output_type": "stream",
     "text": [
      "Feature: 0, Score: -2.05564\n",
      "Feature: 1, Score: 1.28724\n",
      "Feature: 2, Score: -0.96649\n",
      "Feature: 3, Score: -2.79665\n",
      "Feature: 4, Score: 0.13521\n",
      "Feature: 5, Score: -0.59077\n"
     ]
    },
    {
     "data": {
      "image/png": "[encoded data removed]",
      "text/plain": [
       "<Figure size 1440x864 with 1 Axes>"
      ]
     },
     "metadata": {},
     "output_type": "display_data"
    }
   ],
   "source": [
    "# get importance\n",
    "importance = lr_model.coef_[0]\n",
    "\n",
    "# summarize feature importance\n",
    "for i,v in enumerate(importance):\n",
    "    print('Feature: %0d, Score: %.5f' % (i,v))\n",
    "\n",
    "# plot feature importance\n",
    "plt.bar([x for x in range(len(importance))], importance);"
   ]
  },
  {
   "cell_type": "code",
   "execution_count": 13,
   "id": "fed1f4d5",
   "metadata": {
    "ExecuteTime": {
     "end_time": "2022-08-08T10:23:50.245446Z",
     "start_time": "2022-08-08T10:23:50.233616Z"
    },
    "pycharm": {
     "name": "#%%\n"
    }
   },
   "outputs": [],
   "source": [
    "# numeric_columns"
   ]
  },
  {
   "cell_type": "markdown",
   "id": "df7de72a-b8e5-4fef-b3e5-e3b5725e821b",
   "metadata": {
    "pycharm": {
     "name": "#%% md\n"
    }
   },
   "source": [
    "<b>Classification problem with classes 0 and 1, coefficients are both positive and negative. \\\n",
    "The positive scores indicate a feature that predicts class 1, whereas the negative scores indicate a feature that predicts class 0.</b>"
   ]
  },
  {
   "cell_type": "code",
   "execution_count": 14,
   "id": "4e6f50eb-c3cb-4381-9ae3-15e971b253a2",
   "metadata": {
    "ExecuteTime": {
     "end_time": "2022-08-08T10:23:51.421398Z",
     "start_time": "2022-08-08T10:23:50.839409Z"
    },
    "pycharm": {
     "name": "#%%\n"
    }
   },
   "outputs": [
    {
     "ename": "NameError",
     "evalue": "name 'lr_model' is not defined",
     "output_type": "error",
     "traceback": [
      "\u001b[1;31m---------------------------------------------------------------------------\u001b[0m",
      "\u001b[1;31mNameError\u001b[0m                                 Traceback (most recent call last)",
      "Input \u001b[1;32mIn [14]\u001b[0m, in \u001b[0;36m<cell line: 1>\u001b[1;34m()\u001b[0m\n\u001b[1;32m----> 1\u001b[0m \u001b[38;5;28mprint\u001b[39m(\u001b[38;5;124m\"\u001b[39m\u001b[38;5;124mModel\u001b[39m\u001b[38;5;124m'\u001b[39m\u001b[38;5;124ms score \u001b[39m\u001b[38;5;124m\"\u001b[39m, \u001b[43mlr_model\u001b[49m\u001b[38;5;241m.\u001b[39mscore(x_test,y_test))\n",
      "\u001b[1;31mNameError\u001b[0m: name 'lr_model' is not defined"
     ]
    }
   ],
   "source": [
    "print(\"Model's score \", lr_model.score(x_test,y_test))"
   ]
  },
  {
   "cell_type": "code",
   "execution_count": null,
   "id": "6add68be-2215-4696-9aa5-502d35a60f78",
   "metadata": {
    "ExecuteTime": {
     "end_time": "2022-08-08T10:23:51.426481Z",
     "start_time": "2022-08-08T10:23:51.426481Z"
    },
    "pycharm": {
     "name": "#%%\n"
    }
   },
   "outputs": [],
   "source": [
    "predictions = lr_model.predict(x_test)\n",
    "accuracy = accuracy_score(y_test, predictions)\n",
    "accuracy"
   ]
  },
  {
   "cell_type": "code",
   "execution_count": 138,
   "id": "c6f3691a-f445-41af-853d-4a5691ad1b9d",
   "metadata": {
    "ExecuteTime": {
     "end_time": "2022-08-05T07:23:54.970332Z",
     "start_time": "2022-08-05T07:23:54.775786Z"
    },
    "pycharm": {
     "name": "#%%\n"
    }
   },
   "outputs": [
    {
     "data": {
      "image/png": "[encoded data removed]",
      "text/plain": [
       "<Figure size 1440x864 with 2 Axes>"
      ]
     },
     "metadata": {},
     "output_type": "display_data"
    }
   ],
   "source": [
    "skplt.metrics.plot_confusion_matrix(y_true=y_test, y_pred=predictions);"
   ]
  },
  {
   "cell_type": "code",
   "execution_count": 152,
   "id": "fff48537-889f-43d3-9595-4be7c7066cbc",
   "metadata": {
    "ExecuteTime": {
     "end_time": "2022-08-05T07:25:47.169012Z",
     "start_time": "2022-08-05T07:25:47.158864Z"
    },
    "pycharm": {
     "name": "#%%\n"
    }
   },
   "outputs": [
    {
     "name": "stdout",
     "output_type": "stream",
     "text": [
      "              precision    recall  f1-score   support\n",
      "\n",
      "           0       0.82      0.65      0.73        57\n",
      "           1       0.72      0.86      0.78        59\n",
      "\n",
      "    accuracy                           0.76       116\n",
      "   macro avg       0.77      0.76      0.76       116\n",
      "weighted avg       0.77      0.76      0.76       116\n",
      "\n"
     ]
    }
   ],
   "source": [
    "print(classification_report(y_test,predictions))"
   ]
  },
  {
   "cell_type": "code",
   "execution_count": 140,
   "id": "d7b34738-df54-4fe8-a2cf-ced9689fbb1b",
   "metadata": {
    "ExecuteTime": {
     "end_time": "2022-08-05T07:23:57.021817Z",
     "start_time": "2022-08-05T07:23:57.007818Z"
    },
    "pycharm": {
     "name": "#%%\n"
    }
   },
   "outputs": [],
   "source": [
    "y_proba = lr_model.predict_proba(x_test)"
   ]
  },
  {
   "cell_type": "code",
   "execution_count": 141,
   "id": "4a5983d8-6cad-46cd-94a9-7ea0e7f500bc",
   "metadata": {
    "ExecuteTime": {
     "end_time": "2022-08-05T07:23:58.033839Z",
     "start_time": "2022-08-05T07:23:57.831299Z"
    },
    "pycharm": {
     "name": "#%%\n"
    }
   },
   "outputs": [
    {
     "data": {
      "image/png": "[encoded data removed]",
      "text/plain": [
       "<Figure size 1440x864 with 1 Axes>"
      ]
     },
     "metadata": {},
     "output_type": "display_data"
    }
   ],
   "source": [
    "skplt.metrics.plot_precision_recall(y_true=y_test, y_probas=y_proba);"
   ]
  },
  {
   "cell_type": "code",
   "execution_count": 142,
   "id": "bf5e01fe-d0ee-47e5-a7f8-1f1879dd74f4",
   "metadata": {
    "ExecuteTime": {
     "end_time": "2022-08-05T07:24:03.030091Z",
     "start_time": "2022-08-05T07:24:02.839219Z"
    },
    "pycharm": {
     "name": "#%%\n"
    }
   },
   "outputs": [
    {
     "data": {
      "image/png": "[encoded data removed]",
      "text/plain": [
       "<Figure size 1440x864 with 1 Axes>"
      ]
     },
     "metadata": {},
     "output_type": "display_data"
    }
   ],
   "source": [
    "skplt.metrics.plot_roc_curve(y_test, y_proba);"
   ]
  },
  {
   "cell_type": "markdown",
   "id": "8716a7f4-80b6-4c1a-a37a-ba8c340860e6",
   "metadata": {
    "jp-MarkdownHeadingCollapsed": true,
    "pycharm": {
     "name": "#%% md\n"
    },
    "tags": []
   },
   "source": [
    "# RandomForest"
   ]
  },
  {
   "cell_type": "markdown",
   "id": "61207a23",
   "metadata": {
    "pycharm": {
     "name": "#%% md\n"
    }
   },
   "source": [
    "https://machinelearningmastery.com/random-forest-ensemble-in-python/"
   ]
  },
  {
   "cell_type": "code",
   "execution_count": 143,
   "id": "a8410f51-7e8b-4b73-b7e8-44dec46016d2",
   "metadata": {
    "ExecuteTime": {
     "end_time": "2022-08-05T07:24:38.245979Z",
     "start_time": "2022-08-05T07:24:38.239979Z"
    },
    "pycharm": {
     "name": "#%%\n"
    }
   },
   "outputs": [],
   "source": [
    "clf = RandomForestClassifier() #n_estimators = 500)"
   ]
  },
  {
   "cell_type": "code",
   "execution_count": 144,
   "id": "7a018084",
   "metadata": {
    "ExecuteTime": {
     "end_time": "2022-08-05T07:24:47.586016Z",
     "start_time": "2022-08-05T07:24:39.695437Z"
    },
    "pycharm": {
     "name": "#%%\n"
    }
   },
   "outputs": [
    {
     "name": "stdout",
     "output_type": "stream",
     "text": [
      "Accuracy: 0.959 (0.009)\n"
     ]
    }
   ],
   "source": [
    "cv = RepeatedStratifiedKFold(n_splits=10, n_repeats=3, random_state=1)\n",
    "n_scores = cross_val_score(clf, X, y, scoring='accuracy', cv=cv, n_jobs=-1, error_score='raise')\n",
    "# report performance\n",
    "print('Accuracy: %.3f (%.3f)' % (np.mean(n_scores), np.std(n_scores)))"
   ]
  },
  {
   "cell_type": "code",
   "execution_count": 145,
   "id": "79daeb23-6569-4715-bc91-d47954b4646c",
   "metadata": {
    "ExecuteTime": {
     "end_time": "2022-08-05T07:24:47.806063Z",
     "start_time": "2022-08-05T07:24:47.681539Z"
    },
    "pycharm": {
     "name": "#%%\n"
    }
   },
   "outputs": [
    {
     "data": {
      "text/html": [
       "<style>#sk-container-id-1 {color: black;background-color: white;}#sk-container-id-1 pre{padding: 0;}#sk-container-id-1 div.sk-toggleable {background-color: white;}#sk-container-id-1 label.sk-toggleable__label {cursor: pointer;display: block;width: 100%;margin-bottom: 0;padding: 0.3em;box-sizing: border-box;text-align: center;}#sk-container-id-1 label.sk-toggleable__label-arrow:before {content: \"▸\";float: left;margin-right: 0.25em;color: #696969;}#sk-container-id-1 label.sk-toggleable__label-arrow:hover:before {color: black;}#sk-container-id-1 div.sk-estimator:hover label.sk-toggleable__label-arrow:before {color: black;}#sk-container-id-1 div.sk-toggleable__content {max-height: 0;max-width: 0;overflow: hidden;text-align: left;background-color: #f0f8ff;}#sk-container-id-1 div.sk-toggleable__content pre {margin: 0.2em;color: black;border-radius: 0.25em;background-color: #f0f8ff;}#sk-container-id-1 input.sk-toggleable__control:checked~div.sk-toggleable__content {max-height: 200px;max-width: 100%;overflow: auto;}#sk-container-id-1 input.sk-toggleable__control:checked~label.sk-toggleable__label-arrow:before {content: \"▾\";}#sk-container-id-1 div.sk-estimator input.sk-toggleable__control:checked~label.sk-toggleable__label {background-color: #d4ebff;}#sk-container-id-1 div.sk-label input.sk-toggleable__control:checked~label.sk-toggleable__label {background-color: #d4ebff;}#sk-container-id-1 input.sk-hidden--visually {border: 0;clip: rect(1px 1px 1px 1px);clip: rect(1px, 1px, 1px, 1px);height: 1px;margin: -1px;overflow: hidden;padding: 0;position: absolute;width: 1px;}#sk-container-id-1 div.sk-estimator {font-family: monospace;background-color: #f0f8ff;border: 1px dotted black;border-radius: 0.25em;box-sizing: border-box;margin-bottom: 0.5em;}#sk-container-id-1 div.sk-estimator:hover {background-color: #d4ebff;}#sk-container-id-1 div.sk-parallel-item::after {content: \"\";width: 100%;border-bottom: 1px solid gray;flex-grow: 1;}#sk-container-id-1 div.sk-label:hover label.sk-toggleable__label {background-color: #d4ebff;}#sk-container-id-1 div.sk-serial::before {content: \"\";position: absolute;border-left: 1px solid gray;box-sizing: border-box;top: 0;bottom: 0;left: 50%;z-index: 0;}#sk-container-id-1 div.sk-serial {display: flex;flex-direction: column;align-items: center;background-color: white;padding-right: 0.2em;padding-left: 0.2em;position: relative;}#sk-container-id-1 div.sk-item {position: relative;z-index: 1;}#sk-container-id-1 div.sk-parallel {display: flex;align-items: stretch;justify-content: center;background-color: white;position: relative;}#sk-container-id-1 div.sk-item::before, #sk-container-id-1 div.sk-parallel-item::before {content: \"\";position: absolute;border-left: 1px solid gray;box-sizing: border-box;top: 0;bottom: 0;left: 50%;z-index: -1;}#sk-container-id-1 div.sk-parallel-item {display: flex;flex-direction: column;z-index: 1;position: relative;background-color: white;}#sk-container-id-1 div.sk-parallel-item:first-child::after {align-self: flex-end;width: 50%;}#sk-container-id-1 div.sk-parallel-item:last-child::after {align-self: flex-start;width: 50%;}#sk-container-id-1 div.sk-parallel-item:only-child::after {width: 0;}#sk-container-id-1 div.sk-dashed-wrapped {border: 1px dashed gray;margin: 0 0.4em 0.5em 0.4em;box-sizing: border-box;padding-bottom: 0.4em;background-color: white;}#sk-container-id-1 div.sk-label label {font-family: monospace;font-weight: bold;display: inline-block;line-height: 1.2em;}#sk-container-id-1 div.sk-label-container {text-align: center;}#sk-container-id-1 div.sk-container {/* jupyter's `normalize.less` sets `[hidden] { display: none; }` but bootstrap.min.css set `[hidden] { display: none !important; }` so we also need the `!important` here to be able to override the default hidden behavior on the sphinx rendered scikit-learn.org. See: https://github.com/scikit-learn/scikit-learn/issues/21755 */display: inline-block !important;position: relative;}#sk-container-id-1 div.sk-text-repr-fallback {display: none;}</style><div id=\"sk-container-id-1\" class=\"sk-top-container\"><div class=\"sk-text-repr-fallback\"><pre>RandomForestClassifier()</pre><b>In a Jupyter environment, please rerun this cell to show the HTML representation or trust the notebook. <br />On GitHub, the HTML representation is unable to render, please try loading this page with nbviewer.org.</b></div><div class=\"sk-container\" hidden><div class=\"sk-item\"><div class=\"sk-estimator sk-toggleable\"><input class=\"sk-toggleable__control sk-hidden--visually\" id=\"sk-estimator-id-1\" type=\"checkbox\" checked><label for=\"sk-estimator-id-1\" class=\"sk-toggleable__label sk-toggleable__label-arrow\">RandomForestClassifier</label><div class=\"sk-toggleable__content\"><pre>RandomForestClassifier()</pre></div></div></div></div></div>"
      ],
      "text/plain": [
       "RandomForestClassifier()"
      ]
     },
     "execution_count": 145,
     "metadata": {},
     "output_type": "execute_result"
    }
   ],
   "source": [
    "clf.fit(x_train, y_train)"
   ]
  },
  {
   "cell_type": "code",
   "execution_count": 146,
   "id": "1607e26b",
   "metadata": {
    "ExecuteTime": {
     "end_time": "2022-08-05T07:24:47.899117Z",
     "start_time": "2022-08-05T07:24:47.886117Z"
    },
    "pycharm": {
     "name": "#%%\n"
    }
   },
   "outputs": [],
   "source": [
    "y_pred = clf.predict(x_test)"
   ]
  },
  {
   "cell_type": "code",
   "execution_count": 147,
   "id": "fcb658a0",
   "metadata": {
    "ExecuteTime": {
     "end_time": "2022-08-05T07:24:49.994535Z",
     "start_time": "2022-08-05T07:24:49.982530Z"
    },
    "pycharm": {
     "name": "#%%\n"
    }
   },
   "outputs": [
    {
     "name": "stdout",
     "output_type": "stream",
     "text": [
      "Accuracy Score:  0.8275862068965517\n"
     ]
    }
   ],
   "source": [
    "print(\"Accuracy Score: \", accuracy_score(y_test, y_pred))"
   ]
  },
  {
   "cell_type": "code",
   "execution_count": 148,
   "id": "387a9cb7",
   "metadata": {
    "ExecuteTime": {
     "end_time": "2022-08-05T07:24:51.000578Z",
     "start_time": "2022-08-05T07:24:50.973577Z"
    },
    "pycharm": {
     "name": "#%%\n"
    }
   },
   "outputs": [
    {
     "data": {
      "text/plain": [
       "array([1], dtype=int64)"
      ]
     },
     "execution_count": 148,
     "metadata": {},
     "output_type": "execute_result"
    }
   ],
   "source": [
    "clf.predict([[0.1, 0.13, 0.2, 0.2, 0.3, 0.2]])"
   ]
  },
  {
   "cell_type": "code",
   "execution_count": 149,
   "id": "56366e61",
   "metadata": {
    "ExecuteTime": {
     "end_time": "2022-08-05T07:24:58.601658Z",
     "start_time": "2022-08-05T07:24:58.573287Z"
    },
    "pycharm": {
     "name": "#%%\n"
    }
   },
   "outputs": [
    {
     "data": {
      "text/plain": [
       "vegetation    0.314079\n",
       "sm            0.211232\n",
       "precip        0.147437\n",
       "tmin          0.141329\n",
       "tmean         0.100356\n",
       "tmax          0.085568\n",
       "dtype: float64"
      ]
     },
     "execution_count": 149,
     "metadata": {},
     "output_type": "execute_result"
    }
   ],
   "source": [
    "feature_imp = pd.Series(clf.feature_importances_, index = numeric_columns).sort_values(ascending = False)\n",
    "feature_imp"
   ]
  },
  {
   "cell_type": "code",
   "execution_count": 150,
   "id": "c06352ee",
   "metadata": {
    "ExecuteTime": {
     "end_time": "2022-08-05T07:25:06.743922Z",
     "start_time": "2022-08-05T07:25:06.600232Z"
    },
    "pycharm": {
     "name": "#%%\n"
    }
   },
   "outputs": [
    {
     "data": {
      "text/plain": [
       "<AxesSubplot:>"
      ]
     },
     "execution_count": 150,
     "metadata": {},
     "output_type": "execute_result"
    },
    {
     "data": {
      "image/png": "[encoded data removed]",
      "text/plain": [
       "<Figure size 1440x864 with 1 Axes>"
      ]
     },
     "metadata": {},
     "output_type": "display_data"
    }
   ],
   "source": [
    "feature_imp.plot(kind='bar')"
   ]
  },
  {
   "cell_type": "code",
   "execution_count": null,
   "id": "9c82db83",
   "metadata": {
    "pycharm": {
     "name": "#%%\n"
    }
   },
   "outputs": [],
   "source": []
  }
 ],
 "metadata": {
  "hide_input": false,
  "kernelspec": {
   "display_name": "Python 3 (ipykernel)",
   "language": "python",
   "name": "python3"
  },
  "language_info": {
   "codemirror_mode": {
    "name": "ipython",
    "version": 3
   },
   "file_extension": ".py",
   "mimetype": "text/x-python",
   "name": "python",
   "nbconvert_exporter": "python",
   "pygments_lexer": "ipython3",
   "version": "3.9.13"
  },
  "toc": {
   "base_numbering": 1,
   "nav_menu": {},
   "number_sections": true,
   "sideBar": true,
   "skip_h1_title": false,
   "title_cell": "Table of Contents",
   "title_sidebar": "Contents",
   "toc_cell": false,
   "toc_position": {},
   "toc_section_display": true,
   "toc_window_display": false
  },
  "varInspector": {
   "cols": {
    "lenName": 16,
    "lenType": 16,
    "lenVar": 40
   },
   "kernels_config": {
    "python": {
     "delete_cmd_postfix": "",
     "delete_cmd_prefix": "del ",
     "library": "var_list.py",
     "varRefreshCmd": "print(var_dic_list())"
    },
    "r": {
     "delete_cmd_postfix": ") ",
     "delete_cmd_prefix": "rm(",
     "library": "var_list.r",
     "varRefreshCmd": "cat(var_dic_list()) "
    }
   },
   "types_to_exclude": [
    "module",
    "function",
    "builtin_function_or_method",
    "instance",
    "_Feature"
   ],
   "window_display": true
  }
 },
 "nbformat": 4,
 "nbformat_minor": 5
}
