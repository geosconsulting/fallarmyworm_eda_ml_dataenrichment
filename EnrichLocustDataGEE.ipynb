{
 "cells": [
  {
   "cell_type": "code",
   "execution_count": 1,
   "id": "69ea659e",
   "metadata": {
    "ExecuteTime": {
     "end_time": "2022-08-04T11:41:15.886581Z",
     "start_time": "2022-08-04T11:41:11.880663Z"
    }
   },
   "outputs": [],
   "source": [
    "import sys\n",
    "import os\n",
    "from glob import glob\n",
    "\n",
    "import numpy as np\n",
    "import pandas as pd\n",
    "from pandas.api.types import is_datetime64_any_dtype as is_datetime\n",
    "import geopandas as gpd\n",
    "\n",
    "import json \n",
    "import plotly.express as px\n",
    "\n",
    "import altair as alt\n",
    "\n",
    "import matplotlib.pyplot as plt\n",
    "from matplotlib import rcParams\n",
    "import cartopy\n",
    "import cartopy.crs as ccrs\n",
    "from cartopy.mpl.gridliner import LATITUDE_FORMATTER, LONGITUDE_FORMATTER\n",
    "\n",
    "import sqlalchemy as db\n",
    "from sqlalchemy.orm import sessionmaker\n",
    "import geoalchemy2\n",
    "\n",
    "from datetime import datetime, date, timedelta\n",
    "from dateutil.relativedelta import *\n",
    "from dateutil.parser import parse\n",
    "\n",
    "from IPython.display import display, HTML, Image\n",
    "import ipywidgets as wgts\n",
    "\n",
    "import ee\n",
    "import geemap\n",
    "# import cartoee as cee\n",
    "# import eeconvert as eec\n",
    "\n",
    "import pprint as pp\n",
    "import warnings\n",
    "\n",
    "import folium"
   ]
  },
  {
   "cell_type": "code",
   "execution_count": 2,
   "id": "b5b7b6a7-ec2c-4ebe-b6f7-5475667d0df3",
   "metadata": {
    "ExecuteTime": {
     "end_time": "2022-08-04T11:41:31.057739Z",
     "start_time": "2022-08-04T11:41:28.251416Z"
    }
   },
   "outputs": [],
   "source": [
    "ee.Initialize()"
   ]
  },
  {
   "cell_type": "code",
   "execution_count": 3,
   "id": "df6e2304-721b-4adc-b1d1-1da5f9edfbdb",
   "metadata": {
    "ExecuteTime": {
     "end_time": "2022-08-04T11:41:31.119863Z",
     "start_time": "2022-08-04T11:41:31.090851Z"
    }
   },
   "outputs": [
    {
     "data": {
      "text/html": [
       "<style>.container { width:90% !important; }</style>"
      ],
      "text/plain": [
       "<IPython.core.display.HTML object>"
      ]
     },
     "metadata": {},
     "output_type": "display_data"
    }
   ],
   "source": [
    "display(HTML(\"<style>.container { width:90% !important; }</style>\"))\n",
    "%matplotlib inline\n",
    "%config Completer.use_jedi = False\n",
    "warnings.filterwarnings('ignore')\n",
    "rcParams['figure.figsize'] = 24,12"
   ]
  },
  {
   "cell_type": "code",
   "execution_count": 169,
   "id": "07b7057f",
   "metadata": {
    "ExecuteTime": {
     "end_time": "2022-08-04T12:54:04.442993Z",
     "start_time": "2022-08-04T12:54:04.418114Z"
    }
   },
   "outputs": [],
   "source": [
    "df = pd.read_csv('scouting/mozambia.csv')"
   ]
  },
  {
   "cell_type": "code",
   "execution_count": 170,
   "id": "737407e3",
   "metadata": {
    "ExecuteTime": {
     "end_time": "2022-08-04T12:54:12.211132Z",
     "start_time": "2022-08-04T12:54:12.199110Z"
    }
   },
   "outputs": [],
   "source": [
    "df.drop(columns='geometry', inplace=True)"
   ]
  },
  {
   "cell_type": "code",
   "execution_count": 171,
   "id": "d4c43527",
   "metadata": {
    "ExecuteTime": {
     "end_time": "2022-08-04T12:54:34.093321Z",
     "start_time": "2022-08-04T12:54:34.072890Z"
    }
   },
   "outputs": [],
   "source": [
    "df.fillna(0, inplace=True)"
   ]
  },
  {
   "cell_type": "code",
   "execution_count": 172,
   "id": "391df8e3",
   "metadata": {
    "ExecuteTime": {
     "end_time": "2022-08-04T12:54:41.657479Z",
     "start_time": "2022-08-04T12:54:41.644928Z"
    }
   },
   "outputs": [
    {
     "data": {
      "text/plain": [
       "Unnamed: 0                 0\n",
       "country                    0\n",
       "lat                        0\n",
       "lon                        0\n",
       "id                         0\n",
       "sub_region                 0\n",
       "region                     0\n",
       "village                    0\n",
       "district                   0\n",
       "number_scouting            0\n",
       "scouting_plants_checked    0\n",
       "scouting_plants_faw        0\n",
       "hecatres_checked           0\n",
       "date                       0\n",
       "perc_numeric               0\n",
       "presence                   0\n",
       "dtype: int64"
      ]
     },
     "execution_count": 172,
     "metadata": {},
     "output_type": "execute_result"
    }
   ],
   "source": [
    "df.isna().sum()"
   ]
  },
  {
   "cell_type": "code",
   "execution_count": 173,
   "id": "2684cb65",
   "metadata": {
    "ExecuteTime": {
     "end_time": "2022-08-04T12:54:49.362358Z",
     "start_time": "2022-08-04T12:54:49.346335Z"
    }
   },
   "outputs": [
    {
     "data": {
      "text/plain": [
       "array(['Mozambique', 'Zambia'], dtype=object)"
      ]
     },
     "execution_count": 173,
     "metadata": {},
     "output_type": "execute_result"
    }
   ],
   "source": [
    "df.country.unique()"
   ]
  },
  {
   "cell_type": "code",
   "execution_count": 174,
   "id": "7815db84",
   "metadata": {
    "ExecuteTime": {
     "end_time": "2022-08-04T12:54:49.378944Z",
     "start_time": "2022-08-04T12:54:49.362358Z"
    }
   },
   "outputs": [],
   "source": [
    "gdf = gpd.GeoDataFrame(df, geometry=gpd.points_from_xy(df.lon, df.lat))"
   ]
  },
  {
   "cell_type": "code",
   "execution_count": 175,
   "id": "53faedcf",
   "metadata": {
    "ExecuteTime": {
     "end_time": "2022-08-04T12:55:04.428787Z",
     "start_time": "2022-08-04T12:55:04.397134Z"
    }
   },
   "outputs": [
    {
     "data": {
      "text/html": [
       "<div>\n",
       "<style scoped>\n",
       "    .dataframe tbody tr th:only-of-type {\n",
       "        vertical-align: middle;\n",
       "    }\n",
       "\n",
       "    .dataframe tbody tr th {\n",
       "        vertical-align: top;\n",
       "    }\n",
       "\n",
       "    .dataframe thead th {\n",
       "        text-align: right;\n",
       "    }\n",
       "</style>\n",
       "<table border=\"1\" class=\"dataframe\">\n",
       "  <thead>\n",
       "    <tr style=\"text-align: right;\">\n",
       "      <th></th>\n",
       "      <th>Unnamed: 0</th>\n",
       "      <th>country</th>\n",
       "      <th>lat</th>\n",
       "      <th>lon</th>\n",
       "      <th>id</th>\n",
       "      <th>sub_region</th>\n",
       "      <th>region</th>\n",
       "      <th>village</th>\n",
       "      <th>district</th>\n",
       "      <th>number_scouting</th>\n",
       "      <th>scouting_plants_checked</th>\n",
       "      <th>scouting_plants_faw</th>\n",
       "      <th>hecatres_checked</th>\n",
       "      <th>date</th>\n",
       "      <th>perc_numeric</th>\n",
       "      <th>presence</th>\n",
       "      <th>geometry</th>\n",
       "    </tr>\n",
       "  </thead>\n",
       "  <tbody>\n",
       "    <tr>\n",
       "      <th>0</th>\n",
       "      <td>424</td>\n",
       "      <td>Mozambique</td>\n",
       "      <td>-19.299744</td>\n",
       "      <td>33.248986</td>\n",
       "      <td>62861</td>\n",
       "      <td>Sub-Saharan Africa</td>\n",
       "      <td>Africa</td>\n",
       "      <td>nhambaba 3</td>\n",
       "      <td>Manica</td>\n",
       "      <td>1</td>\n",
       "      <td>50</td>\n",
       "      <td>27.0</td>\n",
       "      <td>3.00</td>\n",
       "      <td>2022-04-06</td>\n",
       "      <td>0.54</td>\n",
       "      <td>1</td>\n",
       "      <td>POINT (33.24899 -19.29974)</td>\n",
       "    </tr>\n",
       "    <tr>\n",
       "      <th>1</th>\n",
       "      <td>425</td>\n",
       "      <td>Mozambique</td>\n",
       "      <td>-15.637863</td>\n",
       "      <td>34.396655</td>\n",
       "      <td>57779</td>\n",
       "      <td>Sub-Saharan Africa</td>\n",
       "      <td>Africa</td>\n",
       "      <td>Missama Moatize</td>\n",
       "      <td>Tete</td>\n",
       "      <td>1</td>\n",
       "      <td>50</td>\n",
       "      <td>4.0</td>\n",
       "      <td>2.00</td>\n",
       "      <td>2022-04-02</td>\n",
       "      <td>0.08</td>\n",
       "      <td>0</td>\n",
       "      <td>POINT (34.39666 -15.63786)</td>\n",
       "    </tr>\n",
       "    <tr>\n",
       "      <th>2</th>\n",
       "      <td>426</td>\n",
       "      <td>Mozambique</td>\n",
       "      <td>-22.194675</td>\n",
       "      <td>35.052885</td>\n",
       "      <td>70433</td>\n",
       "      <td>Sub-Saharan Africa</td>\n",
       "      <td>Africa</td>\n",
       "      <td>Mulungo</td>\n",
       "      <td>Inhambane Province</td>\n",
       "      <td>1</td>\n",
       "      <td>50</td>\n",
       "      <td>34.0</td>\n",
       "      <td>1.00</td>\n",
       "      <td>2022-05-11</td>\n",
       "      <td>0.68</td>\n",
       "      <td>1</td>\n",
       "      <td>POINT (35.05289 -22.19468)</td>\n",
       "    </tr>\n",
       "    <tr>\n",
       "      <th>3</th>\n",
       "      <td>427</td>\n",
       "      <td>Mozambique</td>\n",
       "      <td>-16.097872</td>\n",
       "      <td>35.767470</td>\n",
       "      <td>70459</td>\n",
       "      <td>Sub-Saharan Africa</td>\n",
       "      <td>Africa</td>\n",
       "      <td>Paquete</td>\n",
       "      <td>Zambezia Province</td>\n",
       "      <td>1</td>\n",
       "      <td>50</td>\n",
       "      <td>25.0</td>\n",
       "      <td>0.25</td>\n",
       "      <td>2022-05-13</td>\n",
       "      <td>0.50</td>\n",
       "      <td>1</td>\n",
       "      <td>POINT (35.76747 -16.09787)</td>\n",
       "    </tr>\n",
       "    <tr>\n",
       "      <th>4</th>\n",
       "      <td>428</td>\n",
       "      <td>Mozambique</td>\n",
       "      <td>-14.940438</td>\n",
       "      <td>37.522430</td>\n",
       "      <td>59775</td>\n",
       "      <td>Sub-Saharan Africa</td>\n",
       "      <td>Africa</td>\n",
       "      <td>canhunha</td>\n",
       "      <td>Nampula</td>\n",
       "      <td>1</td>\n",
       "      <td>50</td>\n",
       "      <td>16.0</td>\n",
       "      <td>2.00</td>\n",
       "      <td>2022-04-05</td>\n",
       "      <td>0.32</td>\n",
       "      <td>1</td>\n",
       "      <td>POINT (37.52243 -14.94044)</td>\n",
       "    </tr>\n",
       "    <tr>\n",
       "      <th>...</th>\n",
       "      <td>...</td>\n",
       "      <td>...</td>\n",
       "      <td>...</td>\n",
       "      <td>...</td>\n",
       "      <td>...</td>\n",
       "      <td>...</td>\n",
       "      <td>...</td>\n",
       "      <td>...</td>\n",
       "      <td>...</td>\n",
       "      <td>...</td>\n",
       "      <td>...</td>\n",
       "      <td>...</td>\n",
       "      <td>...</td>\n",
       "      <td>...</td>\n",
       "      <td>...</td>\n",
       "      <td>...</td>\n",
       "      <td>...</td>\n",
       "    </tr>\n",
       "    <tr>\n",
       "      <th>662</th>\n",
       "      <td>1256</td>\n",
       "      <td>Zambia</td>\n",
       "      <td>-15.529634</td>\n",
       "      <td>28.490958</td>\n",
       "      <td>71863</td>\n",
       "      <td>Sub-Saharan Africa</td>\n",
       "      <td>Africa</td>\n",
       "      <td>Chongwe, Kanakantampa, J</td>\n",
       "      <td>Lusaka Province</td>\n",
       "      <td>1</td>\n",
       "      <td>50</td>\n",
       "      <td>46.0</td>\n",
       "      <td>0.11</td>\n",
       "      <td>2022-06-16</td>\n",
       "      <td>0.92</td>\n",
       "      <td>1</td>\n",
       "      <td>POINT (28.49096 -15.52963)</td>\n",
       "    </tr>\n",
       "    <tr>\n",
       "      <th>663</th>\n",
       "      <td>1257</td>\n",
       "      <td>Zambia</td>\n",
       "      <td>-16.808090</td>\n",
       "      <td>26.987046</td>\n",
       "      <td>71097</td>\n",
       "      <td>Sub-Saharan Africa</td>\n",
       "      <td>Africa</td>\n",
       "      <td>choma,central A,kabanana</td>\n",
       "      <td>Southern Province</td>\n",
       "      <td>1</td>\n",
       "      <td>50</td>\n",
       "      <td>12.0</td>\n",
       "      <td>1.00</td>\n",
       "      <td>2022-06-22</td>\n",
       "      <td>0.24</td>\n",
       "      <td>1</td>\n",
       "      <td>POINT (26.98705 -16.80809)</td>\n",
       "    </tr>\n",
       "    <tr>\n",
       "      <th>664</th>\n",
       "      <td>1258</td>\n",
       "      <td>Zambia</td>\n",
       "      <td>-10.251993</td>\n",
       "      <td>33.368077</td>\n",
       "      <td>71063</td>\n",
       "      <td>Sub-Saharan Africa</td>\n",
       "      <td>Africa</td>\n",
       "      <td>Mafinga</td>\n",
       "      <td>Muchinga Province</td>\n",
       "      <td>1</td>\n",
       "      <td>50</td>\n",
       "      <td>18.0</td>\n",
       "      <td>0.05</td>\n",
       "      <td>2022-06-22</td>\n",
       "      <td>0.36</td>\n",
       "      <td>1</td>\n",
       "      <td>POINT (33.36808 -10.25199)</td>\n",
       "    </tr>\n",
       "    <tr>\n",
       "      <th>665</th>\n",
       "      <td>1259</td>\n",
       "      <td>Zambia</td>\n",
       "      <td>-14.440750</td>\n",
       "      <td>28.446371</td>\n",
       "      <td>70767</td>\n",
       "      <td>Sub-Saharan Africa</td>\n",
       "      <td>Africa</td>\n",
       "      <td>Luano, Mboroma, Chipili</td>\n",
       "      <td>Central Province, Zambia</td>\n",
       "      <td>1</td>\n",
       "      <td>50</td>\n",
       "      <td>35.0</td>\n",
       "      <td>2.00</td>\n",
       "      <td>2022-06-09</td>\n",
       "      <td>0.70</td>\n",
       "      <td>1</td>\n",
       "      <td>POINT (28.44637 -14.44075)</td>\n",
       "    </tr>\n",
       "    <tr>\n",
       "      <th>666</th>\n",
       "      <td>1260</td>\n",
       "      <td>Zambia</td>\n",
       "      <td>-11.843895</td>\n",
       "      <td>31.412793</td>\n",
       "      <td>72089</td>\n",
       "      <td>Sub-Saharan Africa</td>\n",
       "      <td>Africa</td>\n",
       "      <td>Mpika,Mpika main,Chitulika</td>\n",
       "      <td>Muchinga Province</td>\n",
       "      <td>1</td>\n",
       "      <td>50</td>\n",
       "      <td>16.0</td>\n",
       "      <td>1.00</td>\n",
       "      <td>2022-06-15</td>\n",
       "      <td>0.32</td>\n",
       "      <td>1</td>\n",
       "      <td>POINT (31.41279 -11.84389)</td>\n",
       "    </tr>\n",
       "  </tbody>\n",
       "</table>\n",
       "<p>667 rows × 17 columns</p>\n",
       "</div>"
      ],
      "text/plain": [
       "     Unnamed: 0     country        lat        lon     id          sub_region  \\\n",
       "0           424  Mozambique -19.299744  33.248986  62861  Sub-Saharan Africa   \n",
       "1           425  Mozambique -15.637863  34.396655  57779  Sub-Saharan Africa   \n",
       "2           426  Mozambique -22.194675  35.052885  70433  Sub-Saharan Africa   \n",
       "3           427  Mozambique -16.097872  35.767470  70459  Sub-Saharan Africa   \n",
       "4           428  Mozambique -14.940438  37.522430  59775  Sub-Saharan Africa   \n",
       "..          ...         ...        ...        ...    ...                 ...   \n",
       "662        1256      Zambia -15.529634  28.490958  71863  Sub-Saharan Africa   \n",
       "663        1257      Zambia -16.808090  26.987046  71097  Sub-Saharan Africa   \n",
       "664        1258      Zambia -10.251993  33.368077  71063  Sub-Saharan Africa   \n",
       "665        1259      Zambia -14.440750  28.446371  70767  Sub-Saharan Africa   \n",
       "666        1260      Zambia -11.843895  31.412793  72089  Sub-Saharan Africa   \n",
       "\n",
       "     region                     village                  district  \\\n",
       "0    Africa                  nhambaba 3                    Manica   \n",
       "1    Africa             Missama Moatize                      Tete   \n",
       "2    Africa                     Mulungo        Inhambane Province   \n",
       "3    Africa                     Paquete         Zambezia Province   \n",
       "4    Africa                    canhunha                   Nampula   \n",
       "..      ...                         ...                       ...   \n",
       "662  Africa    Chongwe, Kanakantampa, J           Lusaka Province   \n",
       "663  Africa    choma,central A,kabanana         Southern Province   \n",
       "664  Africa                     Mafinga         Muchinga Province   \n",
       "665  Africa     Luano, Mboroma, Chipili  Central Province, Zambia   \n",
       "666  Africa  Mpika,Mpika main,Chitulika         Muchinga Province   \n",
       "\n",
       "     number_scouting  scouting_plants_checked  scouting_plants_faw  \\\n",
       "0                  1                       50                 27.0   \n",
       "1                  1                       50                  4.0   \n",
       "2                  1                       50                 34.0   \n",
       "3                  1                       50                 25.0   \n",
       "4                  1                       50                 16.0   \n",
       "..               ...                      ...                  ...   \n",
       "662                1                       50                 46.0   \n",
       "663                1                       50                 12.0   \n",
       "664                1                       50                 18.0   \n",
       "665                1                       50                 35.0   \n",
       "666                1                       50                 16.0   \n",
       "\n",
       "     hecatres_checked        date  perc_numeric  presence  \\\n",
       "0                3.00  2022-04-06          0.54         1   \n",
       "1                2.00  2022-04-02          0.08         0   \n",
       "2                1.00  2022-05-11          0.68         1   \n",
       "3                0.25  2022-05-13          0.50         1   \n",
       "4                2.00  2022-04-05          0.32         1   \n",
       "..                ...         ...           ...       ...   \n",
       "662              0.11  2022-06-16          0.92         1   \n",
       "663              1.00  2022-06-22          0.24         1   \n",
       "664              0.05  2022-06-22          0.36         1   \n",
       "665              2.00  2022-06-09          0.70         1   \n",
       "666              1.00  2022-06-15          0.32         1   \n",
       "\n",
       "                       geometry  \n",
       "0    POINT (33.24899 -19.29974)  \n",
       "1    POINT (34.39666 -15.63786)  \n",
       "2    POINT (35.05289 -22.19468)  \n",
       "3    POINT (35.76747 -16.09787)  \n",
       "4    POINT (37.52243 -14.94044)  \n",
       "..                          ...  \n",
       "662  POINT (28.49096 -15.52963)  \n",
       "663  POINT (26.98705 -16.80809)  \n",
       "664  POINT (33.36808 -10.25199)  \n",
       "665  POINT (28.44637 -14.44075)  \n",
       "666  POINT (31.41279 -11.84389)  \n",
       "\n",
       "[667 rows x 17 columns]"
      ]
     },
     "execution_count": 175,
     "metadata": {},
     "output_type": "execute_result"
    }
   ],
   "source": [
    "gdf"
   ]
  },
  {
   "cell_type": "code",
   "execution_count": 176,
   "id": "f1673661",
   "metadata": {
    "ExecuteTime": {
     "end_time": "2022-08-04T12:55:11.985332Z",
     "start_time": "2022-08-04T12:55:11.969492Z"
    }
   },
   "outputs": [],
   "source": [
    "df_grp_by_date = gdf.groupby([df['date']])"
   ]
  },
  {
   "cell_type": "code",
   "execution_count": 11,
   "id": "a698acaa-2eca-4cb3-83a9-3d7e8f69e850",
   "metadata": {
    "ExecuteTime": {
     "end_time": "2022-08-04T11:41:53.215114Z",
     "start_time": "2022-08-04T11:41:53.190230Z"
    }
   },
   "outputs": [
    {
     "data": {
      "application/vnd.jupyter.widget-view+json": {
       "model_id": "67bf0311e8b042578982d24dd38dbed4",
       "version_major": 2,
       "version_minor": 0
      },
      "text/plain": [
       "Dropdown(description='Group Date', options=('2022-04-01', '2022-04-02', '2022-04-04', '2022-04-05', '2022-04-0…"
      ]
     },
     "metadata": {},
     "output_type": "display_data"
    }
   ],
   "source": [
    "available_dates = [key for key in df_grp_by_date.groups.keys()]\n",
    "\n",
    "dropdown_group_date = wgts.Dropdown(\n",
    "    description='Group Date',\n",
    "    options=available_dates,\n",
    "    value= available_dates[0]        \n",
    ")\n",
    "dropdown_group_date"
   ]
  },
  {
   "cell_type": "code",
   "execution_count": 12,
   "id": "da50d28a-7db6-46ca-a37e-fec1362e97f1",
   "metadata": {
    "ExecuteTime": {
     "end_time": "2022-08-04T11:42:08.070106Z",
     "start_time": "2022-08-04T11:42:08.062049Z"
    }
   },
   "outputs": [],
   "source": [
    "def data_by_date(value):\n",
    "    if value is None:\n",
    "        value = dropdown_group_date[0]\n",
    "    \n",
    "    global daily_group\n",
    "    daily_group = df_grp_by_date[['id','date','country','geometry']].get_group(value)\n",
    "    \n",
    "    return daily_group"
   ]
  },
  {
   "cell_type": "code",
   "execution_count": 13,
   "id": "eee3515c-2d1a-4f3f-9edc-13b88571e7ca",
   "metadata": {
    "ExecuteTime": {
     "end_time": "2022-08-04T11:42:30.382788Z",
     "start_time": "2022-08-04T11:42:30.261720Z"
    }
   },
   "outputs": [],
   "source": [
    "engine = db.create_engine('postgresql+psycopg2://postgres@localhost:5432/ml_faw')\n",
    "con = engine.connect()\n",
    "metadata = db.MetaData()"
   ]
  },
  {
   "cell_type": "code",
   "execution_count": 14,
   "id": "3d7e6c57-543c-4b69-9d2f-03952a7310cf",
   "metadata": {
    "ExecuteTime": {
     "end_time": "2022-08-04T11:42:30.627590Z",
     "start_time": "2022-08-04T11:42:30.507375Z"
    }
   },
   "outputs": [],
   "source": [
    "# Defining A connection string and making a connection\n",
    "########################################################################\n",
    "%load_ext sql\n",
    "connection_string = f\"postgresql+psycopg2://postgres@localhost:5432/ml_faw\"\n",
    "%sql $connection_string\n",
    "########################################################################"
   ]
  },
  {
   "cell_type": "code",
   "execution_count": 15,
   "id": "91be967f-e5fb-44c9-9f15-41c5c1143b43",
   "metadata": {
    "ExecuteTime": {
     "end_time": "2022-08-04T11:42:30.724460Z",
     "start_time": "2022-08-04T11:42:30.700256Z"
    }
   },
   "outputs": [
    {
     "name": "stdout",
     "output_type": "stream",
     "text": [
      " * postgresql+psycopg2://postgres@localhost:5432/ml_faw\n",
      "10 rows affected.\n"
     ]
    },
    {
     "data": {
      "text/html": [
       "<table>\n",
       "    <tr>\n",
       "        <th>id</th>\n",
       "        <th>tmin</th>\n",
       "        <th>tmax</th>\n",
       "        <th>mean_temperature</th>\n",
       "    </tr>\n",
       "    <tr>\n",
       "        <td>57564</td>\n",
       "        <td>19.1946</td>\n",
       "        <td>29.2414</td>\n",
       "        <td>24.218</td>\n",
       "    </tr>\n",
       "    <tr>\n",
       "        <td>72077</td>\n",
       "        <td>20.3182</td>\n",
       "        <td>32.0538</td>\n",
       "        <td>26.186</td>\n",
       "    </tr>\n",
       "    <tr>\n",
       "        <td>57665</td>\n",
       "        <td>18.1703</td>\n",
       "        <td>31.5879</td>\n",
       "        <td>24.8791</td>\n",
       "    </tr>\n",
       "    <tr>\n",
       "        <td>57643</td>\n",
       "        <td>20.8169</td>\n",
       "        <td>30.6682</td>\n",
       "        <td>25.7425</td>\n",
       "    </tr>\n",
       "    <tr>\n",
       "        <td>57668</td>\n",
       "        <td>18.1703</td>\n",
       "        <td>31.5879</td>\n",
       "        <td>24.8791</td>\n",
       "    </tr>\n",
       "    <tr>\n",
       "        <td>57667</td>\n",
       "        <td>18.1703</td>\n",
       "        <td>31.5879</td>\n",
       "        <td>24.8791</td>\n",
       "    </tr>\n",
       "    <tr>\n",
       "        <td>57681</td>\n",
       "        <td>20.3182</td>\n",
       "        <td>32.0538</td>\n",
       "        <td>26.186</td>\n",
       "    </tr>\n",
       "    <tr>\n",
       "        <td>57669</td>\n",
       "        <td>18.1703</td>\n",
       "        <td>31.5879</td>\n",
       "        <td>24.8791</td>\n",
       "    </tr>\n",
       "    <tr>\n",
       "        <td>72078</td>\n",
       "        <td>20.3182</td>\n",
       "        <td>32.0538</td>\n",
       "        <td>26.186</td>\n",
       "    </tr>\n",
       "    <tr>\n",
       "        <td>57553</td>\n",
       "        <td>21.7172</td>\n",
       "        <td>30.656</td>\n",
       "        <td>26.1866</td>\n",
       "    </tr>\n",
       "</table>"
      ],
      "text/plain": [
       "[(57564, 19.1946, 29.2414, 24.218),\n",
       " (72077, 20.3182, 32.0538, 26.186),\n",
       " (57665, 18.1703, 31.5879, 24.8791),\n",
       " (57643, 20.8169, 30.6682, 25.7425),\n",
       " (57668, 18.1703, 31.5879, 24.8791),\n",
       " (57667, 18.1703, 31.5879, 24.8791),\n",
       " (57681, 20.3182, 32.0538, 26.186),\n",
       " (57669, 18.1703, 31.5879, 24.8791),\n",
       " (72078, 20.3182, 32.0538, 26.186),\n",
       " (57553, 21.7172, 30.656, 26.1866)]"
      ]
     },
     "execution_count": 15,
     "metadata": {},
     "output_type": "execute_result"
    }
   ],
   "source": [
    "results = %sql select * from temperatures limit 10;\n",
    "results"
   ]
  },
  {
   "cell_type": "code",
   "execution_count": 16,
   "id": "ef2f1a33-8b2a-47ae-a6f3-e4e6cb428bde",
   "metadata": {
    "ExecuteTime": {
     "end_time": "2022-08-04T11:42:31.053260Z",
     "start_time": "2022-08-04T11:42:31.045227Z"
    }
   },
   "outputs": [],
   "source": [
    "# results_df = results.DataFrame()\n",
    "# results_df.head()"
   ]
  },
  {
   "cell_type": "code",
   "execution_count": 17,
   "id": "236eff69-6d87-4364-97ed-44b3d2b0836e",
   "metadata": {
    "ExecuteTime": {
     "end_time": "2022-08-04T11:42:31.357862Z",
     "start_time": "2022-08-04T11:42:31.345813Z"
    }
   },
   "outputs": [],
   "source": [
    "# results.dict()\n",
    "# results.field_names\n",
    "# results.index"
   ]
  },
  {
   "cell_type": "code",
   "execution_count": 18,
   "id": "71ca1d46-f2e7-4092-8ae1-830202a23ce4",
   "metadata": {
    "ExecuteTime": {
     "end_time": "2022-08-04T11:42:31.759473Z",
     "start_time": "2022-08-04T11:42:31.747455Z"
    }
   },
   "outputs": [],
   "source": [
    "# mean_t = 28"
   ]
  },
  {
   "cell_type": "code",
   "execution_count": 19,
   "id": "31c382d3-aaa7-48dd-a1bf-80cff3151e04",
   "metadata": {
    "ExecuteTime": {
     "end_time": "2022-08-04T11:42:32.167365Z",
     "start_time": "2022-08-04T11:42:32.155072Z"
    }
   },
   "outputs": [],
   "source": [
    "# %%sql \n",
    "# result << SELECT id,mean_temperature \n",
    "#           FROM temperatures\n",
    "#           WHERE mean_temperature >= :mean_t"
   ]
  },
  {
   "cell_type": "code",
   "execution_count": 20,
   "id": "76f5cf72-edce-4fcd-bddf-540f883d327d",
   "metadata": {
    "ExecuteTime": {
     "end_time": "2022-08-04T11:42:32.547690Z",
     "start_time": "2022-08-04T11:42:32.531454Z"
    }
   },
   "outputs": [],
   "source": [
    "# result"
   ]
  },
  {
   "cell_type": "code",
   "execution_count": 21,
   "id": "a3bea44e-ea89-4832-8bf2-24bbad28f7ef",
   "metadata": {
    "ExecuteTime": {
     "end_time": "2022-08-04T11:43:01.517766Z",
     "start_time": "2022-08-04T11:43:00.193403Z"
    }
   },
   "outputs": [],
   "source": [
    "countries = gpd.read_file(\"data/custom.geo.json\")"
   ]
  },
  {
   "cell_type": "code",
   "execution_count": 22,
   "id": "bd09b2fb-fc79-47f5-8e12-687bf9dea650",
   "metadata": {
    "ExecuteTime": {
     "end_time": "2022-08-04T11:43:01.838100Z",
     "start_time": "2022-08-04T11:43:01.648966Z"
    }
   },
   "outputs": [
    {
     "data": {
      "text/plain": [
       "<AxesSubplot:>"
      ]
     },
     "execution_count": 22,
     "metadata": {},
     "output_type": "execute_result"
    },
    {
     "data": {
      "image/png": "[encoded data removed]",
      "text/plain": [
       "<Figure size 1728x864 with 1 Axes>"
      ]
     },
     "metadata": {
      "needs_background": "light"
     },
     "output_type": "display_data"
    }
   ],
   "source": [
    "aoi = countries.loc[countries['sovereignt'].isin(['Mozambique','Zambia'])]\n",
    "aoi.plot()"
   ]
  },
  {
   "cell_type": "markdown",
   "id": "32bde5d9",
   "metadata": {
    "tags": []
   },
   "source": [
    "# Google Earth Engine Settings"
   ]
  },
  {
   "cell_type": "markdown",
   "id": "59d0adaa-baa0-4b1e-b6b7-52627193f2c8",
   "metadata": {
    "heading_collapsed": true,
    "jp-MarkdownHeadingCollapsed": true,
    "tags": []
   },
   "source": [
    "## Charting"
   ]
  },
  {
   "cell_type": "code",
   "execution_count": 22,
   "id": "e3cd77b5-f812-4a73-bf26-d0d1b14b832d",
   "metadata": {
    "ExecuteTime": {
     "end_time": "2022-08-04T10:52:35.145229Z",
     "start_time": "2022-08-04T10:52:34.172273Z"
    },
    "hidden": true
   },
   "outputs": [
    {
     "data": {
      "image/png": "[encoded data removed]",
      "text/plain": [
       "<Figure size 1728x864 with 1 Axes>"
      ]
     },
     "metadata": {
      "needs_background": "light"
     },
     "output_type": "display_data"
    }
   ],
   "source": [
    "# Fetch a Landsat image.\n",
    "img = ee.Image('LANDSAT/LT05/C01/T1_SR/LT05_034033_20000913')\n",
    "\n",
    "# Select Red and NIR bands, scale them, and sample 500 points.\n",
    "samp_fc = img.select(['B3','B4']).divide(10000).sample(scale=30, numPixels=500)\n",
    "\n",
    "# Arrange the sample as a list of lists.\n",
    "samp_dict = samp_fc.reduceColumns(ee.Reducer.toList().repeat(2), ['B3', 'B4'])\n",
    "samp_list = ee.List(samp_dict.get('list'))\n",
    "\n",
    "# Save server-side ee.List as a client-side Python list.\n",
    "samp_data = samp_list.getInfo()\n",
    "\n",
    "# Display a scatter plot of Red-NIR sample pairs using matplotlib.\n",
    "plt.scatter(samp_data[0], samp_data[1], alpha=0.2)\n",
    "plt.xlabel('Red', fontsize=12)\n",
    "plt.ylabel('NIR', fontsize=12)\n",
    "plt.show()"
   ]
  },
  {
   "cell_type": "markdown",
   "id": "39bc47f3-4d3d-4273-b46b-fdd0cad32208",
   "metadata": {
    "tags": []
   },
   "source": [
    "## Common Params"
   ]
  },
  {
   "cell_type": "code",
   "execution_count": 23,
   "id": "fd70c5b8-4859-438b-a097-9b81dcb941e3",
   "metadata": {
    "ExecuteTime": {
     "end_time": "2022-08-04T11:43:36.133176Z",
     "start_time": "2022-08-04T11:43:36.117121Z"
    }
   },
   "outputs": [],
   "source": [
    "start_date='2022-03-15'\n",
    "ee_start_date=ee.Date(start_date)\n",
    "\n",
    "end_date='2022-07-20'\n",
    "ee_end_date=ee.Date(end_date)"
   ]
  },
  {
   "cell_type": "code",
   "execution_count": 24,
   "id": "5fd580ab-31c4-41db-9fc0-0cc6f47c758d",
   "metadata": {
    "ExecuteTime": {
     "end_time": "2022-08-04T11:43:37.908529Z",
     "start_time": "2022-08-04T11:43:36.857045Z"
    }
   },
   "outputs": [],
   "source": [
    "aoi= eec.gdfToFc(countries)"
   ]
  },
  {
   "cell_type": "markdown",
   "id": "fbb037c3",
   "metadata": {
    "tags": []
   },
   "source": [
    "## Common Function"
   ]
  },
  {
   "cell_type": "code",
   "execution_count": 25,
   "id": "7ab5eb71-67f9-49b0-b3a5-22d1cdf9613a",
   "metadata": {
    "ExecuteTime": {
     "end_time": "2022-08-04T11:43:45.718921Z",
     "start_time": "2022-08-04T11:43:45.450860Z"
    }
   },
   "outputs": [],
   "source": [
    "Map = geemap.Map(center=[6,41], zoom=6)"
   ]
  },
  {
   "cell_type": "code",
   "execution_count": 26,
   "id": "ec75be98-a31c-4118-bb95-ad727f599bcb",
   "metadata": {
    "ExecuteTime": {
     "end_time": "2022-08-04T11:43:53.090465Z",
     "start_time": "2022-08-04T11:43:53.074356Z"
    },
    "tags": []
   },
   "outputs": [],
   "source": [
    "# Function to Convert Feature Classes to Pandas Dataframe\n",
    "def fc2df(fc):\n",
    "    # Convert a FeatureCollection into a pandas DataFrame\n",
    "    # Features is a list of dict with the output\n",
    "    features = fc.getInfo()['features']\n",
    "\n",
    "    dictarr = []\n",
    "\n",
    "    for f in features:\n",
    "        # Store all attributes in a dict\n",
    "        attr = f['properties']\n",
    "        dictarr.append(attr)\n",
    "\n",
    "    return pd.DataFrame(dictarr)"
   ]
  },
  {
   "cell_type": "code",
   "execution_count": 28,
   "id": "2792a35a",
   "metadata": {
    "ExecuteTime": {
     "end_time": "2022-08-04T11:44:08.148263Z",
     "start_time": "2022-08-04T11:44:08.132198Z"
    },
    "tags": []
   },
   "outputs": [],
   "source": [
    "def ClippingOnAOIArea(image):    \n",
    "    return image.clip(aoi)"
   ]
  },
  {
   "cell_type": "code",
   "execution_count": 30,
   "id": "9b566a00",
   "metadata": {
    "ExecuteTime": {
     "end_time": "2022-08-04T11:44:23.270323Z",
     "start_time": "2022-08-04T11:44:23.254232Z"
    }
   },
   "outputs": [],
   "source": [
    "def add_data(data_pass,viz={},name='NULL NAME'):    \n",
    "    Map.addLayer(data_pass,{},name)"
   ]
  },
  {
   "cell_type": "code",
   "execution_count": 31,
   "id": "84370f81-904f-46d3-8e78-7447d9ad2612",
   "metadata": {
    "ExecuteTime": {
     "end_time": "2022-08-04T11:44:30.666692Z",
     "start_time": "2022-08-04T11:44:30.653055Z"
    }
   },
   "outputs": [],
   "source": [
    "def convert_eedate_2_date(ee_date):\n",
    "    return datetime.utcfromtimestamp(ee_date.getInfo()['value']/1000.0)"
   ]
  },
  {
   "cell_type": "code",
   "execution_count": 32,
   "id": "71079db1-780b-4f82-b951-058c92218927",
   "metadata": {
    "ExecuteTime": {
     "end_time": "2022-08-04T11:44:37.993377Z",
     "start_time": "2022-08-04T11:44:37.977304Z"
    }
   },
   "outputs": [],
   "source": [
    "def convert_date_2_eeDate(py_date):\n",
    "    return ee.Date(py_date)"
   ]
  },
  {
   "cell_type": "code",
   "execution_count": 33,
   "id": "732c2683-fce1-48c6-9fd5-2f1e20b69c8b",
   "metadata": {
    "ExecuteTime": {
     "end_time": "2022-08-04T11:44:45.325590Z",
     "start_time": "2022-08-04T11:44:45.313566Z"
    }
   },
   "outputs": [],
   "source": [
    "def add_ee_layer(self, ee_image_object, vis_params, name):\n",
    "    map_id_dict = ee.Image(ee_image_object).getMapId(vis_params)\n",
    "    folium.raster_layers.TileLayer(\n",
    "        tiles=map_id_dict['tile_fetcher'].url_format,\n",
    "        attr='Map Data &copy; <a href=\"https://earthengine.google.com/\">Google Earth Engine</a>',\n",
    "        name=name,\n",
    "        overlay=True,\n",
    "        control=True\n",
    "  ).add_to(self)"
   ]
  },
  {
   "cell_type": "markdown",
   "id": "ee3ad0fd-3044-41bb-ab27-afaf3b20689e",
   "metadata": {
    "tags": []
   },
   "source": [
    "# Google Earth Engine Data Collection"
   ]
  },
  {
   "cell_type": "markdown",
   "id": "b9d38595-496e-4b95-98e3-7c2ace649393",
   "metadata": {
    "tags": []
   },
   "source": [
    "## GLDAS 3Hourly"
   ]
  },
  {
   "cell_type": "markdown",
   "id": "992f3054-17bf-43c7-b225-1f7d1a14f7f7",
   "metadata": {},
   "source": [
    "| Name | \tUnits |\tMin |\tMax |\tDescription|\n",
    "| --- | --- | --- | --- | --- |\n",
    "|ECanop_tavg |\tW/m^2 |\t0* |\t1273.66* |\tCanopy water evaporation\n",
    "|ESoil_tavg |\tW/m^2 |\t0* |\t2275.63* |\tDirect evaporation from bare soil\n",
    "|Evap_tavg |\tkg/m^2/s |\t0* |\t0.002* |\tEvapotranspiration\n",
    "|PotEvap_tavg | \tW/m^2 |\t-227.75* |\t18977.9* |\tPotential evaporation rate\n",
    "|Qair_f_inst |\tkg/kg |\t-0.02* |\t0.07* |\tSpecific humidity |\n",
    "|Rainf_f_tavg |\tkg/m^2/s |\t0* |\t0.01* |\tTotal precipitation rate |\n",
    "|Rainf_tavg |\tkg/m^2/s |\t0* |\t0.01* |\tRain precipitation rate |\n",
    "|RootMoist_inst |\tkg/m^2 |\t2* |\t949.6* |\tRoot zone soil moisture |\n",
    "|SoilMoi0_10cm_inst |\tkg/m^2 |\t1.99* |\t47.59* |\tSoil moisture |\n",
    "|SoilMoi10_40cm_inst |\tkg/m^2 |\t5.99* |\t142.8* |\tSoil moisture\n",
    "|SoilMoi40_100cm_inst |\tkg/m^2 |\t11.99* |\t285.6* |\tSoil moisture |\n",
    "|SoilMoi100_200cm_inst |\tkg/m^2 |\t20* |\t476* |\tSoil moisture |\n",
    "|SoilTMP0_10cm_inst |\tK |\t221.98* |\t377.5* |\tSoil temperature |\n",
    "|SoilTMP10_40cm_inst |\tK |\t227.43* |\t319.44* |\tSoil temperature |\n",
    "|SoilTMP40_100cm_inst |\tK |\t232.97* |\t316.2* |\tSoil temperature |\n",
    "|SoilTMP100_200cm_inst |\tK |\t238.52* |\t314.11* |\tSoil temperature|\n",
    "|Swnet_tavg |\tW/m^2 |\t-48.96* |\t23741.3* |\tNet short wave radiation flux |\n",
    "|Tair_f_inst |\tK |\t206.8* |\t327.66* |\tAir temperature |\n",
    "|Tveg_tavg |\tW/m^2 |\t0* |\t3455.14* |\tTranspiration |\n",
    "|Wind_f_inst |\tm/s |\t0* |\t57.7* |\tWind speed |"
   ]
  },
  {
   "cell_type": "code",
   "execution_count": 34,
   "id": "1b9e9987-f00e-48cc-8198-1d1bfd186e47",
   "metadata": {
    "ExecuteTime": {
     "end_time": "2022-08-04T11:44:52.758024Z",
     "start_time": "2022-08-04T11:44:52.746475Z"
    }
   },
   "outputs": [],
   "source": [
    "GLDAS_3H = ee.ImageCollection(\"NASA/GLDAS/V021/NOAH/G025/T3H\")\n",
    "sm = GLDAS_3H.select('RootMoist_inst').filterDate(start_date, end_date)"
   ]
  },
  {
   "cell_type": "markdown",
   "id": "5daba49d-3b74-4e50-a9dd-070bb0be1486",
   "metadata": {},
   "source": [
    "### Aggregate by day grouping 3hourly data"
   ]
  },
  {
   "cell_type": "raw",
   "id": "cbd4e72f-13ff-476c-bfe9-760f44bbd4fb",
   "metadata": {},
   "source": [
    "The trick is to iteratively filter your original collection by each day in the date range of interest and reduce the constituents. You can do this by making a day sequence List and mapping over it and advancing the start and end dates of the filterDate filter by the enumerated day. An image list is returned, which can be converted to an ImageCollection. Here is the snippet that does the daily compositing:\n",
    "\n",
    "// Enumerate a list of days.\n",
    "var daysList = ee.List.sequence(0, nDays.subtract(1));\n",
    "\n",
    "// Map over the list of days to make daily sum composites.\n",
    "var pcpDayList = daysList.map(function(dayN){\n",
    "  var t1 = startDate.advance(ee.Number(dayN), 'day');\n",
    "  var t2 = t1.advance(1, 'day');\n",
    "  var dailySum = pcp.filterDate(t1, t2).sum();\n",
    "  var nBands = dailySum.bandNames().size();\n",
    "  return dailySum\n",
    "    .set({\n",
    "      'system:time_start': t1.millis(),\n",
    "      'nBands': nBands\n",
    "    });\n",
    "});\n",
    "\n",
    "You'll have to decide how to reduce the daily collection. Here I used sum(). I edited the script to implement the above compositing method. Note that I changed the number of days to chart and the scale (so it would plot). If you are going to plot all of the years you may need to do a region reduction outside of the chart and export the result as an asset and then read in the asset and chart it. With all of the compositing that needs to happen, the operation in the browser will likely time out."
   ]
  },
  {
   "cell_type": "code",
   "execution_count": 36,
   "id": "328c7956-7f62-4dc6-a676-25b370287cbc",
   "metadata": {
    "ExecuteTime": {
     "end_time": "2022-08-04T11:46:25.566509Z",
     "start_time": "2022-08-04T11:46:25.548259Z"
    }
   },
   "outputs": [],
   "source": [
    "collection_3hours_gldas = GLDAS_3H.select('RootMoist_inst').filterDate(ee_start_date,ee_end_date) \n",
    "#,'SoilMoi10_40cm_inst','SoilMoi40_100cm_inst','SoilTMP0_10cm_inst','SoilTMP10_40cm_inst','SoilTMP40_100cm_inst'\n",
    "numberOfDays = ee_end_date.difference(ee_start_date, 'days')"
   ]
  },
  {
   "cell_type": "code",
   "execution_count": 37,
   "id": "f225fb45-ef52-4560-996f-a45f290f6b8e",
   "metadata": {
    "ExecuteTime": {
     "end_time": "2022-08-04T11:46:34.060371Z",
     "start_time": "2022-08-04T11:46:33.092616Z"
    }
   },
   "outputs": [
    {
     "data": {
      "text/plain": [
       "911"
      ]
     },
     "execution_count": 37,
     "metadata": {},
     "output_type": "execute_result"
    }
   ],
   "source": [
    "collection_3hours_gldas.size().getInfo()"
   ]
  },
  {
   "cell_type": "code",
   "execution_count": 38,
   "id": "c58a4c7f-5b15-406e-a52c-45b3bf1e4809",
   "metadata": {
    "ExecuteTime": {
     "end_time": "2022-08-04T11:46:41.771140Z",
     "start_time": "2022-08-04T11:46:41.586432Z"
    }
   },
   "outputs": [
    {
     "data": {
      "text/plain": [
       "127"
      ]
     },
     "execution_count": 38,
     "metadata": {},
     "output_type": "execute_result"
    }
   ],
   "source": [
    "numberOfDays.getInfo()"
   ]
  },
  {
   "cell_type": "code",
   "execution_count": 39,
   "id": "4fa6189e-c6c4-4567-8d64-0ef594f876c0",
   "metadata": {
    "ExecuteTime": {
     "end_time": "2022-08-04T11:47:07.296951Z",
     "start_time": "2022-08-04T11:47:07.279328Z"
    }
   },
   "outputs": [],
   "source": [
    "sm_aggregated_daily = ee.ImageCollection(ee.List.sequence(0, numberOfDays.subtract(1)).map(\n",
    "                                               lambda dayOffset: collection_3hours_gldas.filterDate(ee_start_date.advance(dayOffset, 'days'), \n",
    "                                                                                                    ee_start_date.advance(dayOffset, 'days').advance(1,'days'))\n",
    "                                                                                                    .mean()\n",
    "                                                                                                    .set({'system:time_start': ee_start_date.advance(dayOffset, 'days').millis()})\n",
    "                                                                             )\n",
    "                          )"
   ]
  },
  {
   "cell_type": "code",
   "execution_count": 40,
   "id": "806b5879-f744-45ff-938f-0e7297e13b9d",
   "metadata": {
    "ExecuteTime": {
     "end_time": "2022-08-04T11:47:15.222006Z",
     "start_time": "2022-08-04T11:47:14.806647Z"
    }
   },
   "outputs": [
    {
     "name": "stdout",
     "output_type": "stream",
     "text": [
      "{'bands': [{'crs': 'EPSG:4326',\n",
      "            'crs_transform': [1, 0, 0, 0, 1, 0],\n",
      "            'data_type': {'precision': 'float', 'type': 'PixelType'},\n",
      "            'id': 'RootMoist_inst'}],\n",
      " 'properties': {'system:index': '0', 'system:time_start': 1647302400000},\n",
      " 'type': 'Image'}\n"
     ]
    }
   ],
   "source": [
    "pp.pprint(sm_aggregated_daily.first().getInfo())"
   ]
  },
  {
   "cell_type": "code",
   "execution_count": 49,
   "id": "2cba8e51-2c34-45dc-8010-14e665bf6fa4",
   "metadata": {
    "ExecuteTime": {
     "end_time": "2022-08-04T11:49:18.176922Z",
     "start_time": "2022-08-04T11:49:17.792085Z"
    }
   },
   "outputs": [
    {
     "data": {
      "text/plain": [
       "['RootMoist_inst']"
      ]
     },
     "execution_count": 49,
     "metadata": {},
     "output_type": "execute_result"
    }
   ],
   "source": [
    "sm_aggregated_daily.first().select('RootMoist_inst').bandNames().getInfo()"
   ]
  },
  {
   "cell_type": "code",
   "execution_count": 42,
   "id": "8ac81132-aa55-40a9-8c90-9f4241da8722",
   "metadata": {
    "ExecuteTime": {
     "end_time": "2022-08-04T11:47:30.719609Z",
     "start_time": "2022-08-04T11:47:30.703550Z"
    }
   },
   "outputs": [],
   "source": [
    "band_first_image = sm_aggregated_daily.first().select('RootMoist_inst')\n",
    "visualization = {'min': 0, 'max': 950, 'dimensions': 512, 'palette': ['D8D8D8', '006633', 'E5FFCC']}"
   ]
  },
  {
   "cell_type": "code",
   "execution_count": 55,
   "id": "265deec1",
   "metadata": {
    "ExecuteTime": {
     "end_time": "2022-08-04T11:50:43.976564Z",
     "start_time": "2022-08-04T11:50:43.526601Z"
    }
   },
   "outputs": [
    {
     "data": {
      "text/plain": [
       "'2022/3/15'"
      ]
     },
     "execution_count": 55,
     "metadata": {},
     "output_type": "execute_result"
    }
   ],
   "source": [
    "ee.Date(sm_aggregated_daily.first().get('system:time_start')).format('YYYY/M/d').getInfo()"
   ]
  },
  {
   "cell_type": "code",
   "execution_count": 43,
   "id": "8919121d-cb34-4279-9c5d-b8080b9f0a89",
   "metadata": {
    "ExecuteTime": {
     "end_time": "2022-08-04T11:47:38.802680Z",
     "start_time": "2022-08-04T11:47:38.274272Z"
    }
   },
   "outputs": [
    {
     "data": {
      "text/html": [
       "<img src=\"https://earthengine.googleapis.com/v1alpha/projects/earthengine-legacy/thumbnails/1aa2e5668bdcdd01d5cf4566fee5b96d-478bd4eb7d26acef6e38474b28a29484:getPixels\"/>"
      ],
      "text/plain": [
       "<IPython.core.display.Image object>"
      ]
     },
     "execution_count": 43,
     "metadata": {},
     "output_type": "execute_result"
    }
   ],
   "source": [
    "Image(url = band_first_image.getThumbURL(visualization))"
   ]
  },
  {
   "cell_type": "code",
   "execution_count": 56,
   "id": "172f42da-a85e-477b-a3a4-08fa2e13ada3",
   "metadata": {
    "ExecuteTime": {
     "end_time": "2022-08-04T11:50:58.278696Z",
     "start_time": "2022-08-04T11:50:57.734285Z"
    }
   },
   "outputs": [
    {
     "data": {
      "text/html": [
       "<div style=\"width:100%;\"><div style=\"position:relative;width:100%;height:0;padding-bottom:60%;\"><span style=\"color:#565656\">Make this Notebook Trusted to load map: File -> Trust Notebook</span><iframe src=\"about:blank\" style=\"position:absolute;width:100%;height:100%;left:0;top:0;border:none !important;\" data-html=%3C%21DOCTYPE%20html%3E%0A%3Chead%3E%20%20%20%20%0A%20%20%20%20%3Cmeta%20http-equiv%3D%22content-type%22%20content%3D%22text/html%3B%20charset%3DUTF-8%22%20/%3E%0A%20%20%20%20%0A%20%20%20%20%20%20%20%20%3Cscript%3E%0A%20%20%20%20%20%20%20%20%20%20%20%20L_NO_TOUCH%20%3D%20false%3B%0A%20%20%20%20%20%20%20%20%20%20%20%20L_DISABLE_3D%20%3D%20false%3B%0A%20%20%20%20%20%20%20%20%3C/script%3E%0A%20%20%20%20%0A%20%20%20%20%3Cstyle%3Ehtml%2C%20body%20%7Bwidth%3A%20100%25%3Bheight%3A%20100%25%3Bmargin%3A%200%3Bpadding%3A%200%3B%7D%3C/style%3E%0A%20%20%20%20%3Cstyle%3E%23map%20%7Bposition%3Aabsolute%3Btop%3A0%3Bbottom%3A0%3Bright%3A0%3Bleft%3A0%3B%7D%3C/style%3E%0A%20%20%20%20%3Cscript%20src%3D%22https%3A//cdn.jsdelivr.net/npm/leaflet%401.6.0/dist/leaflet.js%22%3E%3C/script%3E%0A%20%20%20%20%3Cscript%20src%3D%22https%3A//code.jquery.com/jquery-1.12.4.min.js%22%3E%3C/script%3E%0A%20%20%20%20%3Cscript%20src%3D%22https%3A//maxcdn.bootstrapcdn.com/bootstrap/3.2.0/js/bootstrap.min.js%22%3E%3C/script%3E%0A%20%20%20%20%3Cscript%20src%3D%22https%3A//cdnjs.cloudflare.com/ajax/libs/Leaflet.awesome-markers/2.0.2/leaflet.awesome-markers.js%22%3E%3C/script%3E%0A%20%20%20%20%3Clink%20rel%3D%22stylesheet%22%20href%3D%22https%3A//cdn.jsdelivr.net/npm/leaflet%401.6.0/dist/leaflet.css%22/%3E%0A%20%20%20%20%3Clink%20rel%3D%22stylesheet%22%20href%3D%22https%3A//maxcdn.bootstrapcdn.com/bootstrap/3.2.0/css/bootstrap.min.css%22/%3E%0A%20%20%20%20%3Clink%20rel%3D%22stylesheet%22%20href%3D%22https%3A//maxcdn.bootstrapcdn.com/bootstrap/3.2.0/css/bootstrap-theme.min.css%22/%3E%0A%20%20%20%20%3Clink%20rel%3D%22stylesheet%22%20href%3D%22https%3A//maxcdn.bootstrapcdn.com/font-awesome/4.6.3/css/font-awesome.min.css%22/%3E%0A%20%20%20%20%3Clink%20rel%3D%22stylesheet%22%20href%3D%22https%3A//cdnjs.cloudflare.com/ajax/libs/Leaflet.awesome-markers/2.0.2/leaflet.awesome-markers.css%22/%3E%0A%20%20%20%20%3Clink%20rel%3D%22stylesheet%22%20href%3D%22https%3A//cdn.jsdelivr.net/gh/python-visualization/folium/folium/templates/leaflet.awesome.rotate.min.css%22/%3E%0A%20%20%20%20%0A%20%20%20%20%20%20%20%20%20%20%20%20%3Cmeta%20name%3D%22viewport%22%20content%3D%22width%3Ddevice-width%2C%0A%20%20%20%20%20%20%20%20%20%20%20%20%20%20%20%20initial-scale%3D1.0%2C%20maximum-scale%3D1.0%2C%20user-scalable%3Dno%22%20/%3E%0A%20%20%20%20%20%20%20%20%20%20%20%20%3Cstyle%3E%0A%20%20%20%20%20%20%20%20%20%20%20%20%20%20%20%20%23map_4ed74882d4824a68a549cd3eafb9e0eb%20%7B%0A%20%20%20%20%20%20%20%20%20%20%20%20%20%20%20%20%20%20%20%20position%3A%20relative%3B%0A%20%20%20%20%20%20%20%20%20%20%20%20%20%20%20%20%20%20%20%20width%3A%20100.0%25%3B%0A%20%20%20%20%20%20%20%20%20%20%20%20%20%20%20%20%20%20%20%20height%3A%20100.0%25%3B%0A%20%20%20%20%20%20%20%20%20%20%20%20%20%20%20%20%20%20%20%20left%3A%200.0%25%3B%0A%20%20%20%20%20%20%20%20%20%20%20%20%20%20%20%20%20%20%20%20top%3A%200.0%25%3B%0A%20%20%20%20%20%20%20%20%20%20%20%20%20%20%20%20%7D%0A%20%20%20%20%20%20%20%20%20%20%20%20%3C/style%3E%0A%20%20%20%20%20%20%20%20%0A%3C/head%3E%0A%3Cbody%3E%20%20%20%20%0A%20%20%20%20%0A%20%20%20%20%20%20%20%20%20%20%20%20%3Cdiv%20class%3D%22folium-map%22%20id%3D%22map_4ed74882d4824a68a549cd3eafb9e0eb%22%20%3E%3C/div%3E%0A%20%20%20%20%20%20%20%20%0A%3C/body%3E%0A%3Cscript%3E%20%20%20%20%0A%20%20%20%20%0A%20%20%20%20%20%20%20%20%20%20%20%20var%20map_4ed74882d4824a68a549cd3eafb9e0eb%20%3D%20L.map%28%0A%20%20%20%20%20%20%20%20%20%20%20%20%20%20%20%20%22map_4ed74882d4824a68a549cd3eafb9e0eb%22%2C%0A%20%20%20%20%20%20%20%20%20%20%20%20%20%20%20%20%7B%0A%20%20%20%20%20%20%20%20%20%20%20%20%20%20%20%20%20%20%20%20center%3A%20%5B20.0%2C%2015.0%5D%2C%0A%20%20%20%20%20%20%20%20%20%20%20%20%20%20%20%20%20%20%20%20crs%3A%20L.CRS.EPSG3857%2C%0A%20%20%20%20%20%20%20%20%20%20%20%20%20%20%20%20%20%20%20%20zoom%3A%204%2C%0A%20%20%20%20%20%20%20%20%20%20%20%20%20%20%20%20%20%20%20%20zoomControl%3A%20true%2C%0A%20%20%20%20%20%20%20%20%20%20%20%20%20%20%20%20%20%20%20%20preferCanvas%3A%20false%2C%0A%20%20%20%20%20%20%20%20%20%20%20%20%20%20%20%20%7D%0A%20%20%20%20%20%20%20%20%20%20%20%20%29%3B%0A%0A%20%20%20%20%20%20%20%20%20%20%20%20%0A%0A%20%20%20%20%20%20%20%20%0A%20%20%20%20%0A%20%20%20%20%20%20%20%20%20%20%20%20var%20tile_layer_8b0388a17fdd4bab8e5c9c805c8ddc32%20%3D%20L.tileLayer%28%0A%20%20%20%20%20%20%20%20%20%20%20%20%20%20%20%20%22https%3A//%7Bs%7D.tile.openstreetmap.org/%7Bz%7D/%7Bx%7D/%7By%7D.png%22%2C%0A%20%20%20%20%20%20%20%20%20%20%20%20%20%20%20%20%7B%22attribution%22%3A%20%22Data%20by%20%5Cu0026copy%3B%20%5Cu003ca%20href%3D%5C%22http%3A//openstreetmap.org%5C%22%5Cu003eOpenStreetMap%5Cu003c/a%5Cu003e%2C%20under%20%5Cu003ca%20href%3D%5C%22http%3A//www.openstreetmap.org/copyright%5C%22%5Cu003eODbL%5Cu003c/a%5Cu003e.%22%2C%20%22detectRetina%22%3A%20false%2C%20%22maxNativeZoom%22%3A%2018%2C%20%22maxZoom%22%3A%2018%2C%20%22minZoom%22%3A%200%2C%20%22noWrap%22%3A%20false%2C%20%22opacity%22%3A%201%2C%20%22subdomains%22%3A%20%22abc%22%2C%20%22tms%22%3A%20false%7D%0A%20%20%20%20%20%20%20%20%20%20%20%20%29.addTo%28map_4ed74882d4824a68a549cd3eafb9e0eb%29%3B%0A%20%20%20%20%20%20%20%20%0A%20%20%20%20%0A%20%20%20%20%20%20%20%20%20%20%20%20var%20tile_layer_fd41f4598b1c433cb1eccf160128b972%20%3D%20L.tileLayer%28%0A%20%20%20%20%20%20%20%20%20%20%20%20%20%20%20%20%22https%3A//earthengine.googleapis.com/v1alpha/projects/earthengine-legacy/maps/6015570c99fdbe64eb36aa1558bdcdfc-a22401914655b1dc63651e947ec28e86/tiles/%7Bz%7D/%7Bx%7D/%7By%7D%22%2C%0A%20%20%20%20%20%20%20%20%20%20%20%20%20%20%20%20%7B%22attribution%22%3A%20%22Map%20Data%20%5Cu0026copy%3B%20%5Cu003ca%20href%3D%5C%22https%3A//earthengine.google.com/%5C%22%5Cu003eGoogle%20Earth%20Engine%5Cu003c/a%5Cu003e%22%2C%20%22detectRetina%22%3A%20false%2C%20%22maxNativeZoom%22%3A%2018%2C%20%22maxZoom%22%3A%2018%2C%20%22minZoom%22%3A%200%2C%20%22noWrap%22%3A%20false%2C%20%22opacity%22%3A%201%2C%20%22subdomains%22%3A%20%22abc%22%2C%20%22tms%22%3A%20false%7D%0A%20%20%20%20%20%20%20%20%20%20%20%20%29.addTo%28map_4ed74882d4824a68a549cd3eafb9e0eb%29%3B%0A%20%20%20%20%20%20%20%20%0A%20%20%20%20%0A%20%20%20%20%20%20%20%20%20%20%20%20var%20layer_control_82f128cfc60f45a0843a01f71d86ba77%20%3D%20%7B%0A%20%20%20%20%20%20%20%20%20%20%20%20%20%20%20%20base_layers%20%3A%20%7B%0A%20%20%20%20%20%20%20%20%20%20%20%20%20%20%20%20%20%20%20%20%22openstreetmap%22%20%3A%20tile_layer_8b0388a17fdd4bab8e5c9c805c8ddc32%2C%0A%20%20%20%20%20%20%20%20%20%20%20%20%20%20%20%20%7D%2C%0A%20%20%20%20%20%20%20%20%20%20%20%20%20%20%20%20overlays%20%3A%20%20%7B%0A%20%20%20%20%20%20%20%20%20%20%20%20%20%20%20%20%20%20%20%20%22RootMoist_inst%22%20%3A%20tile_layer_fd41f4598b1c433cb1eccf160128b972%2C%0A%20%20%20%20%20%20%20%20%20%20%20%20%20%20%20%20%7D%2C%0A%20%20%20%20%20%20%20%20%20%20%20%20%7D%3B%0A%20%20%20%20%20%20%20%20%20%20%20%20L.control.layers%28%0A%20%20%20%20%20%20%20%20%20%20%20%20%20%20%20%20layer_control_82f128cfc60f45a0843a01f71d86ba77.base_layers%2C%0A%20%20%20%20%20%20%20%20%20%20%20%20%20%20%20%20layer_control_82f128cfc60f45a0843a01f71d86ba77.overlays%2C%0A%20%20%20%20%20%20%20%20%20%20%20%20%20%20%20%20%7B%22autoZIndex%22%3A%20true%2C%20%22collapsed%22%3A%20true%2C%20%22position%22%3A%20%22topright%22%7D%0A%20%20%20%20%20%20%20%20%20%20%20%20%29.addTo%28map_4ed74882d4824a68a549cd3eafb9e0eb%29%3B%0A%20%20%20%20%20%20%20%20%0A%3C/script%3E onload=\"this.contentDocument.open();this.contentDocument.write(    decodeURIComponent(this.getAttribute('data-html')));this.contentDocument.close();\" allowfullscreen webkitallowfullscreen mozallowfullscreen></iframe></div></div>"
      ],
      "text/plain": [
       "<folium.folium.Map at 0x1e3f4abeee0>"
      ]
     },
     "metadata": {},
     "output_type": "display_data"
    }
   ],
   "source": [
    "# Add EE drawing method to folium.\n",
    "folium.Map.add_ee_layer = add_ee_layer\n",
    "\n",
    "# Create a folium map object.\n",
    "my_map = folium.Map(location=[20, 15], zoom_start=4)\n",
    "\n",
    "# Add the elevation model to the map object.\n",
    "my_map.add_ee_layer(band_first_image, visualization, 'RootMoist_inst')\n",
    "\n",
    "# Add a layer control panel to the map.\n",
    "my_map.add_child(folium.LayerControl())\n",
    "\n",
    "# Display the map.\n",
    "display(my_map)"
   ]
  },
  {
   "cell_type": "markdown",
   "id": "53e2715d-19f8-470c-91a3-11ed2b33dcb5",
   "metadata": {},
   "source": [
    "### Testing Mean Data"
   ]
  },
  {
   "cell_type": "code",
   "execution_count": 57,
   "id": "5125b746-9809-4fd0-887b-4f53c47e5485",
   "metadata": {
    "ExecuteTime": {
     "end_time": "2022-08-04T11:51:10.103283Z",
     "start_time": "2022-08-04T11:51:09.677447Z"
    }
   },
   "outputs": [
    {
     "data": {
      "text/plain": [
       "{'type': 'Image',\n",
       " 'bands': [{'id': 'RootMoist_inst',\n",
       "   'data_type': {'type': 'PixelType', 'precision': 'float'},\n",
       "   'crs': 'EPSG:4326',\n",
       "   'crs_transform': [1, 0, 0, 0, 1, 0]}]}"
      ]
     },
     "execution_count": 57,
     "metadata": {},
     "output_type": "execute_result"
    }
   ],
   "source": [
    "test_start_date = ee.Date('2022-06-10')\n",
    "test_end_date = ee.Date('2022-06-20')\n",
    "sm_10days = sm_aggregated_daily.filterDate(test_start_date,test_end_date)\n",
    "sm_aggregated_10days = sm_10days.mean()\n",
    "sm_aggregated_10days.getInfo()"
   ]
  },
  {
   "cell_type": "code",
   "execution_count": 58,
   "id": "c347a88b",
   "metadata": {
    "ExecuteTime": {
     "end_time": "2022-08-04T11:51:17.499312Z",
     "start_time": "2022-08-04T11:51:17.487258Z"
    }
   },
   "outputs": [],
   "source": [
    "colors = ['#8e471b','#a47c5d','#cfb53b','#9aa655','#50c878','#008844','#0a7e8c']\n",
    "# colors.reverse()"
   ]
  },
  {
   "cell_type": "code",
   "execution_count": 59,
   "id": "25ac2309",
   "metadata": {
    "ExecuteTime": {
     "end_time": "2022-08-04T11:51:25.477092Z",
     "start_time": "2022-08-04T11:51:24.877459Z"
    }
   },
   "outputs": [
    {
     "data": {
      "text/html": [
       "<img src=\"https://earthengine.googleapis.com/v1alpha/projects/earthengine-legacy/thumbnails/b2e491727ad8a86c292dc6b02b2b2949-f4c423be0210d2f5a994b3249ca9e9d8:getPixels\"/>"
      ],
      "text/plain": [
       "<IPython.core.display.Image object>"
      ]
     },
     "execution_count": 59,
     "metadata": {},
     "output_type": "execute_result"
    }
   ],
   "source": [
    "Image(url = sm_aggregated_10days.getThumbURL(visualization))"
   ]
  },
  {
   "cell_type": "code",
   "execution_count": 60,
   "id": "15cf4b85-3998-4815-883c-442a418f2cd1",
   "metadata": {
    "ExecuteTime": {
     "end_time": "2022-08-04T11:51:33.095066Z",
     "start_time": "2022-08-04T11:51:33.079494Z"
    }
   },
   "outputs": [],
   "source": [
    "sm_10days_vis = {'min': 0,'max': 950, 'palette': colors}"
   ]
  },
  {
   "cell_type": "code",
   "execution_count": 61,
   "id": "9bba3e42-fb54-4907-a612-fd360f26c882",
   "metadata": {
    "ExecuteTime": {
     "end_time": "2022-08-04T11:51:41.103334Z",
     "start_time": "2022-08-04T11:51:40.670843Z"
    }
   },
   "outputs": [
    {
     "data": {
      "text/plain": [
       "{'type': 'Image',\n",
       " 'bands': [{'id': 'RootMoist_inst',\n",
       "   'data_type': {'type': 'PixelType', 'precision': 'float'},\n",
       "   'crs': 'EPSG:4326',\n",
       "   'crs_transform': [1, 0, 0, 0, 1, 0]}]}"
      ]
     },
     "execution_count": 61,
     "metadata": {},
     "output_type": "execute_result"
    }
   ],
   "source": [
    "sm_aggregated_10days_root_level = sm_aggregated_10days.select('RootMoist_inst') #index zero\n",
    "sm_aggregated_10days_root_level.getInfo()"
   ]
  },
  {
   "cell_type": "code",
   "execution_count": 63,
   "id": "d81a0c72-f224-4077-86c8-8d769bd62492",
   "metadata": {
    "ExecuteTime": {
     "end_time": "2022-08-04T11:52:04.265278Z",
     "start_time": "2022-08-04T11:52:02.923718Z"
    }
   },
   "outputs": [
    {
     "data": {
      "application/vnd.jupyter.widget-view+json": {
       "model_id": "88ef885f99c04688abcab10bffb47ae8",
       "version_major": 2,
       "version_minor": 0
      },
      "text/plain": [
       "Map(center=[20, 0], controls=(WidgetControl(options=['position', 'transparent_bg'], widget=HBox(children=(Togg…"
      ]
     },
     "metadata": {},
     "output_type": "display_data"
    }
   ],
   "source": [
    "Map = geemap.Map()\n",
    "# Map.addLayer(daily, {}, 'Daily Mean Collection')\n",
    "Map.addLayer(sm_aggregated_daily.first().select(0), sm_10days_vis, 'Daily')\n",
    "Map.addLayer(sm_aggregated_10days, sm_10days_vis, 'Ten Days')\n",
    "Map"
   ]
  },
  {
   "cell_type": "markdown",
   "id": "a3ac0d22-1d8d-4107-86d3-486e9e48da71",
   "metadata": {},
   "source": [
    "## Calculations"
   ]
  },
  {
   "cell_type": "code",
   "execution_count": 106,
   "id": "36838fdc",
   "metadata": {
    "ExecuteTime": {
     "end_time": "2022-08-04T12:14:12.606391Z",
     "start_time": "2022-08-04T12:14:12.596848Z"
    }
   },
   "outputs": [],
   "source": [
    "key_date = '2022-04-01'"
   ]
  },
  {
   "cell_type": "code",
   "execution_count": 128,
   "id": "43d3c200",
   "metadata": {
    "ExecuteTime": {
     "end_time": "2022-08-04T12:25:41.873115Z",
     "start_time": "2022-08-04T12:25:41.849504Z"
    }
   },
   "outputs": [
    {
     "data": {
      "text/html": [
       "<div>\n",
       "<style scoped>\n",
       "    .dataframe tbody tr th:only-of-type {\n",
       "        vertical-align: middle;\n",
       "    }\n",
       "\n",
       "    .dataframe tbody tr th {\n",
       "        vertical-align: top;\n",
       "    }\n",
       "\n",
       "    .dataframe thead th {\n",
       "        text-align: right;\n",
       "    }\n",
       "</style>\n",
       "<table border=\"1\" class=\"dataframe\">\n",
       "  <thead>\n",
       "    <tr style=\"text-align: right;\">\n",
       "      <th></th>\n",
       "      <th>id</th>\n",
       "      <th>country</th>\n",
       "      <th>village</th>\n",
       "      <th>district</th>\n",
       "      <th>perc_numeric</th>\n",
       "      <th>date</th>\n",
       "      <th>presence</th>\n",
       "    </tr>\n",
       "  </thead>\n",
       "  <tbody>\n",
       "    <tr>\n",
       "      <th>323</th>\n",
       "      <td>71485</td>\n",
       "      <td>Zambia</td>\n",
       "      <td>kitwe,mwekela,chankalamu</td>\n",
       "      <td>Copperbelt Province</td>\n",
       "      <td>0.56</td>\n",
       "      <td>2022-06-30</td>\n",
       "      <td>1</td>\n",
       "    </tr>\n",
       "    <tr>\n",
       "      <th>332</th>\n",
       "      <td>71451</td>\n",
       "      <td>Zambia</td>\n",
       "      <td>Kitwe, Nkana, Parklands</td>\n",
       "      <td>Copperbelt Province</td>\n",
       "      <td>0.70</td>\n",
       "      <td>2022-06-30</td>\n",
       "      <td>1</td>\n",
       "    </tr>\n",
       "    <tr>\n",
       "      <th>340</th>\n",
       "      <td>71470</td>\n",
       "      <td>Zambia</td>\n",
       "      <td>Mongu, Mandanga,ikoselwa</td>\n",
       "      <td>Western Province, Zambia</td>\n",
       "      <td>0.94</td>\n",
       "      <td>2022-06-30</td>\n",
       "      <td>1</td>\n",
       "    </tr>\n",
       "    <tr>\n",
       "      <th>341</th>\n",
       "      <td>71735</td>\n",
       "      <td>Zambia</td>\n",
       "      <td>Kitwe, Nkana, Parklands</td>\n",
       "      <td>Copperbelt Province</td>\n",
       "      <td>0.50</td>\n",
       "      <td>2022-06-30</td>\n",
       "      <td>1</td>\n",
       "    </tr>\n",
       "    <tr>\n",
       "      <th>355</th>\n",
       "      <td>71483</td>\n",
       "      <td>Zambia</td>\n",
       "      <td>kitwe, mwekera,chankalamo</td>\n",
       "      <td>Copperbelt Province</td>\n",
       "      <td>0.94</td>\n",
       "      <td>2022-06-30</td>\n",
       "      <td>1</td>\n",
       "    </tr>\n",
       "    <tr>\n",
       "      <th>368</th>\n",
       "      <td>71466</td>\n",
       "      <td>Zambia</td>\n",
       "      <td>mongu, mucho, icoselo</td>\n",
       "      <td>Western Province, Zambia</td>\n",
       "      <td>1.00</td>\n",
       "      <td>2022-06-30</td>\n",
       "      <td>1</td>\n",
       "    </tr>\n",
       "    <tr>\n",
       "      <th>369</th>\n",
       "      <td>71454</td>\n",
       "      <td>Zambia</td>\n",
       "      <td>kitwe,Nkana, Parkland</td>\n",
       "      <td>Copperbelt Province</td>\n",
       "      <td>0.70</td>\n",
       "      <td>2022-06-30</td>\n",
       "      <td>1</td>\n",
       "    </tr>\n",
       "    <tr>\n",
       "      <th>381</th>\n",
       "      <td>71491</td>\n",
       "      <td>Zambia</td>\n",
       "      <td>Mongu, Boma South, Blue gum</td>\n",
       "      <td>Western Province, Zambia</td>\n",
       "      <td>0.56</td>\n",
       "      <td>2022-06-30</td>\n",
       "      <td>1</td>\n",
       "    </tr>\n",
       "    <tr>\n",
       "      <th>382</th>\n",
       "      <td>71497</td>\n",
       "      <td>Zambia</td>\n",
       "      <td>Kitwe, Nkana, Parklands</td>\n",
       "      <td>Copperbelt Province</td>\n",
       "      <td>0.50</td>\n",
       "      <td>2022-06-30</td>\n",
       "      <td>1</td>\n",
       "    </tr>\n",
       "    <tr>\n",
       "      <th>385</th>\n",
       "      <td>71458</td>\n",
       "      <td>Zambia</td>\n",
       "      <td>ikeselo</td>\n",
       "      <td>Western Province, Zambia</td>\n",
       "      <td>0.94</td>\n",
       "      <td>2022-06-30</td>\n",
       "      <td>1</td>\n",
       "    </tr>\n",
       "    <tr>\n",
       "      <th>394</th>\n",
       "      <td>71459</td>\n",
       "      <td>Zambia</td>\n",
       "      <td>Mongu, Muchu, Ikoselwa</td>\n",
       "      <td>Western Province, Zambia</td>\n",
       "      <td>1.00</td>\n",
       "      <td>2022-06-30</td>\n",
       "      <td>1</td>\n",
       "    </tr>\n",
       "    <tr>\n",
       "      <th>413</th>\n",
       "      <td>71516</td>\n",
       "      <td>Zambia</td>\n",
       "      <td>ikoselwa</td>\n",
       "      <td>Western Province, Zambia</td>\n",
       "      <td>1.00</td>\n",
       "      <td>2022-06-30</td>\n",
       "      <td>1</td>\n",
       "    </tr>\n",
       "    <tr>\n",
       "      <th>414</th>\n",
       "      <td>71505</td>\n",
       "      <td>Zambia</td>\n",
       "      <td>Kitwe, Nkana, Parklands</td>\n",
       "      <td>Copperbelt Province</td>\n",
       "      <td>0.50</td>\n",
       "      <td>2022-06-30</td>\n",
       "      <td>1</td>\n",
       "    </tr>\n",
       "    <tr>\n",
       "      <th>415</th>\n",
       "      <td>71494</td>\n",
       "      <td>Zambia</td>\n",
       "      <td>Mitete, sitwala,kadyana</td>\n",
       "      <td>Western Province, Zambia</td>\n",
       "      <td>0.24</td>\n",
       "      <td>2022-06-30</td>\n",
       "      <td>1</td>\n",
       "    </tr>\n",
       "    <tr>\n",
       "      <th>425</th>\n",
       "      <td>71476</td>\n",
       "      <td>Zambia</td>\n",
       "      <td>ikoselwa</td>\n",
       "      <td>Western Province, Zambia</td>\n",
       "      <td>1.00</td>\n",
       "      <td>2022-06-30</td>\n",
       "      <td>1</td>\n",
       "    </tr>\n",
       "    <tr>\n",
       "      <th>433</th>\n",
       "      <td>71447</td>\n",
       "      <td>Zambia</td>\n",
       "      <td>Kitwe,Nkana,Parklands</td>\n",
       "      <td>Copperbelt Province</td>\n",
       "      <td>0.70</td>\n",
       "      <td>2022-06-30</td>\n",
       "      <td>1</td>\n",
       "    </tr>\n",
       "    <tr>\n",
       "      <th>435</th>\n",
       "      <td>71797</td>\n",
       "      <td>Zambia</td>\n",
       "      <td>Kitwe, Mwekera,Chankalamo</td>\n",
       "      <td>Copperbelt Province</td>\n",
       "      <td>0.56</td>\n",
       "      <td>2022-06-30</td>\n",
       "      <td>1</td>\n",
       "    </tr>\n",
       "    <tr>\n",
       "      <th>444</th>\n",
       "      <td>71439</td>\n",
       "      <td>Zambia</td>\n",
       "      <td>Kitwe,Nkana,Pamo</td>\n",
       "      <td>Copperbelt Province</td>\n",
       "      <td>0.70</td>\n",
       "      <td>2022-06-30</td>\n",
       "      <td>1</td>\n",
       "    </tr>\n",
       "    <tr>\n",
       "      <th>446</th>\n",
       "      <td>71453</td>\n",
       "      <td>Zambia</td>\n",
       "      <td>Ktwe,Nkana,,Parklands</td>\n",
       "      <td>Copperbelt Province</td>\n",
       "      <td>0.70</td>\n",
       "      <td>2022-06-30</td>\n",
       "      <td>1</td>\n",
       "    </tr>\n",
       "    <tr>\n",
       "      <th>447</th>\n",
       "      <td>71475</td>\n",
       "      <td>Zambia</td>\n",
       "      <td>Mongu, Boma south, blue gum</td>\n",
       "      <td>Western Province, Zambia</td>\n",
       "      <td>0.56</td>\n",
       "      <td>2022-06-30</td>\n",
       "      <td>1</td>\n",
       "    </tr>\n",
       "    <tr>\n",
       "      <th>454</th>\n",
       "      <td>71465</td>\n",
       "      <td>Zambia</td>\n",
       "      <td>Mongu, Mucu, Ikoselwa</td>\n",
       "      <td>Western Province, Zambia</td>\n",
       "      <td>0.88</td>\n",
       "      <td>2022-06-30</td>\n",
       "      <td>1</td>\n",
       "    </tr>\n",
       "    <tr>\n",
       "      <th>457</th>\n",
       "      <td>71446</td>\n",
       "      <td>Zambia</td>\n",
       "      <td>Kitwe, nkana, parklands</td>\n",
       "      <td>Copperbelt Province</td>\n",
       "      <td>0.70</td>\n",
       "      <td>2022-06-30</td>\n",
       "      <td>1</td>\n",
       "    </tr>\n",
       "    <tr>\n",
       "      <th>459</th>\n",
       "      <td>71468</td>\n",
       "      <td>Zambia</td>\n",
       "      <td>ikoselwa</td>\n",
       "      <td>Western Province, Zambia</td>\n",
       "      <td>1.00</td>\n",
       "      <td>2022-06-30</td>\n",
       "      <td>1</td>\n",
       "    </tr>\n",
       "    <tr>\n",
       "      <th>464</th>\n",
       "      <td>71496</td>\n",
       "      <td>Zambia</td>\n",
       "      <td>ikoselwa ikoselwa</td>\n",
       "      <td>Western Province, Zambia</td>\n",
       "      <td>1.00</td>\n",
       "      <td>2022-06-30</td>\n",
       "      <td>1</td>\n",
       "    </tr>\n",
       "    <tr>\n",
       "      <th>466</th>\n",
       "      <td>71495</td>\n",
       "      <td>Zambia</td>\n",
       "      <td>kitwe, mwekera, chankalamu</td>\n",
       "      <td>Copperbelt Province</td>\n",
       "      <td>0.98</td>\n",
       "      <td>2022-06-30</td>\n",
       "      <td>1</td>\n",
       "    </tr>\n",
       "    <tr>\n",
       "      <th>471</th>\n",
       "      <td>71440</td>\n",
       "      <td>Zambia</td>\n",
       "      <td>Kitwe,Nkana, Parklands</td>\n",
       "      <td>Copperbelt Province</td>\n",
       "      <td>0.70</td>\n",
       "      <td>2022-06-30</td>\n",
       "      <td>1</td>\n",
       "    </tr>\n",
       "    <tr>\n",
       "      <th>473</th>\n",
       "      <td>71450</td>\n",
       "      <td>Zambia</td>\n",
       "      <td>kitwe, nkana,packlands</td>\n",
       "      <td>Copperbelt Province</td>\n",
       "      <td>0.70</td>\n",
       "      <td>2022-06-30</td>\n",
       "      <td>1</td>\n",
       "    </tr>\n",
       "    <tr>\n",
       "      <th>483</th>\n",
       "      <td>71448</td>\n",
       "      <td>Zambia</td>\n",
       "      <td>Kitwe, Nkana, Parklands</td>\n",
       "      <td>Copperbelt Province</td>\n",
       "      <td>0.70</td>\n",
       "      <td>2022-06-30</td>\n",
       "      <td>1</td>\n",
       "    </tr>\n",
       "    <tr>\n",
       "      <th>521</th>\n",
       "      <td>71444</td>\n",
       "      <td>Zambia</td>\n",
       "      <td>Kitwe, Nkana, Parklands</td>\n",
       "      <td>Copperbelt Province</td>\n",
       "      <td>0.70</td>\n",
       "      <td>2022-06-30</td>\n",
       "      <td>1</td>\n",
       "    </tr>\n",
       "    <tr>\n",
       "      <th>555</th>\n",
       "      <td>71506</td>\n",
       "      <td>Zambia</td>\n",
       "      <td>Kitwe, Nkana, Parklands</td>\n",
       "      <td>Copperbelt Province</td>\n",
       "      <td>0.50</td>\n",
       "      <td>2022-06-30</td>\n",
       "      <td>1</td>\n",
       "    </tr>\n",
       "    <tr>\n",
       "      <th>560</th>\n",
       "      <td>71456</td>\n",
       "      <td>Zambia</td>\n",
       "      <td>Mongu, Machu, Ikoselwa</td>\n",
       "      <td>Western Province, Zambia</td>\n",
       "      <td>1.00</td>\n",
       "      <td>2022-06-30</td>\n",
       "      <td>1</td>\n",
       "    </tr>\n",
       "    <tr>\n",
       "      <th>566</th>\n",
       "      <td>71449</td>\n",
       "      <td>Zambia</td>\n",
       "      <td>Kitwe, nkana, parklands</td>\n",
       "      <td>Copperbelt Province</td>\n",
       "      <td>0.70</td>\n",
       "      <td>2022-06-30</td>\n",
       "      <td>1</td>\n",
       "    </tr>\n",
       "    <tr>\n",
       "      <th>567</th>\n",
       "      <td>71457</td>\n",
       "      <td>Zambia</td>\n",
       "      <td>Mongu, Muchu, Ikoselwa</td>\n",
       "      <td>Western Province, Zambia</td>\n",
       "      <td>1.00</td>\n",
       "      <td>2022-06-30</td>\n",
       "      <td>1</td>\n",
       "    </tr>\n",
       "    <tr>\n",
       "      <th>573</th>\n",
       "      <td>71442</td>\n",
       "      <td>Zambia</td>\n",
       "      <td>Kitwe/Nkana/Parklands</td>\n",
       "      <td>Copperbelt Province</td>\n",
       "      <td>0.20</td>\n",
       "      <td>2022-06-30</td>\n",
       "      <td>1</td>\n",
       "    </tr>\n",
       "    <tr>\n",
       "      <th>574</th>\n",
       "      <td>71482</td>\n",
       "      <td>Zambia</td>\n",
       "      <td>Kitwe Mwekera Chankalamu</td>\n",
       "      <td>Copperbelt Province</td>\n",
       "      <td>0.94</td>\n",
       "      <td>2022-06-30</td>\n",
       "      <td>1</td>\n",
       "    </tr>\n",
       "    <tr>\n",
       "      <th>577</th>\n",
       "      <td>71443</td>\n",
       "      <td>Zambia</td>\n",
       "      <td>Kitwe, Nkana, Parklands</td>\n",
       "      <td>Copperbelt Province</td>\n",
       "      <td>0.70</td>\n",
       "      <td>2022-06-30</td>\n",
       "      <td>1</td>\n",
       "    </tr>\n",
       "    <tr>\n",
       "      <th>578</th>\n",
       "      <td>71452</td>\n",
       "      <td>Zambia</td>\n",
       "      <td>Pamo</td>\n",
       "      <td>Copperbelt Province</td>\n",
       "      <td>0.70</td>\n",
       "      <td>2022-06-30</td>\n",
       "      <td>1</td>\n",
       "    </tr>\n",
       "    <tr>\n",
       "      <th>584</th>\n",
       "      <td>72066</td>\n",
       "      <td>Zambia</td>\n",
       "      <td>KÍTWE,MWEKERA,CHANKALAMO</td>\n",
       "      <td>Copperbelt Province</td>\n",
       "      <td>0.98</td>\n",
       "      <td>2022-06-30</td>\n",
       "      <td>1</td>\n",
       "    </tr>\n",
       "    <tr>\n",
       "      <th>586</th>\n",
       "      <td>71463</td>\n",
       "      <td>Zambia</td>\n",
       "      <td>Muchuu, Ikoselwa</td>\n",
       "      <td>Western Province, Zambia</td>\n",
       "      <td>0.84</td>\n",
       "      <td>2022-06-30</td>\n",
       "      <td>1</td>\n",
       "    </tr>\n",
       "    <tr>\n",
       "      <th>587</th>\n",
       "      <td>71501</td>\n",
       "      <td>Zambia</td>\n",
       "      <td>Kitwe,Nkana, Parkland</td>\n",
       "      <td>Copperbelt Province</td>\n",
       "      <td>0.50</td>\n",
       "      <td>2022-06-30</td>\n",
       "      <td>1</td>\n",
       "    </tr>\n",
       "    <tr>\n",
       "      <th>590</th>\n",
       "      <td>71477</td>\n",
       "      <td>Zambia</td>\n",
       "      <td>ikoselwa</td>\n",
       "      <td>Western Province, Zambia</td>\n",
       "      <td>1.00</td>\n",
       "      <td>2022-06-30</td>\n",
       "      <td>1</td>\n",
       "    </tr>\n",
       "    <tr>\n",
       "      <th>617</th>\n",
       "      <td>71462</td>\n",
       "      <td>Zambia</td>\n",
       "      <td>ikoselwa</td>\n",
       "      <td>Western Province, Zambia</td>\n",
       "      <td>1.00</td>\n",
       "      <td>2022-06-30</td>\n",
       "      <td>1</td>\n",
       "    </tr>\n",
       "    <tr>\n",
       "      <th>618</th>\n",
       "      <td>71502</td>\n",
       "      <td>Zambia</td>\n",
       "      <td>kitwe/nkana/parklands</td>\n",
       "      <td>Copperbelt Province</td>\n",
       "      <td>0.50</td>\n",
       "      <td>2022-06-30</td>\n",
       "      <td>1</td>\n",
       "    </tr>\n",
       "    <tr>\n",
       "      <th>628</th>\n",
       "      <td>71480</td>\n",
       "      <td>Zambia</td>\n",
       "      <td>Kitwe, Mwekera, Chankalamu</td>\n",
       "      <td>Copperbelt Province</td>\n",
       "      <td>0.94</td>\n",
       "      <td>2022-06-30</td>\n",
       "      <td>1</td>\n",
       "    </tr>\n",
       "    <tr>\n",
       "      <th>638</th>\n",
       "      <td>71464</td>\n",
       "      <td>Zambia</td>\n",
       "      <td>imoselwa</td>\n",
       "      <td>Western Province, Zambia</td>\n",
       "      <td>1.00</td>\n",
       "      <td>2022-06-30</td>\n",
       "      <td>1</td>\n",
       "    </tr>\n",
       "    <tr>\n",
       "      <th>642</th>\n",
       "      <td>71507</td>\n",
       "      <td>Zambia</td>\n",
       "      <td>Kitwe, Nkana Parklands</td>\n",
       "      <td>Copperbelt Province</td>\n",
       "      <td>0.50</td>\n",
       "      <td>2022-06-30</td>\n",
       "      <td>1</td>\n",
       "    </tr>\n",
       "    <tr>\n",
       "      <th>644</th>\n",
       "      <td>71460</td>\n",
       "      <td>Zambia</td>\n",
       "      <td>Mongu,muchu,ikoselwa</td>\n",
       "      <td>Western Province, Zambia</td>\n",
       "      <td>1.00</td>\n",
       "      <td>2022-06-30</td>\n",
       "      <td>1</td>\n",
       "    </tr>\n",
       "    <tr>\n",
       "      <th>647</th>\n",
       "      <td>71484</td>\n",
       "      <td>Zambia</td>\n",
       "      <td>Kitwe, Mwekera, Chankalamu</td>\n",
       "      <td>Copperbelt Province</td>\n",
       "      <td>NaN</td>\n",
       "      <td>2022-06-30</td>\n",
       "      <td>1</td>\n",
       "    </tr>\n",
       "    <tr>\n",
       "      <th>658</th>\n",
       "      <td>71798</td>\n",
       "      <td>Zambia</td>\n",
       "      <td>Kitwe, Nkana, Parklands</td>\n",
       "      <td>Copperbelt Province</td>\n",
       "      <td>0.70</td>\n",
       "      <td>2022-06-30</td>\n",
       "      <td>1</td>\n",
       "    </tr>\n",
       "    <tr>\n",
       "      <th>661</th>\n",
       "      <td>72065</td>\n",
       "      <td>Zambia</td>\n",
       "      <td>Kitwe, Nkana,Parklands</td>\n",
       "      <td>Copperbelt Province</td>\n",
       "      <td>0.46</td>\n",
       "      <td>2022-06-30</td>\n",
       "      <td>1</td>\n",
       "    </tr>\n",
       "  </tbody>\n",
       "</table>\n",
       "</div>"
      ],
      "text/plain": [
       "        id country                      village                  district  \\\n",
       "323  71485  Zambia     kitwe,mwekela,chankalamu       Copperbelt Province   \n",
       "332  71451  Zambia      Kitwe, Nkana, Parklands       Copperbelt Province   \n",
       "340  71470  Zambia     Mongu, Mandanga,ikoselwa  Western Province, Zambia   \n",
       "341  71735  Zambia      Kitwe, Nkana, Parklands       Copperbelt Province   \n",
       "355  71483  Zambia    kitwe, mwekera,chankalamo       Copperbelt Province   \n",
       "368  71466  Zambia        mongu, mucho, icoselo  Western Province, Zambia   \n",
       "369  71454  Zambia        kitwe,Nkana, Parkland       Copperbelt Province   \n",
       "381  71491  Zambia  Mongu, Boma South, Blue gum  Western Province, Zambia   \n",
       "382  71497  Zambia      Kitwe, Nkana, Parklands       Copperbelt Province   \n",
       "385  71458  Zambia                      ikeselo  Western Province, Zambia   \n",
       "394  71459  Zambia       Mongu, Muchu, Ikoselwa  Western Province, Zambia   \n",
       "413  71516  Zambia                     ikoselwa  Western Province, Zambia   \n",
       "414  71505  Zambia      Kitwe, Nkana, Parklands       Copperbelt Province   \n",
       "415  71494  Zambia      Mitete, sitwala,kadyana  Western Province, Zambia   \n",
       "425  71476  Zambia                     ikoselwa  Western Province, Zambia   \n",
       "433  71447  Zambia        Kitwe,Nkana,Parklands       Copperbelt Province   \n",
       "435  71797  Zambia    Kitwe, Mwekera,Chankalamo       Copperbelt Province   \n",
       "444  71439  Zambia             Kitwe,Nkana,Pamo       Copperbelt Province   \n",
       "446  71453  Zambia        Ktwe,Nkana,,Parklands       Copperbelt Province   \n",
       "447  71475  Zambia  Mongu, Boma south, blue gum  Western Province, Zambia   \n",
       "454  71465  Zambia        Mongu, Mucu, Ikoselwa  Western Province, Zambia   \n",
       "457  71446  Zambia      Kitwe, nkana, parklands       Copperbelt Province   \n",
       "459  71468  Zambia                     ikoselwa  Western Province, Zambia   \n",
       "464  71496  Zambia            ikoselwa ikoselwa  Western Province, Zambia   \n",
       "466  71495  Zambia   kitwe, mwekera, chankalamu       Copperbelt Province   \n",
       "471  71440  Zambia       Kitwe,Nkana, Parklands       Copperbelt Province   \n",
       "473  71450  Zambia       kitwe, nkana,packlands       Copperbelt Province   \n",
       "483  71448  Zambia      Kitwe, Nkana, Parklands       Copperbelt Province   \n",
       "521  71444  Zambia      Kitwe, Nkana, Parklands       Copperbelt Province   \n",
       "555  71506  Zambia      Kitwe, Nkana, Parklands       Copperbelt Province   \n",
       "560  71456  Zambia       Mongu, Machu, Ikoselwa  Western Province, Zambia   \n",
       "566  71449  Zambia      Kitwe, nkana, parklands       Copperbelt Province   \n",
       "567  71457  Zambia       Mongu, Muchu, Ikoselwa  Western Province, Zambia   \n",
       "573  71442  Zambia        Kitwe/Nkana/Parklands       Copperbelt Province   \n",
       "574  71482  Zambia     Kitwe Mwekera Chankalamu       Copperbelt Province   \n",
       "577  71443  Zambia      Kitwe, Nkana, Parklands       Copperbelt Province   \n",
       "578  71452  Zambia                         Pamo       Copperbelt Province   \n",
       "584  72066  Zambia     KÍTWE,MWEKERA,CHANKALAMO       Copperbelt Province   \n",
       "586  71463  Zambia             Muchuu, Ikoselwa  Western Province, Zambia   \n",
       "587  71501  Zambia        Kitwe,Nkana, Parkland       Copperbelt Province   \n",
       "590  71477  Zambia                     ikoselwa  Western Province, Zambia   \n",
       "617  71462  Zambia                     ikoselwa  Western Province, Zambia   \n",
       "618  71502  Zambia        kitwe/nkana/parklands       Copperbelt Province   \n",
       "628  71480  Zambia   Kitwe, Mwekera, Chankalamu       Copperbelt Province   \n",
       "638  71464  Zambia                     imoselwa  Western Province, Zambia   \n",
       "642  71507  Zambia       Kitwe, Nkana Parklands       Copperbelt Province   \n",
       "644  71460  Zambia         Mongu,muchu,ikoselwa  Western Province, Zambia   \n",
       "647  71484  Zambia   Kitwe, Mwekera, Chankalamu       Copperbelt Province   \n",
       "658  71798  Zambia      Kitwe, Nkana, Parklands       Copperbelt Province   \n",
       "661  72065  Zambia       Kitwe, Nkana,Parklands       Copperbelt Province   \n",
       "\n",
       "     perc_numeric        date  presence  \n",
       "323          0.56  2022-06-30         1  \n",
       "332          0.70  2022-06-30         1  \n",
       "340          0.94  2022-06-30         1  \n",
       "341          0.50  2022-06-30         1  \n",
       "355          0.94  2022-06-30         1  \n",
       "368          1.00  2022-06-30         1  \n",
       "369          0.70  2022-06-30         1  \n",
       "381          0.56  2022-06-30         1  \n",
       "382          0.50  2022-06-30         1  \n",
       "385          0.94  2022-06-30         1  \n",
       "394          1.00  2022-06-30         1  \n",
       "413          1.00  2022-06-30         1  \n",
       "414          0.50  2022-06-30         1  \n",
       "415          0.24  2022-06-30         1  \n",
       "425          1.00  2022-06-30         1  \n",
       "433          0.70  2022-06-30         1  \n",
       "435          0.56  2022-06-30         1  \n",
       "444          0.70  2022-06-30         1  \n",
       "446          0.70  2022-06-30         1  \n",
       "447          0.56  2022-06-30         1  \n",
       "454          0.88  2022-06-30         1  \n",
       "457          0.70  2022-06-30         1  \n",
       "459          1.00  2022-06-30         1  \n",
       "464          1.00  2022-06-30         1  \n",
       "466          0.98  2022-06-30         1  \n",
       "471          0.70  2022-06-30         1  \n",
       "473          0.70  2022-06-30         1  \n",
       "483          0.70  2022-06-30         1  \n",
       "521          0.70  2022-06-30         1  \n",
       "555          0.50  2022-06-30         1  \n",
       "560          1.00  2022-06-30         1  \n",
       "566          0.70  2022-06-30         1  \n",
       "567          1.00  2022-06-30         1  \n",
       "573          0.20  2022-06-30         1  \n",
       "574          0.94  2022-06-30         1  \n",
       "577          0.70  2022-06-30         1  \n",
       "578          0.70  2022-06-30         1  \n",
       "584          0.98  2022-06-30         1  \n",
       "586          0.84  2022-06-30         1  \n",
       "587          0.50  2022-06-30         1  \n",
       "590          1.00  2022-06-30         1  \n",
       "617          1.00  2022-06-30         1  \n",
       "618          0.50  2022-06-30         1  \n",
       "628          0.94  2022-06-30         1  \n",
       "638          1.00  2022-06-30         1  \n",
       "642          0.50  2022-06-30         1  \n",
       "644          1.00  2022-06-30         1  \n",
       "647           NaN  2022-06-30         1  \n",
       "658          0.70  2022-06-30         1  \n",
       "661          0.46  2022-06-30         1  "
      ]
     },
     "execution_count": 128,
     "metadata": {},
     "output_type": "execute_result"
    }
   ],
   "source": [
    "daily_group = df_grp_by_date.get_group(key_date)[['id','country','village','district','perc_numeric','date','presence']]\n",
    "daily_group"
   ]
  },
  {
   "cell_type": "code",
   "execution_count": 108,
   "id": "1b1c91f9",
   "metadata": {
    "ExecuteTime": {
     "end_time": "2022-08-04T12:14:27.607936Z",
     "start_time": "2022-08-04T12:14:27.591835Z"
    }
   },
   "outputs": [],
   "source": [
    "points_gee = eec.gdfToFc(daily_group)\n",
    "# points_gee.getInfo()"
   ]
  },
  {
   "cell_type": "code",
   "execution_count": 109,
   "id": "8bb3f1f3",
   "metadata": {
    "ExecuteTime": {
     "end_time": "2022-08-04T12:14:35.344081Z",
     "start_time": "2022-08-04T12:14:35.330480Z"
    }
   },
   "outputs": [
    {
     "name": "stdout",
     "output_type": "stream",
     "text": [
      "2022-04-01 00:00:00 2022-03-22 00:00:00\n"
     ]
    }
   ],
   "source": [
    "d = datetime.strptime(key_date, '%Y-%m-%d')\n",
    "d_10 = d-timedelta(days=10)\n",
    "print(d,d_10)"
   ]
  },
  {
   "cell_type": "code",
   "execution_count": 110,
   "id": "0b7849af",
   "metadata": {
    "ExecuteTime": {
     "end_time": "2022-08-04T12:14:43.094420Z",
     "start_time": "2022-08-04T12:14:42.663081Z"
    }
   },
   "outputs": [
    {
     "data": {
      "text/plain": [
       "{'type': 'ImageCollection',\n",
       " 'bands': [],\n",
       " 'features': [{'type': 'Image',\n",
       "   'bands': [{'id': 'RootMoist_inst',\n",
       "     'data_type': {'type': 'PixelType', 'precision': 'float'},\n",
       "     'crs': 'EPSG:4326',\n",
       "     'crs_transform': [1, 0, 0, 0, 1, 0]}],\n",
       "   'properties': {'system:time_start': 1647907200000, 'system:index': '7'}},\n",
       "  {'type': 'Image',\n",
       "   'bands': [{'id': 'RootMoist_inst',\n",
       "     'data_type': {'type': 'PixelType', 'precision': 'float'},\n",
       "     'crs': 'EPSG:4326',\n",
       "     'crs_transform': [1, 0, 0, 0, 1, 0]}],\n",
       "   'properties': {'system:time_start': 1647993600000, 'system:index': '8'}},\n",
       "  {'type': 'Image',\n",
       "   'bands': [{'id': 'RootMoist_inst',\n",
       "     'data_type': {'type': 'PixelType', 'precision': 'float'},\n",
       "     'crs': 'EPSG:4326',\n",
       "     'crs_transform': [1, 0, 0, 0, 1, 0]}],\n",
       "   'properties': {'system:time_start': 1648080000000, 'system:index': '9'}},\n",
       "  {'type': 'Image',\n",
       "   'bands': [{'id': 'RootMoist_inst',\n",
       "     'data_type': {'type': 'PixelType', 'precision': 'float'},\n",
       "     'crs': 'EPSG:4326',\n",
       "     'crs_transform': [1, 0, 0, 0, 1, 0]}],\n",
       "   'properties': {'system:time_start': 1648166400000, 'system:index': '10'}},\n",
       "  {'type': 'Image',\n",
       "   'bands': [{'id': 'RootMoist_inst',\n",
       "     'data_type': {'type': 'PixelType', 'precision': 'float'},\n",
       "     'crs': 'EPSG:4326',\n",
       "     'crs_transform': [1, 0, 0, 0, 1, 0]}],\n",
       "   'properties': {'system:time_start': 1648252800000, 'system:index': '11'}},\n",
       "  {'type': 'Image',\n",
       "   'bands': [{'id': 'RootMoist_inst',\n",
       "     'data_type': {'type': 'PixelType', 'precision': 'float'},\n",
       "     'crs': 'EPSG:4326',\n",
       "     'crs_transform': [1, 0, 0, 0, 1, 0]}],\n",
       "   'properties': {'system:time_start': 1648339200000, 'system:index': '12'}},\n",
       "  {'type': 'Image',\n",
       "   'bands': [{'id': 'RootMoist_inst',\n",
       "     'data_type': {'type': 'PixelType', 'precision': 'float'},\n",
       "     'crs': 'EPSG:4326',\n",
       "     'crs_transform': [1, 0, 0, 0, 1, 0]}],\n",
       "   'properties': {'system:time_start': 1648425600000, 'system:index': '13'}},\n",
       "  {'type': 'Image',\n",
       "   'bands': [{'id': 'RootMoist_inst',\n",
       "     'data_type': {'type': 'PixelType', 'precision': 'float'},\n",
       "     'crs': 'EPSG:4326',\n",
       "     'crs_transform': [1, 0, 0, 0, 1, 0]}],\n",
       "   'properties': {'system:time_start': 1648512000000, 'system:index': '14'}},\n",
       "  {'type': 'Image',\n",
       "   'bands': [{'id': 'RootMoist_inst',\n",
       "     'data_type': {'type': 'PixelType', 'precision': 'float'},\n",
       "     'crs': 'EPSG:4326',\n",
       "     'crs_transform': [1, 0, 0, 0, 1, 0]}],\n",
       "   'properties': {'system:time_start': 1648598400000, 'system:index': '15'}},\n",
       "  {'type': 'Image',\n",
       "   'bands': [{'id': 'RootMoist_inst',\n",
       "     'data_type': {'type': 'PixelType', 'precision': 'float'},\n",
       "     'crs': 'EPSG:4326',\n",
       "     'crs_transform': [1, 0, 0, 0, 1, 0]}],\n",
       "   'properties': {'system:time_start': 1648684800000, 'system:index': '16'}}]}"
      ]
     },
     "execution_count": 110,
     "metadata": {},
     "output_type": "execute_result"
    }
   ],
   "source": [
    "test_start_date = ee.Date(d_10)\n",
    "test_end_date = ee.Date(d)\n",
    "sm_10days = sm_aggregated_daily.filterDate(test_start_date,test_end_date)\n",
    "# sm_10days.getInfo()"
   ]
  },
  {
   "cell_type": "code",
   "execution_count": 153,
   "id": "a480231d-dc46-4401-a07c-34c9cc6f7d22",
   "metadata": {
    "ExecuteTime": {
     "end_time": "2022-08-04T12:39:00.171719Z",
     "start_time": "2022-08-04T12:39:00.159161Z"
    }
   },
   "outputs": [],
   "source": [
    "# Get Values from GEE\n",
    "def add_values_point_data(img, ini):\n",
    "    \n",
    "    # type cast\n",
    "    initial_features = ee.FeatureCollection(ini)\n",
    "\n",
    "    # gets the values for the points in the current img\n",
    "    points_enriched = img.reduceRegions(collection=points_gee, reducer= ee.Reducer.first(), scale=10)  # .get(\"precipitation\")\n",
    "\n",
    "    # gets the date of the img\n",
    "    date = img.date().format('YYYY-MM-d')\n",
    "\n",
    "    # writes the date in each feature\n",
    "    points_with_date_addedd = points_enriched.map(lambda f: f.set(\"date\", date))\n",
    "\n",
    "    # merges the FeatureCollections\n",
    "    return initial_features.merge(points_with_date_addedd)\n",
    "\n",
    "# Empty Collection to fill\n",
    "ft = ee.FeatureCollection(ee.List([]))"
   ]
  },
  {
   "cell_type": "code",
   "execution_count": 112,
   "id": "3753a7d4",
   "metadata": {
    "ExecuteTime": {
     "end_time": "2022-08-04T12:14:58.029739Z",
     "start_time": "2022-08-04T12:14:58.013662Z"
    }
   },
   "outputs": [],
   "source": [
    "# Iterates over the ImageCollection\n",
    "ft_with_soil_moisture = ee.FeatureCollection(sm_10days.iterate(add_values_point_data, ft))"
   ]
  },
  {
   "cell_type": "code",
   "execution_count": 113,
   "id": "1697c19a",
   "metadata": {
    "ExecuteTime": {
     "end_time": "2022-08-04T12:15:12.092385Z",
     "start_time": "2022-08-04T12:15:05.363413Z"
    }
   },
   "outputs": [],
   "source": [
    "df_soil = fc2df(ft_with_soil_moisture)"
   ]
  },
  {
   "cell_type": "code",
   "execution_count": 114,
   "id": "aaa50c81",
   "metadata": {
    "ExecuteTime": {
     "end_time": "2022-08-04T12:15:19.445571Z",
     "start_time": "2022-08-04T12:15:19.414411Z"
    }
   },
   "outputs": [
    {
     "data": {
      "text/html": [
       "<div>\n",
       "<style scoped>\n",
       "    .dataframe tbody tr th:only-of-type {\n",
       "        vertical-align: middle;\n",
       "    }\n",
       "\n",
       "    .dataframe tbody tr th {\n",
       "        vertical-align: top;\n",
       "    }\n",
       "\n",
       "    .dataframe thead th {\n",
       "        text-align: right;\n",
       "    }\n",
       "</style>\n",
       "<table border=\"1\" class=\"dataframe\">\n",
       "  <thead>\n",
       "    <tr style=\"text-align: right;\">\n",
       "      <th></th>\n",
       "      <th>Unnamed: 0</th>\n",
       "      <th>country</th>\n",
       "      <th>date</th>\n",
       "      <th>district</th>\n",
       "      <th>first</th>\n",
       "      <th>hecatres_checked</th>\n",
       "      <th>id</th>\n",
       "      <th>lat</th>\n",
       "      <th>lon</th>\n",
       "      <th>number_scouting</th>\n",
       "      <th>perc_numeric</th>\n",
       "      <th>presence</th>\n",
       "      <th>region</th>\n",
       "      <th>scouting_plants_checked</th>\n",
       "      <th>scouting_plants_faw</th>\n",
       "      <th>sub_region</th>\n",
       "      <th>village</th>\n",
       "    </tr>\n",
       "  </thead>\n",
       "  <tbody>\n",
       "    <tr>\n",
       "      <th>0</th>\n",
       "      <td>433</td>\n",
       "      <td>Mozambique</td>\n",
       "      <td>2022-03-22</td>\n",
       "      <td>Sofala</td>\n",
       "      <td>213.857376</td>\n",
       "      <td>0.50</td>\n",
       "      <td>57564</td>\n",
       "      <td>-19.220543</td>\n",
       "      <td>33.963544</td>\n",
       "      <td>1</td>\n",
       "      <td>0.00</td>\n",
       "      <td>0</td>\n",
       "      <td>Africa</td>\n",
       "      <td>50</td>\n",
       "      <td>0</td>\n",
       "      <td>Sub-Saharan Africa</td>\n",
       "      <td>Siluvo Jasse</td>\n",
       "    </tr>\n",
       "    <tr>\n",
       "      <th>1</th>\n",
       "      <td>446</td>\n",
       "      <td>Mozambique</td>\n",
       "      <td>2022-03-22</td>\n",
       "      <td>Gaza Province</td>\n",
       "      <td>114.120621</td>\n",
       "      <td>0.50</td>\n",
       "      <td>72077</td>\n",
       "      <td>-24.249006</td>\n",
       "      <td>32.852342</td>\n",
       "      <td>1</td>\n",
       "      <td>1.00</td>\n",
       "      <td>1</td>\n",
       "      <td>Africa</td>\n",
       "      <td>50</td>\n",
       "      <td>50</td>\n",
       "      <td>Sub-Saharan Africa</td>\n",
       "      <td>Mpelane</td>\n",
       "    </tr>\n",
       "    <tr>\n",
       "      <th>2</th>\n",
       "      <td>485</td>\n",
       "      <td>Mozambique</td>\n",
       "      <td>2022-03-22</td>\n",
       "      <td>Gaza</td>\n",
       "      <td>99.907875</td>\n",
       "      <td>0.17</td>\n",
       "      <td>57665</td>\n",
       "      <td>-22.720097</td>\n",
       "      <td>31.881419</td>\n",
       "      <td>1</td>\n",
       "      <td>0.88</td>\n",
       "      <td>1</td>\n",
       "      <td>Africa</td>\n",
       "      <td>50</td>\n",
       "      <td>44</td>\n",
       "      <td>Sub-Saharan Africa</td>\n",
       "      <td>Mapuvule</td>\n",
       "    </tr>\n",
       "    <tr>\n",
       "      <th>3</th>\n",
       "      <td>518</td>\n",
       "      <td>Mozambique</td>\n",
       "      <td>2022-03-22</td>\n",
       "      <td>Maputo</td>\n",
       "      <td>243.238632</td>\n",
       "      <td>0.08</td>\n",
       "      <td>57643</td>\n",
       "      <td>-26.405225</td>\n",
       "      <td>32.647493</td>\n",
       "      <td>1</td>\n",
       "      <td>0.24</td>\n",
       "      <td>1</td>\n",
       "      <td>Africa</td>\n",
       "      <td>50</td>\n",
       "      <td>12</td>\n",
       "      <td>Sub-Saharan Africa</td>\n",
       "      <td>Missevene</td>\n",
       "    </tr>\n",
       "    <tr>\n",
       "      <th>4</th>\n",
       "      <td>527</td>\n",
       "      <td>Mozambique</td>\n",
       "      <td>2022-03-22</td>\n",
       "      <td>Gaza</td>\n",
       "      <td>99.907875</td>\n",
       "      <td>0.28</td>\n",
       "      <td>57668</td>\n",
       "      <td>-22.710001</td>\n",
       "      <td>31.844111</td>\n",
       "      <td>1</td>\n",
       "      <td>1.00</td>\n",
       "      <td>1</td>\n",
       "      <td>Africa</td>\n",
       "      <td>50</td>\n",
       "      <td>50</td>\n",
       "      <td>Sub-Saharan Africa</td>\n",
       "      <td>Mapuvule</td>\n",
       "    </tr>\n",
       "    <tr>\n",
       "      <th>...</th>\n",
       "      <td>...</td>\n",
       "      <td>...</td>\n",
       "      <td>...</td>\n",
       "      <td>...</td>\n",
       "      <td>...</td>\n",
       "      <td>...</td>\n",
       "      <td>...</td>\n",
       "      <td>...</td>\n",
       "      <td>...</td>\n",
       "      <td>...</td>\n",
       "      <td>...</td>\n",
       "      <td>...</td>\n",
       "      <td>...</td>\n",
       "      <td>...</td>\n",
       "      <td>...</td>\n",
       "      <td>...</td>\n",
       "      <td>...</td>\n",
       "    </tr>\n",
       "    <tr>\n",
       "      <th>145</th>\n",
       "      <td>650</td>\n",
       "      <td>Mozambique</td>\n",
       "      <td>2022-03-31</td>\n",
       "      <td>Sofala</td>\n",
       "      <td>239.155243</td>\n",
       "      <td>3.00</td>\n",
       "      <td>57547</td>\n",
       "      <td>-19.205275</td>\n",
       "      <td>33.960202</td>\n",
       "      <td>1</td>\n",
       "      <td>0.00</td>\n",
       "      <td>0</td>\n",
       "      <td>Africa</td>\n",
       "      <td>50</td>\n",
       "      <td>0</td>\n",
       "      <td>Sub-Saharan Africa</td>\n",
       "      <td>Siluvo Jasse</td>\n",
       "    </tr>\n",
       "    <tr>\n",
       "      <th>146</th>\n",
       "      <td>685</td>\n",
       "      <td>Mozambique</td>\n",
       "      <td>2022-03-31</td>\n",
       "      <td>Maputo</td>\n",
       "      <td>259.512115</td>\n",
       "      <td>0.24</td>\n",
       "      <td>57619</td>\n",
       "      <td>-26.499496</td>\n",
       "      <td>32.575097</td>\n",
       "      <td>1</td>\n",
       "      <td>0.74</td>\n",
       "      <td>1</td>\n",
       "      <td>Africa</td>\n",
       "      <td>50</td>\n",
       "      <td>37</td>\n",
       "      <td>Sub-Saharan Africa</td>\n",
       "      <td>tinonganine</td>\n",
       "    </tr>\n",
       "    <tr>\n",
       "      <th>147</th>\n",
       "      <td>701</td>\n",
       "      <td>Mozambique</td>\n",
       "      <td>2022-03-31</td>\n",
       "      <td>Manica</td>\n",
       "      <td>239.704376</td>\n",
       "      <td>0.50</td>\n",
       "      <td>57559</td>\n",
       "      <td>-19.250268</td>\n",
       "      <td>33.923982</td>\n",
       "      <td>1</td>\n",
       "      <td>0.00</td>\n",
       "      <td>0</td>\n",
       "      <td>Africa</td>\n",
       "      <td>50</td>\n",
       "      <td>0</td>\n",
       "      <td>Sub-Saharan Africa</td>\n",
       "      <td>Siluvo Jasse</td>\n",
       "    </tr>\n",
       "    <tr>\n",
       "      <th>148</th>\n",
       "      <td>711</td>\n",
       "      <td>Mozambique</td>\n",
       "      <td>2022-03-31</td>\n",
       "      <td>Gaza</td>\n",
       "      <td>105.824997</td>\n",
       "      <td>1.00</td>\n",
       "      <td>57666</td>\n",
       "      <td>-22.841173</td>\n",
       "      <td>31.977058</td>\n",
       "      <td>1</td>\n",
       "      <td>0.88</td>\n",
       "      <td>1</td>\n",
       "      <td>Africa</td>\n",
       "      <td>50</td>\n",
       "      <td>44</td>\n",
       "      <td>Sub-Saharan Africa</td>\n",
       "      <td>Mapuvule</td>\n",
       "    </tr>\n",
       "    <tr>\n",
       "      <th>149</th>\n",
       "      <td>716</td>\n",
       "      <td>Mozambique</td>\n",
       "      <td>2022-03-31</td>\n",
       "      <td>Sofala</td>\n",
       "      <td>232.296753</td>\n",
       "      <td>0.50</td>\n",
       "      <td>57565</td>\n",
       "      <td>-19.238792</td>\n",
       "      <td>34.032775</td>\n",
       "      <td>1</td>\n",
       "      <td>0.00</td>\n",
       "      <td>0</td>\n",
       "      <td>Africa</td>\n",
       "      <td>50</td>\n",
       "      <td>0</td>\n",
       "      <td>Sub-Saharan Africa</td>\n",
       "      <td>Siluvo Jasse</td>\n",
       "    </tr>\n",
       "  </tbody>\n",
       "</table>\n",
       "<p>150 rows × 17 columns</p>\n",
       "</div>"
      ],
      "text/plain": [
       "     Unnamed: 0     country        date       district       first  \\\n",
       "0           433  Mozambique  2022-03-22         Sofala  213.857376   \n",
       "1           446  Mozambique  2022-03-22  Gaza Province  114.120621   \n",
       "2           485  Mozambique  2022-03-22           Gaza   99.907875   \n",
       "3           518  Mozambique  2022-03-22         Maputo  243.238632   \n",
       "4           527  Mozambique  2022-03-22           Gaza   99.907875   \n",
       "..          ...         ...         ...            ...         ...   \n",
       "145         650  Mozambique  2022-03-31         Sofala  239.155243   \n",
       "146         685  Mozambique  2022-03-31         Maputo  259.512115   \n",
       "147         701  Mozambique  2022-03-31         Manica  239.704376   \n",
       "148         711  Mozambique  2022-03-31           Gaza  105.824997   \n",
       "149         716  Mozambique  2022-03-31         Sofala  232.296753   \n",
       "\n",
       "     hecatres_checked     id        lat        lon  number_scouting  \\\n",
       "0                0.50  57564 -19.220543  33.963544                1   \n",
       "1                0.50  72077 -24.249006  32.852342                1   \n",
       "2                0.17  57665 -22.720097  31.881419                1   \n",
       "3                0.08  57643 -26.405225  32.647493                1   \n",
       "4                0.28  57668 -22.710001  31.844111                1   \n",
       "..                ...    ...        ...        ...              ...   \n",
       "145              3.00  57547 -19.205275  33.960202                1   \n",
       "146              0.24  57619 -26.499496  32.575097                1   \n",
       "147              0.50  57559 -19.250268  33.923982                1   \n",
       "148              1.00  57666 -22.841173  31.977058                1   \n",
       "149              0.50  57565 -19.238792  34.032775                1   \n",
       "\n",
       "     perc_numeric  presence  region  scouting_plants_checked  \\\n",
       "0            0.00         0  Africa                       50   \n",
       "1            1.00         1  Africa                       50   \n",
       "2            0.88         1  Africa                       50   \n",
       "3            0.24         1  Africa                       50   \n",
       "4            1.00         1  Africa                       50   \n",
       "..            ...       ...     ...                      ...   \n",
       "145          0.00         0  Africa                       50   \n",
       "146          0.74         1  Africa                       50   \n",
       "147          0.00         0  Africa                       50   \n",
       "148          0.88         1  Africa                       50   \n",
       "149          0.00         0  Africa                       50   \n",
       "\n",
       "     scouting_plants_faw          sub_region       village  \n",
       "0                      0  Sub-Saharan Africa  Siluvo Jasse  \n",
       "1                     50  Sub-Saharan Africa       Mpelane  \n",
       "2                     44  Sub-Saharan Africa      Mapuvule  \n",
       "3                     12  Sub-Saharan Africa     Missevene  \n",
       "4                     50  Sub-Saharan Africa      Mapuvule  \n",
       "..                   ...                 ...           ...  \n",
       "145                    0  Sub-Saharan Africa  Siluvo Jasse  \n",
       "146                   37  Sub-Saharan Africa   tinonganine  \n",
       "147                    0  Sub-Saharan Africa  Siluvo Jasse  \n",
       "148                   44  Sub-Saharan Africa      Mapuvule  \n",
       "149                    0  Sub-Saharan Africa  Siluvo Jasse  \n",
       "\n",
       "[150 rows x 17 columns]"
      ]
     },
     "execution_count": 114,
     "metadata": {},
     "output_type": "execute_result"
    }
   ],
   "source": [
    "df_soil"
   ]
  },
  {
   "cell_type": "code",
   "execution_count": 115,
   "id": "b0d7e9fd",
   "metadata": {
    "ExecuteTime": {
     "end_time": "2022-08-04T12:15:27.079427Z",
     "start_time": "2022-08-04T12:15:27.063849Z"
    }
   },
   "outputs": [
    {
     "data": {
      "text/plain": [
       "id\n",
       "57547    229.327190\n",
       "57553    238.052115\n",
       "57559    230.529816\n",
       "57564    229.327190\n",
       "57565    238.052115\n",
       "57619    254.992676\n",
       "57643    254.992676\n",
       "57665    102.485654\n",
       "57666    105.707890\n",
       "57667    102.485654\n",
       "57668    102.485654\n",
       "57669    102.485654\n",
       "57681    193.920689\n",
       "72077    126.801028\n",
       "72078    126.801028\n",
       "Name: first, dtype: float64"
      ]
     },
     "execution_count": 115,
     "metadata": {},
     "output_type": "execute_result"
    }
   ],
   "source": [
    "df_soil_10days_mean = df_soil.groupby('id').mean()['first']\n",
    "df_soil_10days_mean"
   ]
  },
  {
   "cell_type": "code",
   "execution_count": 103,
   "id": "d0037b59-4bef-4681-83c7-5cc84b610786",
   "metadata": {
    "ExecuteTime": {
     "end_time": "2022-08-04T12:12:44.204596Z",
     "start_time": "2022-08-04T12:12:42.984855Z"
    }
   },
   "outputs": [
    {
     "data": {
      "text/html": [
       "<div>\n",
       "<style scoped>\n",
       "    .dataframe tbody tr th:only-of-type {\n",
       "        vertical-align: middle;\n",
       "    }\n",
       "\n",
       "    .dataframe tbody tr th {\n",
       "        vertical-align: top;\n",
       "    }\n",
       "\n",
       "    .dataframe thead th {\n",
       "        text-align: right;\n",
       "    }\n",
       "</style>\n",
       "<table border=\"1\" class=\"dataframe\">\n",
       "  <thead>\n",
       "    <tr style=\"text-align: right;\">\n",
       "      <th></th>\n",
       "      <th>geometry</th>\n",
       "      <th>Unnamed: 0</th>\n",
       "      <th>country</th>\n",
       "      <th>date</th>\n",
       "      <th>district</th>\n",
       "      <th>first</th>\n",
       "      <th>hecatres_checked</th>\n",
       "      <th>id</th>\n",
       "      <th>lat</th>\n",
       "      <th>lon</th>\n",
       "      <th>number_scouting</th>\n",
       "      <th>perc_numeric</th>\n",
       "      <th>presence</th>\n",
       "      <th>region</th>\n",
       "      <th>scouting_plants_checked</th>\n",
       "      <th>scouting_plants_faw</th>\n",
       "      <th>sub_region</th>\n",
       "      <th>village</th>\n",
       "    </tr>\n",
       "  </thead>\n",
       "  <tbody>\n",
       "    <tr>\n",
       "      <th>0</th>\n",
       "      <td>POINT (35.05289 -22.19468)</td>\n",
       "      <td>426</td>\n",
       "      <td>Mozambique</td>\n",
       "      <td>2022-05-1</td>\n",
       "      <td>Inhambane Province</td>\n",
       "      <td>168.459122</td>\n",
       "      <td>1</td>\n",
       "      <td>70433</td>\n",
       "      <td>-22.194675</td>\n",
       "      <td>35.052885</td>\n",
       "      <td>1</td>\n",
       "      <td>0.68</td>\n",
       "      <td>1</td>\n",
       "      <td>Africa</td>\n",
       "      <td>50</td>\n",
       "      <td>34</td>\n",
       "      <td>Sub-Saharan Africa</td>\n",
       "      <td>Mulungo</td>\n",
       "    </tr>\n",
       "    <tr>\n",
       "      <th>1</th>\n",
       "      <td>POINT (35.11364 -22.16592)</td>\n",
       "      <td>479</td>\n",
       "      <td>Mozambique</td>\n",
       "      <td>2022-05-1</td>\n",
       "      <td>Inhambane Province</td>\n",
       "      <td>168.459122</td>\n",
       "      <td>1</td>\n",
       "      <td>70525</td>\n",
       "      <td>-22.165918</td>\n",
       "      <td>35.113640</td>\n",
       "      <td>1</td>\n",
       "      <td>0.36</td>\n",
       "      <td>1</td>\n",
       "      <td>Africa</td>\n",
       "      <td>50</td>\n",
       "      <td>18</td>\n",
       "      <td>Sub-Saharan Africa</td>\n",
       "      <td>Machengue</td>\n",
       "    </tr>\n",
       "    <tr>\n",
       "      <th>2</th>\n",
       "      <td>POINT (35.15111 -22.06440)</td>\n",
       "      <td>578</td>\n",
       "      <td>Mozambique</td>\n",
       "      <td>2022-05-1</td>\n",
       "      <td>Inhambane Province</td>\n",
       "      <td>168.459122</td>\n",
       "      <td>1</td>\n",
       "      <td>70526</td>\n",
       "      <td>-22.064395</td>\n",
       "      <td>35.151113</td>\n",
       "      <td>1</td>\n",
       "      <td>0.30</td>\n",
       "      <td>1</td>\n",
       "      <td>Africa</td>\n",
       "      <td>50</td>\n",
       "      <td>15</td>\n",
       "      <td>Sub-Saharan Africa</td>\n",
       "      <td>Machengue</td>\n",
       "    </tr>\n",
       "    <tr>\n",
       "      <th>3</th>\n",
       "      <td>POINT (35.05289 -22.19468)</td>\n",
       "      <td>426</td>\n",
       "      <td>Mozambique</td>\n",
       "      <td>2022-05-2</td>\n",
       "      <td>Inhambane Province</td>\n",
       "      <td>168.067871</td>\n",
       "      <td>1</td>\n",
       "      <td>70433</td>\n",
       "      <td>-22.194675</td>\n",
       "      <td>35.052885</td>\n",
       "      <td>1</td>\n",
       "      <td>0.68</td>\n",
       "      <td>1</td>\n",
       "      <td>Africa</td>\n",
       "      <td>50</td>\n",
       "      <td>34</td>\n",
       "      <td>Sub-Saharan Africa</td>\n",
       "      <td>Mulungo</td>\n",
       "    </tr>\n",
       "    <tr>\n",
       "      <th>4</th>\n",
       "      <td>POINT (35.11364 -22.16592)</td>\n",
       "      <td>479</td>\n",
       "      <td>Mozambique</td>\n",
       "      <td>2022-05-2</td>\n",
       "      <td>Inhambane Province</td>\n",
       "      <td>168.067871</td>\n",
       "      <td>1</td>\n",
       "      <td>70525</td>\n",
       "      <td>-22.165918</td>\n",
       "      <td>35.113640</td>\n",
       "      <td>1</td>\n",
       "      <td>0.36</td>\n",
       "      <td>1</td>\n",
       "      <td>Africa</td>\n",
       "      <td>50</td>\n",
       "      <td>18</td>\n",
       "      <td>Sub-Saharan Africa</td>\n",
       "      <td>Machengue</td>\n",
       "    </tr>\n",
       "  </tbody>\n",
       "</table>\n",
       "</div>"
      ],
      "text/plain": [
       "                     geometry  Unnamed: 0     country       date  \\\n",
       "0  POINT (35.05289 -22.19468)         426  Mozambique  2022-05-1   \n",
       "1  POINT (35.11364 -22.16592)         479  Mozambique  2022-05-1   \n",
       "2  POINT (35.15111 -22.06440)         578  Mozambique  2022-05-1   \n",
       "3  POINT (35.05289 -22.19468)         426  Mozambique  2022-05-2   \n",
       "4  POINT (35.11364 -22.16592)         479  Mozambique  2022-05-2   \n",
       "\n",
       "             district       first  hecatres_checked     id        lat  \\\n",
       "0  Inhambane Province  168.459122                 1  70433 -22.194675   \n",
       "1  Inhambane Province  168.459122                 1  70525 -22.165918   \n",
       "2  Inhambane Province  168.459122                 1  70526 -22.064395   \n",
       "3  Inhambane Province  168.067871                 1  70433 -22.194675   \n",
       "4  Inhambane Province  168.067871                 1  70525 -22.165918   \n",
       "\n",
       "         lon  number_scouting  perc_numeric  presence  region  \\\n",
       "0  35.052885                1          0.68         1  Africa   \n",
       "1  35.113640                1          0.36         1  Africa   \n",
       "2  35.151113                1          0.30         1  Africa   \n",
       "3  35.052885                1          0.68         1  Africa   \n",
       "4  35.113640                1          0.36         1  Africa   \n",
       "\n",
       "   scouting_plants_checked  scouting_plants_faw          sub_region    village  \n",
       "0                       50                   34  Sub-Saharan Africa    Mulungo  \n",
       "1                       50                   18  Sub-Saharan Africa  Machengue  \n",
       "2                       50                   15  Sub-Saharan Africa  Machengue  \n",
       "3                       50                   34  Sub-Saharan Africa    Mulungo  \n",
       "4                       50                   18  Sub-Saharan Africa  Machengue  "
      ]
     },
     "execution_count": 103,
     "metadata": {},
     "output_type": "execute_result"
    }
   ],
   "source": [
    "# gdf = geemap.ee_to_geopandas(ft_with_soil_moisture, selectors=['id', 'country'])\n",
    "# gdf.head()"
   ]
  },
  {
   "cell_type": "code",
   "execution_count": 200,
   "id": "cd0c2789",
   "metadata": {
    "ExecuteTime": {
     "end_time": "2022-08-04T13:08:12.150974Z",
     "start_time": "2022-08-04T13:08:12.138920Z"
    }
   },
   "outputs": [],
   "source": [
    "# drop_cols = [col for col in df_soil.columns if col not in ['id','country','village','district','perc_numeric','date','presence','lat','lon']]\n",
    "# drop_cols\n",
    "# sm_df = pd.DataFrame(data=None, columns=df_soil.columns) #, index=df_soil.index)\n",
    "# sm_df.drop(columns=drop_cols,inplace=True)\n",
    "# sm_df"
   ]
  },
  {
   "cell_type": "code",
   "execution_count": 203,
   "id": "da36eb98",
   "metadata": {
    "ExecuteTime": {
     "end_time": "2022-08-04T13:10:31.657716Z",
     "start_time": "2022-08-04T13:10:31.643657Z"
    }
   },
   "outputs": [],
   "source": [
    "def get_sm_for_day(key_date):\n",
    "    daily_group = df_grp_by_date.get_group(key_date)[['id','country','village','district','perc_numeric','date','presence','lat','lon']] #'geometry',\n",
    "#     print(key_date)\n",
    "#     print(daily_group.isna().sum())\n",
    "#     print(daily_group)\n",
    "    global points_gee\n",
    "    points_gee = geemap.pandas_to_ee(daily_group, latitude=\"lat\", longitude=\"lon\")\n",
    "#     points_gee = eec.gdfToFc(daily_group)\n",
    "#     points_gee.getInfo()\n",
    "    d = datetime.strptime(key_date, '%Y-%m-%d')\n",
    "    d_10 = d-timedelta(days=10)\n",
    "#     print(d,d_10)\n",
    "    start_date_10days_window = ee.Date(d_10)\n",
    "    end_date_10days_window = ee.Date(d)\n",
    "    sm_10days = sm_aggregated_daily.filterDate(start_date_10days_window,end_date_10days_window)\n",
    "#     print(sm_10days.getInfo())\n",
    "#     # Iterates over the ImageCollection\n",
    "    ft = ee.FeatureCollection(ee.List([]))\n",
    "    ft_with_soil_moisture = ee.FeatureCollection(sm_10days.iterate(add_values_point_data, ft))\n",
    "    daily_df_soil_values = fc2df(ft_with_soil_moisture)\n",
    "    daily_df_soil_values.to_sql('sm', engine, if_exists='append')\n",
    "#     print(daily_df_soil_values.dtypes)\n",
    "#     sm_df.append(daily_df_soil_values)\n",
    "#     return df_soil"
   ]
  },
  {
   "cell_type": "code",
   "execution_count": 204,
   "id": "4f124692",
   "metadata": {
    "ExecuteTime": {
     "end_time": "2022-08-04T13:10:39.211934Z",
     "start_time": "2022-08-04T13:10:39.198425Z"
    }
   },
   "outputs": [],
   "source": [
    "# for daily_label,daily_values in df_grp_by_date: \n",
    "# #     enrich_daily_group(ds_chirps_daily,daily_label,daily_values,tbl_name='precipitation')\n",
    "# #     enrich_daily_group(ds_max_min,daily_label,daily_values,tbl_name='temperatures')\n",
    "#     # enrich_daily_group(ds_soil_moisture_2020,daily_label,daily_values,tbl_name='soil_moisture')\n",
    "# #     enrich_daily_group(ds_fcover, daily_label, daily_values, tbl_name='fcover')\n",
    "#     print(daily_label)    "
   ]
  },
  {
   "cell_type": "code",
   "execution_count": 205,
   "id": "ca332105-483a-4c28-812e-e0180f924f0a",
   "metadata": {
    "ExecuteTime": {
     "end_time": "2022-08-04T13:11:11.560010Z",
     "start_time": "2022-08-04T13:10:46.605158Z"
    }
   },
   "outputs": [],
   "source": [
    "for key_date in df_grp_by_date.groups.keys():\n",
    "    get_sm_for_day(key_date)"
   ]
  },
  {
   "cell_type": "code",
   "execution_count": null,
   "id": "d8c82b3b-4f99-44f7-94d4-dd8246d2b873",
   "metadata": {
    "ExecuteTime": {
     "end_time": "2022-08-04T10:53:53.228494Z",
     "start_time": "2022-08-04T10:53:53.228494Z"
    }
   },
   "outputs": [],
   "source": [
    "# df_soil.sort_values(['id','date'])\n",
    "df_soil.dtypes"
   ]
  },
  {
   "cell_type": "code",
   "execution_count": null,
   "id": "9054fabf",
   "metadata": {
    "ExecuteTime": {
     "end_time": "2022-08-04T10:53:53.229496Z",
     "start_time": "2022-08-04T10:53:53.229496Z"
    }
   },
   "outputs": [],
   "source": [
    "# df_soil.country.unique()"
   ]
  },
  {
   "cell_type": "code",
   "execution_count": null,
   "id": "c5b7c261-6977-485f-9f50-cf54d412edb9",
   "metadata": {
    "ExecuteTime": {
     "end_time": "2022-08-04T10:53:53.231494Z",
     "start_time": "2022-08-04T10:53:53.231494Z"
    }
   },
   "outputs": [],
   "source": [
    "# alt.Chart(df_soil).mark_bar().encode(\n",
    "#     x='country:N',\n",
    "#     y='SoilMoi0_10cm_inst:Q',\n",
    "# )"
   ]
  },
  {
   "cell_type": "code",
   "execution_count": null,
   "id": "4172a43f-3db7-47f3-aaeb-115020ccc4e5",
   "metadata": {
    "ExecuteTime": {
     "end_time": "2022-08-04T10:53:53.233493Z",
     "start_time": "2022-08-04T10:53:53.233493Z"
    }
   },
   "outputs": [],
   "source": [
    "alt.Chart(df_soil).mark_trail(point=True).encode(\n",
    "    x='date:T',\n",
    "    y='SoilMoi0_10cm_inst:Q',\n",
    "    color='country:N',\n",
    "    size='SoilMoi0_10cm_inst:Q'\n",
    ").properties(\n",
    "    width=650,\n",
    "    height=350\n",
    ")"
   ]
  },
  {
   "cell_type": "code",
   "execution_count": null,
   "id": "cb792979-9171-4c1a-b19e-f186286845a2",
   "metadata": {
    "ExecuteTime": {
     "end_time": "2022-08-04T10:53:53.234494Z",
     "start_time": "2022-08-04T10:53:53.234494Z"
    }
   },
   "outputs": [],
   "source": [
    "alt.Chart(df_soil).mark_boxplot().encode(\n",
    "    x='country:N',\n",
    "    y='average(SoilMoi0_10cm_inst)',    \n",
    ").properties(\n",
    "    width=650,\n",
    "    height=350\n",
    ")"
   ]
  },
  {
   "cell_type": "markdown",
   "id": "af42568b-0d47-43d0-afae-e375e55900c5",
   "metadata": {},
   "source": [
    "# PROBA-V C1 Top Of Canopy Daily Synthesis 100m\n",
    "## var dataset = ee.ImageCollection('VITO/PROBAV/C1/S1_TOC_100M')"
   ]
  },
  {
   "cell_type": "markdown",
   "id": "93804ade-4f2a-40cd-8ed3-c94161e6438f",
   "metadata": {},
   "source": [
    "|Name |Units |Wavelength |Description|\n",
    "|----|----|----|----|\n",
    "|RED |\t658nm, FWHM: 82nm |Top of canopy reflectance RED channel|\n",
    "|NIR |\t834nm, FWHM: 121nm |Top of canopy reflectance NIR channel|\n",
    "|BLUE |\t460nm, FWHM: 42nm |Top of canopy reflectance BLUE channel|\n",
    "|SWIR |\t1610nm, FWHM: 89nm |Top of canopy reflectance SWIR channel|\n",
    "|NDVI |\t|Normalized Difference Vegetation Index|"
   ]
  },
  {
   "cell_type": "code",
   "execution_count": null,
   "id": "88cfb106-dd53-4735-8867-3c7debe504fe",
   "metadata": {
    "ExecuteTime": {
     "end_time": "2022-08-04T10:53:53.244489Z",
     "start_time": "2022-08-04T10:53:53.244489Z"
    }
   },
   "outputs": [],
   "source": [
    "startDate = ee.Date('2022-01-01')\n",
    "endDate = ee.Date('2022-01-10')\n",
    "\n",
    "collection_PROBAV_NDVI = ee.ImageCollection(\"VITO/PROBAV/C1/S1_TOC_100M\").filterDate(first_day_period_s, last_day_period_s).select('NDVI')"
   ]
  },
  {
   "cell_type": "code",
   "execution_count": null,
   "id": "6170fa43-fa36-4990-8650-a482afea1593",
   "metadata": {
    "ExecuteTime": {
     "end_time": "2022-08-04T10:53:53.246493Z",
     "start_time": "2022-08-04T10:53:53.246493Z"
    }
   },
   "outputs": [],
   "source": [
    "# collection_PROBAV_NDVI.getInfo()\n",
    "band_first_image_NDVI = collection_PROBAV_NDVI.first()\n",
    "visualization_ndvi = {'min': -1, 'max': 1, 'dimensions': 512, 'palette': ['006633', 'E5FFCC', '662A00', 'D8D8D8', 'F5F5F5']}"
   ]
  },
  {
   "cell_type": "code",
   "execution_count": null,
   "id": "d7d5a821-daa6-4c4c-969a-8c23eb09f66b",
   "metadata": {
    "ExecuteTime": {
     "end_time": "2022-08-04T10:53:53.248494Z",
     "start_time": "2022-08-04T10:53:53.248494Z"
    }
   },
   "outputs": [],
   "source": [
    "Image(url = band_first_image_NDVI.getThumbURL(visualization_ndvi))"
   ]
  },
  {
   "cell_type": "code",
   "execution_count": null,
   "id": "5c9fc0dd-8105-43c1-9b74-adfd7adba89c",
   "metadata": {},
   "outputs": [],
   "source": []
  }
 ],
 "metadata": {
  "hide_input": false,
  "kernelspec": {
   "display_name": "Python 3 (ipykernel)",
   "language": "python",
   "name": "python3"
  },
  "language_info": {
   "codemirror_mode": {
    "name": "ipython",
    "version": 3
   },
   "file_extension": ".py",
   "mimetype": "text/x-python",
   "name": "python",
   "nbconvert_exporter": "python",
   "pygments_lexer": "ipython3",
   "version": "3.9.13"
  },
  "toc": {
   "base_numbering": 1,
   "nav_menu": {},
   "number_sections": true,
   "sideBar": true,
   "skip_h1_title": false,
   "title_cell": "Table of Contents",
   "title_sidebar": "Contents",
   "toc_cell": false,
   "toc_position": {},
   "toc_section_display": true,
   "toc_window_display": false
  },
  "toc-autonumbering": true,
  "toc-showmarkdowntxt": true,
  "varInspector": {
   "cols": {
    "lenName": 16,
    "lenType": 16,
    "lenVar": 40
   },
   "kernels_config": {
    "python": {
     "delete_cmd_postfix": "",
     "delete_cmd_prefix": "del ",
     "library": "var_list.py",
     "varRefreshCmd": "print(var_dic_list())"
    },
    "r": {
     "delete_cmd_postfix": ") ",
     "delete_cmd_prefix": "rm(",
     "library": "var_list.r",
     "varRefreshCmd": "cat(var_dic_list()) "
    }
   },
   "position": {
    "height": "493.85px",
    "left": "982px",
    "right": "20px",
    "top": "72px",
    "width": "792px"
   },
   "types_to_exclude": [
    "module",
    "function",
    "builtin_function_or_method",
    "instance",
    "_Feature"
   ],
   "window_display": false
  }
 },
 "nbformat": 4,
 "nbformat_minor": 5
}
